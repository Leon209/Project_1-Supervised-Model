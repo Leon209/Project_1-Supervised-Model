{
 "cells": [
  {
   "cell_type": "markdown",
   "metadata": {},
   "source": [
    "<h2>Imports<h2>"
   ]
  },
  {
   "cell_type": "code",
   "execution_count": 55,
   "metadata": {},
   "outputs": [],
   "source": [
    "import pandas as pd\n",
    "import matplotlib.pyplot as plt\n",
    "%matplotlib inline\n",
    "import seaborn as sns\n",
    "from pathlib import Path"
   ]
  },
  {
   "cell_type": "markdown",
   "metadata": {},
   "source": [
    "<p>Reading the document<p>"
   ]
  },
  {
   "cell_type": "code",
   "execution_count": 56,
   "metadata": {},
   "outputs": [],
   "source": [
    "#Open Excel files with different extensions\n",
    "filename = 'train.csv'\n",
    "file_path = Path(filename)\n",
    "file_extension = file_path.suffix.lower()[1:]\n",
    "\n",
    "if file_extension == 'xlsx':\n",
    "    d = pd.read_excel(file_path, engine='openpyxl')\n",
    "    data = d.copy()\n",
    "elif file_extension == 'xls':\n",
    "    d = pd.read_excel(file_path)\n",
    "    data = d.copy()\n",
    "elif file_extension == 'csv':\n",
    "    d = pd.read_csv(file_path, delimiter=\";\")\n",
    "    data = d.copy()\n",
    "else:\n",
    "    raise Exception(\"File not supported\")\n"
   ]
  },
  {
   "cell_type": "markdown",
   "metadata": {},
   "source": [
    "<h3>Data Head<h3>"
   ]
  },
  {
   "cell_type": "code",
   "execution_count": 57,
   "metadata": {},
   "outputs": [
    {
     "data": {
      "text/html": [
       "<div>\n",
       "<style scoped>\n",
       "    .dataframe tbody tr th:only-of-type {\n",
       "        vertical-align: middle;\n",
       "    }\n",
       "\n",
       "    .dataframe tbody tr th {\n",
       "        vertical-align: top;\n",
       "    }\n",
       "\n",
       "    .dataframe thead th {\n",
       "        text-align: right;\n",
       "    }\n",
       "</style>\n",
       "<table border=\"1\" class=\"dataframe\">\n",
       "  <thead>\n",
       "    <tr style=\"text-align: right;\">\n",
       "      <th></th>\n",
       "      <th>Cust_ID</th>\n",
       "      <th>Churn</th>\n",
       "      <th>Name</th>\n",
       "      <th>Longevity</th>\n",
       "      <th>Year_Birth</th>\n",
       "      <th>TypeTravel</th>\n",
       "      <th>RoomType</th>\n",
       "      <th>RewardPoints</th>\n",
       "      <th>Comfort</th>\n",
       "      <th>ReceptionSchedule</th>\n",
       "      <th>...</th>\n",
       "      <th>Wifi</th>\n",
       "      <th>Amenities</th>\n",
       "      <th>Staff</th>\n",
       "      <th>OnlineBooking</th>\n",
       "      <th>PriceQuality</th>\n",
       "      <th>RoomSpace</th>\n",
       "      <th>CheckOut</th>\n",
       "      <th>Checkin</th>\n",
       "      <th>Cleanliness</th>\n",
       "      <th>BarService</th>\n",
       "    </tr>\n",
       "  </thead>\n",
       "  <tbody>\n",
       "    <tr>\n",
       "      <th>0</th>\n",
       "      <td>1</td>\n",
       "      <td>churn</td>\n",
       "      <td>Ms. Nicole Clarke</td>\n",
       "      <td>yes</td>\n",
       "      <td>1974.0</td>\n",
       "      <td>business</td>\n",
       "      <td>single</td>\n",
       "      <td>4907</td>\n",
       "      <td>3</td>\n",
       "      <td>4</td>\n",
       "      <td>...</td>\n",
       "      <td>4</td>\n",
       "      <td>3</td>\n",
       "      <td>4</td>\n",
       "      <td>3</td>\n",
       "      <td>3</td>\n",
       "      <td>3</td>\n",
       "      <td>3</td>\n",
       "      <td>4</td>\n",
       "      <td>3</td>\n",
       "      <td>4</td>\n",
       "    </tr>\n",
       "    <tr>\n",
       "      <th>1</th>\n",
       "      <td>2</td>\n",
       "      <td>nochurn</td>\n",
       "      <td>Mr. Jesse Scott</td>\n",
       "      <td>yes</td>\n",
       "      <td>1965.0</td>\n",
       "      <td>business</td>\n",
       "      <td>single</td>\n",
       "      <td>6724</td>\n",
       "      <td>1</td>\n",
       "      <td>1</td>\n",
       "      <td>...</td>\n",
       "      <td>5</td>\n",
       "      <td>3</td>\n",
       "      <td>4</td>\n",
       "      <td>5</td>\n",
       "      <td>5</td>\n",
       "      <td>5</td>\n",
       "      <td>5</td>\n",
       "      <td>1</td>\n",
       "      <td>5</td>\n",
       "      <td>2</td>\n",
       "    </tr>\n",
       "    <tr>\n",
       "      <th>2</th>\n",
       "      <td>3</td>\n",
       "      <td>churn</td>\n",
       "      <td>Mr. Christopher Carter</td>\n",
       "      <td>yes</td>\n",
       "      <td>1973.0</td>\n",
       "      <td>business</td>\n",
       "      <td>single</td>\n",
       "      <td>4365</td>\n",
       "      <td>3</td>\n",
       "      <td>3</td>\n",
       "      <td>...</td>\n",
       "      <td>1</td>\n",
       "      <td>4</td>\n",
       "      <td>4</td>\n",
       "      <td>3</td>\n",
       "      <td>3</td>\n",
       "      <td>2</td>\n",
       "      <td>3</td>\n",
       "      <td>2</td>\n",
       "      <td>3</td>\n",
       "      <td>1</td>\n",
       "    </tr>\n",
       "    <tr>\n",
       "      <th>3</th>\n",
       "      <td>4</td>\n",
       "      <td>nochurn</td>\n",
       "      <td>Ms. Jennifer Morgan</td>\n",
       "      <td>yes</td>\n",
       "      <td>1993.0</td>\n",
       "      <td>leisure</td>\n",
       "      <td>double</td>\n",
       "      <td>3849</td>\n",
       "      <td>1</td>\n",
       "      <td>1</td>\n",
       "      <td>...</td>\n",
       "      <td>4</td>\n",
       "      <td>4</td>\n",
       "      <td>5</td>\n",
       "      <td>4</td>\n",
       "      <td>4</td>\n",
       "      <td>4</td>\n",
       "      <td>4</td>\n",
       "      <td>4</td>\n",
       "      <td>4</td>\n",
       "      <td>3</td>\n",
       "    </tr>\n",
       "    <tr>\n",
       "      <th>4</th>\n",
       "      <td>5</td>\n",
       "      <td>nochurn</td>\n",
       "      <td>Mr. Michael White</td>\n",
       "      <td>yes</td>\n",
       "      <td>1989.0</td>\n",
       "      <td>business</td>\n",
       "      <td>single</td>\n",
       "      <td>5376</td>\n",
       "      <td>2</td>\n",
       "      <td>2</td>\n",
       "      <td>...</td>\n",
       "      <td>5</td>\n",
       "      <td>5</td>\n",
       "      <td>5</td>\n",
       "      <td>5</td>\n",
       "      <td>5</td>\n",
       "      <td>3</td>\n",
       "      <td>4</td>\n",
       "      <td>1</td>\n",
       "      <td>3</td>\n",
       "      <td>5</td>\n",
       "    </tr>\n",
       "  </tbody>\n",
       "</table>\n",
       "<p>5 rows × 22 columns</p>\n",
       "</div>"
      ],
      "text/plain": [
       "   Cust_ID    Churn                    Name Longevity  Year_Birth TypeTravel  \\\n",
       "0        1    churn       Ms. Nicole Clarke       yes      1974.0   business   \n",
       "1        2  nochurn         Mr. Jesse Scott       yes      1965.0   business   \n",
       "2        3    churn  Mr. Christopher Carter       yes      1973.0   business   \n",
       "3        4  nochurn     Ms. Jennifer Morgan       yes      1993.0    leisure   \n",
       "4        5  nochurn       Mr. Michael White       yes      1989.0   business   \n",
       "\n",
       "  RoomType  RewardPoints  Comfort  ReceptionSchedule  ...  Wifi  Amenities  \\\n",
       "0   single          4907        3                  4  ...     4          3   \n",
       "1   single          6724        1                  1  ...     5          3   \n",
       "2   single          4365        3                  3  ...     1          4   \n",
       "3   double          3849        1                  1  ...     4          4   \n",
       "4   single          5376        2                  2  ...     5          5   \n",
       "\n",
       "   Staff  OnlineBooking  PriceQuality  RoomSpace  CheckOut  Checkin  \\\n",
       "0      4              3             3          3         3        4   \n",
       "1      4              5             5          5         5        1   \n",
       "2      4              3             3          2         3        2   \n",
       "3      5              4             4          4         4        4   \n",
       "4      5              5             5          3         4        1   \n",
       "\n",
       "   Cleanliness  BarService  \n",
       "0            3           4  \n",
       "1            5           2  \n",
       "2            3           1  \n",
       "3            4           3  \n",
       "4            3           5  \n",
       "\n",
       "[5 rows x 22 columns]"
      ]
     },
     "execution_count": 57,
     "metadata": {},
     "output_type": "execute_result"
    }
   ],
   "source": [
    "data.head()"
   ]
  },
  {
   "cell_type": "markdown",
   "metadata": {},
   "source": [
    "<h3>Data Info<h3>"
   ]
  },
  {
   "cell_type": "code",
   "execution_count": 58,
   "metadata": {},
   "outputs": [
    {
     "name": "stdout",
     "output_type": "stream",
     "text": [
      "<class 'pandas.core.frame.DataFrame'>\n",
      "RangeIndex: 15589 entries, 0 to 15588\n",
      "Data columns (total 22 columns):\n",
      " #   Column             Non-Null Count  Dtype  \n",
      "---  ------             --------------  -----  \n",
      " 0   Cust_ID            15589 non-null  int64  \n",
      " 1   Churn              15589 non-null  object \n",
      " 2   Name               15589 non-null  object \n",
      " 3   Longevity          15589 non-null  object \n",
      " 4   Year_Birth         15394 non-null  float64\n",
      " 5   TypeTravel         15589 non-null  object \n",
      " 6   RoomType           15589 non-null  object \n",
      " 7   RewardPoints       15589 non-null  int64  \n",
      " 8   Comfort            15589 non-null  int64  \n",
      " 9   ReceptionSchedule  15589 non-null  int64  \n",
      " 10  FoodDrink          15589 non-null  int64  \n",
      " 11  Location           15589 non-null  int64  \n",
      " 12  Wifi               15589 non-null  int64  \n",
      " 13  Amenities          15589 non-null  int64  \n",
      " 14  Staff              15589 non-null  int64  \n",
      " 15  OnlineBooking      15589 non-null  int64  \n",
      " 16  PriceQuality       15589 non-null  int64  \n",
      " 17  RoomSpace          15589 non-null  int64  \n",
      " 18  CheckOut           15589 non-null  int64  \n",
      " 19  Checkin            15589 non-null  int64  \n",
      " 20  Cleanliness        15589 non-null  int64  \n",
      " 21  BarService         15589 non-null  int64  \n",
      "dtypes: float64(1), int64(16), object(5)\n",
      "memory usage: 2.6+ MB\n"
     ]
    }
   ],
   "source": [
    "data.info()"
   ]
  },
  {
   "cell_type": "code",
   "execution_count": 59,
   "metadata": {},
   "outputs": [
    {
     "data": {
      "text/plain": [
       "(15589, 22)"
      ]
     },
     "execution_count": 59,
     "metadata": {},
     "output_type": "execute_result"
    }
   ],
   "source": [
    "data.shape"
   ]
  },
  {
   "cell_type": "markdown",
   "metadata": {},
   "source": [
    "<h3>Looking for Null values<h3>"
   ]
  },
  {
   "cell_type": "markdown",
   "metadata": {},
   "source": [
    "<p> By summing the null values for each attribute and then dividing them by the total of values of the same attribute, we will obtain the percentage of null values that each column has. A value different from 0 means that the column has 1 or more missing values, which is not desired. </p>"
   ]
  },
  {
   "cell_type": "code",
   "execution_count": 60,
   "metadata": {},
   "outputs": [
    {
     "data": {
      "text/plain": [
       "Cust_ID              0.000000\n",
       "Churn                0.000000\n",
       "Name                 0.000000\n",
       "Longevity            0.000000\n",
       "Year_Birth           1.250882\n",
       "TypeTravel           0.000000\n",
       "RoomType             0.000000\n",
       "RewardPoints         0.000000\n",
       "Comfort              0.000000\n",
       "ReceptionSchedule    0.000000\n",
       "FoodDrink            0.000000\n",
       "Location             0.000000\n",
       "Wifi                 0.000000\n",
       "Amenities            0.000000\n",
       "Staff                0.000000\n",
       "OnlineBooking        0.000000\n",
       "PriceQuality         0.000000\n",
       "RoomSpace            0.000000\n",
       "CheckOut             0.000000\n",
       "Checkin              0.000000\n",
       "Cleanliness          0.000000\n",
       "BarService           0.000000\n",
       "dtype: float64"
      ]
     },
     "execution_count": 60,
     "metadata": {},
     "output_type": "execute_result"
    }
   ],
   "source": [
    "data.isna().sum()/len(data)*100"
   ]
  },
  {
   "cell_type": "markdown",
   "metadata": {},
   "source": [
    "<h3> Find outliers in Year_Birth and RewardPoints <h3>"
   ]
  },
  {
   "cell_type": "code",
   "execution_count": 61,
   "metadata": {},
   "outputs": [
    {
     "data": {
      "text/plain": [
       "<AxesSubplot:xlabel='Year_Birth', ylabel='Count'>"
      ]
     },
     "execution_count": 61,
     "metadata": {},
     "output_type": "execute_result"
    },
    {
     "data": {
      "image/png": "[encoded data removed]",
      "text/plain": [
       "<Figure size 432x288 with 1 Axes>"
      ]
     },
     "metadata": {
      "needs_background": "light"
     },
     "output_type": "display_data"
    }
   ],
   "source": [
    "sns.histplot(data=data, x='Year_Birth')"
   ]
  },
  {
   "cell_type": "code",
   "execution_count": 62,
   "metadata": {},
   "outputs": [
    {
     "data": {
      "text/plain": [
       "<AxesSubplot:xlabel='Year_Birth'>"
      ]
     },
     "execution_count": 62,
     "metadata": {},
     "output_type": "execute_result"
    },
    {
     "data": {
      "image/png": "[encoded data removed]",
      "text/plain": [
       "<Figure size 432x288 with 1 Axes>"
      ]
     },
     "metadata": {
      "needs_background": "light"
     },
     "output_type": "display_data"
    }
   ],
   "source": [
    "sns.boxplot(x='Year_Birth', data = data)"
   ]
  },
  {
   "cell_type": "code",
   "execution_count": 71,
   "metadata": {},
   "outputs": [
    {
     "data": {
      "text/plain": [
       "<AxesSubplot:xlabel='Year_Birth', ylabel='Year_Birth'>"
      ]
     },
     "execution_count": 71,
     "metadata": {},
     "output_type": "execute_result"
    },
    {
     "data": {
      "image/png": "[encoded data removed]",
      "text/plain": [
       "<Figure size 576x576 with 1 Axes>"
      ]
     },
     "metadata": {
      "needs_background": "light"
     },
     "output_type": "display_data"
    }
   ],
   "source": [
    "plt.figure(figsize=(8,8))\n",
    "sns.scatterplot(x='Year_Birth', y=data['Year_Birth'].value_counts(),data=data)"
   ]
  },
  {
   "cell_type": "code",
   "execution_count": 68,
   "metadata": {},
   "outputs": [
    {
     "data": {
      "text/plain": [
       "<AxesSubplot:xlabel='RewardPoints', ylabel='RewardPoints'>"
      ]
     },
     "execution_count": 68,
     "metadata": {},
     "output_type": "execute_result"
    },
    {
     "data": {
      "image/png": "[encoded data removed]",
      "text/plain": [
       "<Figure size 576x576 with 1 Axes>"
      ]
     },
     "metadata": {
      "needs_background": "light"
     },
     "output_type": "display_data"
    }
   ],
   "source": [
    "plt.figure(figsize=(8,8))\n",
    "sns.scatterplot(x='RewardPoints', y=data['RewardPoints'].value_counts(),data=data)\n",
    "#Think about normalizing data for reward points"
   ]
  },
  {
   "cell_type": "markdown",
   "metadata": {},
   "source": [
    "<h3>Use KNN inputer for the missing values in Year_Birth <h3>"
   ]
  },
  {
   "cell_type": "code",
   "execution_count": 64,
   "metadata": {},
   "outputs": [
    {
     "ename": "NameError",
     "evalue": "name 'KNNImputer' is not defined",
     "output_type": "error",
     "traceback": [
      "\u001b[1;31m---------------------------------------------------------------------------\u001b[0m",
      "\u001b[1;31mNameError\u001b[0m                                 Traceback (most recent call last)",
      "\u001b[1;32mh:\\Python\\Project_1\\Project 1.ipynb Cell 18'\u001b[0m in \u001b[0;36m<cell line: 2>\u001b[1;34m()\u001b[0m\n\u001b[0;32m      <a href='vscode-notebook-cell:/h%3A/Python/Project_1/Project%201.ipynb#ch0000016?line=0'>1</a>\u001b[0m \u001b[39m# creating an object for KNNImputer\u001b[39;00m\n\u001b[1;32m----> <a href='vscode-notebook-cell:/h%3A/Python/Project_1/Project%201.ipynb#ch0000016?line=1'>2</a>\u001b[0m imputer \u001b[39m=\u001b[39m KNNImputer(n_neighbors\u001b[39m=\u001b[39m\u001b[39m5\u001b[39m)\n\u001b[0;32m      <a href='vscode-notebook-cell:/h%3A/Python/Project_1/Project%201.ipynb#ch0000016?line=3'>4</a>\u001b[0m imputer\u001b[39m.\u001b[39mfit(data[\u001b[39m'\u001b[39m\u001b[39mYear_Birth\u001b[39m\u001b[39m'\u001b[39m]\u001b[39m.\u001b[39mvalues\u001b[39m.\u001b[39mreshape(\u001b[39m-\u001b[39m\u001b[39m1\u001b[39m, \u001b[39m1\u001b[39m))\n\u001b[0;32m      <a href='vscode-notebook-cell:/h%3A/Python/Project_1/Project%201.ipynb#ch0000016?line=4'>5</a>\u001b[0m data[\u001b[39m'\u001b[39m\u001b[39mYear_Birth\u001b[39m\u001b[39m'\u001b[39m] \u001b[39m=\u001b[39m imputer\u001b[39m.\u001b[39mtransform(data[\u001b[39m'\u001b[39m\u001b[39mYear_Birth\u001b[39m\u001b[39m'\u001b[39m]\u001b[39m.\u001b[39mvalues\u001b[39m.\u001b[39mreshape(\u001b[39m-\u001b[39m\u001b[39m1\u001b[39m, \u001b[39m1\u001b[39m))\n",
      "\u001b[1;31mNameError\u001b[0m: name 'KNNImputer' is not defined"
     ]
    }
   ],
   "source": [
    "# creating an object for KNNImputer\n",
    "imputer = KNNImputer(n_neighbors=5)\n",
    "\n",
    "imputer.fit(data['Year_Birth'].values.reshape(-1, 1))\n",
    "data['Year_Birth'] = imputer.transform(data['Year_Birth'].values.reshape(-1, 1))\n",
    "\n"
   ]
  },
  {
   "cell_type": "code",
   "execution_count": null,
   "metadata": {},
   "outputs": [
    {
     "data": {
      "text/html": [
       "<div>\n",
       "<style scoped>\n",
       "    .dataframe tbody tr th:only-of-type {\n",
       "        vertical-align: middle;\n",
       "    }\n",
       "\n",
       "    .dataframe tbody tr th {\n",
       "        vertical-align: top;\n",
       "    }\n",
       "\n",
       "    .dataframe thead th {\n",
       "        text-align: right;\n",
       "    }\n",
       "</style>\n",
       "<table border=\"1\" class=\"dataframe\">\n",
       "  <thead>\n",
       "    <tr style=\"text-align: right;\">\n",
       "      <th></th>\n",
       "      <th>Cust_ID</th>\n",
       "      <th>Churn</th>\n",
       "      <th>Name</th>\n",
       "      <th>Longevity</th>\n",
       "      <th>Year_Birth</th>\n",
       "      <th>TypeTravel</th>\n",
       "      <th>RoomType</th>\n",
       "      <th>RewardPoints</th>\n",
       "      <th>Comfort</th>\n",
       "      <th>ReceptionSchedule</th>\n",
       "      <th>...</th>\n",
       "      <th>Wifi</th>\n",
       "      <th>Amenities</th>\n",
       "      <th>Staff</th>\n",
       "      <th>OnlineBooking</th>\n",
       "      <th>PriceQuality</th>\n",
       "      <th>RoomSpace</th>\n",
       "      <th>CheckOut</th>\n",
       "      <th>Checkin</th>\n",
       "      <th>Cleanliness</th>\n",
       "      <th>BarService</th>\n",
       "    </tr>\n",
       "  </thead>\n",
       "  <tbody>\n",
       "    <tr>\n",
       "      <th>0</th>\n",
       "      <td>1</td>\n",
       "      <td>churn</td>\n",
       "      <td>Ms. Nicole Clarke</td>\n",
       "      <td>yes</td>\n",
       "      <td>1974.000000</td>\n",
       "      <td>business</td>\n",
       "      <td>single</td>\n",
       "      <td>4907</td>\n",
       "      <td>3</td>\n",
       "      <td>4</td>\n",
       "      <td>...</td>\n",
       "      <td>4</td>\n",
       "      <td>3</td>\n",
       "      <td>4</td>\n",
       "      <td>3</td>\n",
       "      <td>3</td>\n",
       "      <td>3</td>\n",
       "      <td>3</td>\n",
       "      <td>4</td>\n",
       "      <td>3</td>\n",
       "      <td>4</td>\n",
       "    </tr>\n",
       "    <tr>\n",
       "      <th>1</th>\n",
       "      <td>2</td>\n",
       "      <td>nochurn</td>\n",
       "      <td>Mr. Jesse Scott</td>\n",
       "      <td>yes</td>\n",
       "      <td>1965.000000</td>\n",
       "      <td>business</td>\n",
       "      <td>single</td>\n",
       "      <td>6724</td>\n",
       "      <td>1</td>\n",
       "      <td>1</td>\n",
       "      <td>...</td>\n",
       "      <td>5</td>\n",
       "      <td>3</td>\n",
       "      <td>4</td>\n",
       "      <td>5</td>\n",
       "      <td>5</td>\n",
       "      <td>5</td>\n",
       "      <td>5</td>\n",
       "      <td>1</td>\n",
       "      <td>5</td>\n",
       "      <td>2</td>\n",
       "    </tr>\n",
       "    <tr>\n",
       "      <th>2</th>\n",
       "      <td>3</td>\n",
       "      <td>churn</td>\n",
       "      <td>Mr. Christopher Carter</td>\n",
       "      <td>yes</td>\n",
       "      <td>1973.000000</td>\n",
       "      <td>business</td>\n",
       "      <td>single</td>\n",
       "      <td>4365</td>\n",
       "      <td>3</td>\n",
       "      <td>3</td>\n",
       "      <td>...</td>\n",
       "      <td>1</td>\n",
       "      <td>4</td>\n",
       "      <td>4</td>\n",
       "      <td>3</td>\n",
       "      <td>3</td>\n",
       "      <td>2</td>\n",
       "      <td>3</td>\n",
       "      <td>2</td>\n",
       "      <td>3</td>\n",
       "      <td>1</td>\n",
       "    </tr>\n",
       "    <tr>\n",
       "      <th>3</th>\n",
       "      <td>4</td>\n",
       "      <td>nochurn</td>\n",
       "      <td>Ms. Jennifer Morgan</td>\n",
       "      <td>yes</td>\n",
       "      <td>1993.000000</td>\n",
       "      <td>leisure</td>\n",
       "      <td>double</td>\n",
       "      <td>3849</td>\n",
       "      <td>1</td>\n",
       "      <td>1</td>\n",
       "      <td>...</td>\n",
       "      <td>4</td>\n",
       "      <td>4</td>\n",
       "      <td>5</td>\n",
       "      <td>4</td>\n",
       "      <td>4</td>\n",
       "      <td>4</td>\n",
       "      <td>4</td>\n",
       "      <td>4</td>\n",
       "      <td>4</td>\n",
       "      <td>3</td>\n",
       "    </tr>\n",
       "    <tr>\n",
       "      <th>4</th>\n",
       "      <td>5</td>\n",
       "      <td>nochurn</td>\n",
       "      <td>Mr. Michael White</td>\n",
       "      <td>yes</td>\n",
       "      <td>1989.000000</td>\n",
       "      <td>business</td>\n",
       "      <td>single</td>\n",
       "      <td>5376</td>\n",
       "      <td>2</td>\n",
       "      <td>2</td>\n",
       "      <td>...</td>\n",
       "      <td>5</td>\n",
       "      <td>5</td>\n",
       "      <td>5</td>\n",
       "      <td>5</td>\n",
       "      <td>5</td>\n",
       "      <td>3</td>\n",
       "      <td>4</td>\n",
       "      <td>1</td>\n",
       "      <td>3</td>\n",
       "      <td>5</td>\n",
       "    </tr>\n",
       "    <tr>\n",
       "      <th>5</th>\n",
       "      <td>6</td>\n",
       "      <td>churn</td>\n",
       "      <td>Ms. Morgan Briggs</td>\n",
       "      <td>yes</td>\n",
       "      <td>1975.000000</td>\n",
       "      <td>business</td>\n",
       "      <td>double</td>\n",
       "      <td>5342</td>\n",
       "      <td>2</td>\n",
       "      <td>2</td>\n",
       "      <td>...</td>\n",
       "      <td>3</td>\n",
       "      <td>2</td>\n",
       "      <td>2</td>\n",
       "      <td>2</td>\n",
       "      <td>2</td>\n",
       "      <td>2</td>\n",
       "      <td>2</td>\n",
       "      <td>4</td>\n",
       "      <td>2</td>\n",
       "      <td>1</td>\n",
       "    </tr>\n",
       "    <tr>\n",
       "      <th>6</th>\n",
       "      <td>7</td>\n",
       "      <td>churn</td>\n",
       "      <td>Ms. Kellie Alvarez</td>\n",
       "      <td>no</td>\n",
       "      <td>1990.000000</td>\n",
       "      <td>business</td>\n",
       "      <td>double</td>\n",
       "      <td>4909</td>\n",
       "      <td>2</td>\n",
       "      <td>2</td>\n",
       "      <td>...</td>\n",
       "      <td>2</td>\n",
       "      <td>2</td>\n",
       "      <td>2</td>\n",
       "      <td>2</td>\n",
       "      <td>1</td>\n",
       "      <td>1</td>\n",
       "      <td>2</td>\n",
       "      <td>2</td>\n",
       "      <td>3</td>\n",
       "      <td>2</td>\n",
       "    </tr>\n",
       "    <tr>\n",
       "      <th>7</th>\n",
       "      <td>8</td>\n",
       "      <td>churn</td>\n",
       "      <td>Mr. Jorge Brown</td>\n",
       "      <td>yes</td>\n",
       "      <td>1976.000000</td>\n",
       "      <td>business</td>\n",
       "      <td>single</td>\n",
       "      <td>4037</td>\n",
       "      <td>2</td>\n",
       "      <td>3</td>\n",
       "      <td>...</td>\n",
       "      <td>2</td>\n",
       "      <td>4</td>\n",
       "      <td>4</td>\n",
       "      <td>2</td>\n",
       "      <td>2</td>\n",
       "      <td>3</td>\n",
       "      <td>2</td>\n",
       "      <td>1</td>\n",
       "      <td>2</td>\n",
       "      <td>2</td>\n",
       "    </tr>\n",
       "    <tr>\n",
       "      <th>8</th>\n",
       "      <td>9</td>\n",
       "      <td>churn</td>\n",
       "      <td>Mr. Jesus Soto</td>\n",
       "      <td>yes</td>\n",
       "      <td>1974.000000</td>\n",
       "      <td>business</td>\n",
       "      <td>single</td>\n",
       "      <td>3694</td>\n",
       "      <td>2</td>\n",
       "      <td>3</td>\n",
       "      <td>...</td>\n",
       "      <td>2</td>\n",
       "      <td>2</td>\n",
       "      <td>2</td>\n",
       "      <td>2</td>\n",
       "      <td>2</td>\n",
       "      <td>1</td>\n",
       "      <td>2</td>\n",
       "      <td>2</td>\n",
       "      <td>2</td>\n",
       "      <td>1</td>\n",
       "    </tr>\n",
       "    <tr>\n",
       "      <th>9</th>\n",
       "      <td>10</td>\n",
       "      <td>churn</td>\n",
       "      <td>Mr. Anthony Young</td>\n",
       "      <td>yes</td>\n",
       "      <td>1994.000000</td>\n",
       "      <td>business</td>\n",
       "      <td>single</td>\n",
       "      <td>3475</td>\n",
       "      <td>3</td>\n",
       "      <td>5</td>\n",
       "      <td>...</td>\n",
       "      <td>3</td>\n",
       "      <td>3</td>\n",
       "      <td>3</td>\n",
       "      <td>3</td>\n",
       "      <td>4</td>\n",
       "      <td>3</td>\n",
       "      <td>4</td>\n",
       "      <td>1</td>\n",
       "      <td>4</td>\n",
       "      <td>3</td>\n",
       "    </tr>\n",
       "    <tr>\n",
       "      <th>10</th>\n",
       "      <td>11</td>\n",
       "      <td>nochurn</td>\n",
       "      <td>Mr. Patrick Garza</td>\n",
       "      <td>yes</td>\n",
       "      <td>1960.000000</td>\n",
       "      <td>leisure</td>\n",
       "      <td>double</td>\n",
       "      <td>5059</td>\n",
       "      <td>4</td>\n",
       "      <td>3</td>\n",
       "      <td>...</td>\n",
       "      <td>1</td>\n",
       "      <td>4</td>\n",
       "      <td>1</td>\n",
       "      <td>1</td>\n",
       "      <td>2</td>\n",
       "      <td>4</td>\n",
       "      <td>3</td>\n",
       "      <td>5</td>\n",
       "      <td>2</td>\n",
       "      <td>1</td>\n",
       "    </tr>\n",
       "    <tr>\n",
       "      <th>11</th>\n",
       "      <td>12</td>\n",
       "      <td>churn</td>\n",
       "      <td>Ms. Jill Bowman</td>\n",
       "      <td>no</td>\n",
       "      <td>1995.000000</td>\n",
       "      <td>business</td>\n",
       "      <td>double</td>\n",
       "      <td>5360</td>\n",
       "      <td>2</td>\n",
       "      <td>2</td>\n",
       "      <td>...</td>\n",
       "      <td>4</td>\n",
       "      <td>2</td>\n",
       "      <td>3</td>\n",
       "      <td>4</td>\n",
       "      <td>2</td>\n",
       "      <td>4</td>\n",
       "      <td>4</td>\n",
       "      <td>3</td>\n",
       "      <td>3</td>\n",
       "      <td>4</td>\n",
       "    </tr>\n",
       "    <tr>\n",
       "      <th>12</th>\n",
       "      <td>13</td>\n",
       "      <td>nochurn</td>\n",
       "      <td>Ms. Kelly Newman</td>\n",
       "      <td>no</td>\n",
       "      <td>1977.000000</td>\n",
       "      <td>business</td>\n",
       "      <td>single</td>\n",
       "      <td>5853</td>\n",
       "      <td>5</td>\n",
       "      <td>5</td>\n",
       "      <td>...</td>\n",
       "      <td>3</td>\n",
       "      <td>5</td>\n",
       "      <td>3</td>\n",
       "      <td>3</td>\n",
       "      <td>3</td>\n",
       "      <td>5</td>\n",
       "      <td>5</td>\n",
       "      <td>4</td>\n",
       "      <td>4</td>\n",
       "      <td>3</td>\n",
       "    </tr>\n",
       "    <tr>\n",
       "      <th>13</th>\n",
       "      <td>14</td>\n",
       "      <td>nochurn</td>\n",
       "      <td>Mr. Danny Frazier</td>\n",
       "      <td>yes</td>\n",
       "      <td>1981.000000</td>\n",
       "      <td>business</td>\n",
       "      <td>single</td>\n",
       "      <td>5164</td>\n",
       "      <td>2</td>\n",
       "      <td>2</td>\n",
       "      <td>...</td>\n",
       "      <td>3</td>\n",
       "      <td>5</td>\n",
       "      <td>5</td>\n",
       "      <td>5</td>\n",
       "      <td>5</td>\n",
       "      <td>5</td>\n",
       "      <td>5</td>\n",
       "      <td>4</td>\n",
       "      <td>5</td>\n",
       "      <td>3</td>\n",
       "    </tr>\n",
       "    <tr>\n",
       "      <th>14</th>\n",
       "      <td>15</td>\n",
       "      <td>nochurn</td>\n",
       "      <td>Mr. Ralph Johnson</td>\n",
       "      <td>yes</td>\n",
       "      <td>1994.000000</td>\n",
       "      <td>leisure</td>\n",
       "      <td>double</td>\n",
       "      <td>5858</td>\n",
       "      <td>5</td>\n",
       "      <td>5</td>\n",
       "      <td>...</td>\n",
       "      <td>3</td>\n",
       "      <td>5</td>\n",
       "      <td>3</td>\n",
       "      <td>3</td>\n",
       "      <td>5</td>\n",
       "      <td>2</td>\n",
       "      <td>5</td>\n",
       "      <td>3</td>\n",
       "      <td>4</td>\n",
       "      <td>3</td>\n",
       "    </tr>\n",
       "    <tr>\n",
       "      <th>15</th>\n",
       "      <td>16</td>\n",
       "      <td>nochurn</td>\n",
       "      <td>Mr. Sean Hendricks</td>\n",
       "      <td>yes</td>\n",
       "      <td>1969.000000</td>\n",
       "      <td>business</td>\n",
       "      <td>single</td>\n",
       "      <td>6571</td>\n",
       "      <td>4</td>\n",
       "      <td>4</td>\n",
       "      <td>...</td>\n",
       "      <td>4</td>\n",
       "      <td>2</td>\n",
       "      <td>1</td>\n",
       "      <td>3</td>\n",
       "      <td>3</td>\n",
       "      <td>3</td>\n",
       "      <td>3</td>\n",
       "      <td>1</td>\n",
       "      <td>3</td>\n",
       "      <td>5</td>\n",
       "    </tr>\n",
       "    <tr>\n",
       "      <th>16</th>\n",
       "      <td>17</td>\n",
       "      <td>churn</td>\n",
       "      <td>Mr. John Miller</td>\n",
       "      <td>no</td>\n",
       "      <td>1982.000000</td>\n",
       "      <td>business</td>\n",
       "      <td>single</td>\n",
       "      <td>5756</td>\n",
       "      <td>3</td>\n",
       "      <td>3</td>\n",
       "      <td>...</td>\n",
       "      <td>5</td>\n",
       "      <td>3</td>\n",
       "      <td>5</td>\n",
       "      <td>5</td>\n",
       "      <td>5</td>\n",
       "      <td>5</td>\n",
       "      <td>5</td>\n",
       "      <td>3</td>\n",
       "      <td>4</td>\n",
       "      <td>5</td>\n",
       "    </tr>\n",
       "    <tr>\n",
       "      <th>17</th>\n",
       "      <td>18</td>\n",
       "      <td>churn</td>\n",
       "      <td>Mr. Devin Benson</td>\n",
       "      <td>yes</td>\n",
       "      <td>1962.000000</td>\n",
       "      <td>leisure</td>\n",
       "      <td>double</td>\n",
       "      <td>5229</td>\n",
       "      <td>2</td>\n",
       "      <td>3</td>\n",
       "      <td>...</td>\n",
       "      <td>5</td>\n",
       "      <td>2</td>\n",
       "      <td>5</td>\n",
       "      <td>5</td>\n",
       "      <td>1</td>\n",
       "      <td>2</td>\n",
       "      <td>3</td>\n",
       "      <td>4</td>\n",
       "      <td>3</td>\n",
       "      <td>5</td>\n",
       "    </tr>\n",
       "    <tr>\n",
       "      <th>18</th>\n",
       "      <td>19</td>\n",
       "      <td>churn</td>\n",
       "      <td>Ms. Melissa Hayes MD</td>\n",
       "      <td>no</td>\n",
       "      <td>1995.000000</td>\n",
       "      <td>business</td>\n",
       "      <td>single</td>\n",
       "      <td>5466</td>\n",
       "      <td>2</td>\n",
       "      <td>4</td>\n",
       "      <td>...</td>\n",
       "      <td>2</td>\n",
       "      <td>2</td>\n",
       "      <td>2</td>\n",
       "      <td>2</td>\n",
       "      <td>5</td>\n",
       "      <td>2</td>\n",
       "      <td>4</td>\n",
       "      <td>3</td>\n",
       "      <td>5</td>\n",
       "      <td>2</td>\n",
       "    </tr>\n",
       "    <tr>\n",
       "      <th>19</th>\n",
       "      <td>20</td>\n",
       "      <td>nochurn</td>\n",
       "      <td>Ms. Pamela Torres</td>\n",
       "      <td>yes</td>\n",
       "      <td>1982.000000</td>\n",
       "      <td>business</td>\n",
       "      <td>single</td>\n",
       "      <td>4299</td>\n",
       "      <td>1</td>\n",
       "      <td>1</td>\n",
       "      <td>...</td>\n",
       "      <td>2</td>\n",
       "      <td>4</td>\n",
       "      <td>4</td>\n",
       "      <td>3</td>\n",
       "      <td>3</td>\n",
       "      <td>3</td>\n",
       "      <td>3</td>\n",
       "      <td>4</td>\n",
       "      <td>3</td>\n",
       "      <td>3</td>\n",
       "    </tr>\n",
       "    <tr>\n",
       "      <th>20</th>\n",
       "      <td>21</td>\n",
       "      <td>churn</td>\n",
       "      <td>Mr. John Schwartz</td>\n",
       "      <td>yes</td>\n",
       "      <td>1980.000000</td>\n",
       "      <td>business</td>\n",
       "      <td>double</td>\n",
       "      <td>5577</td>\n",
       "      <td>3</td>\n",
       "      <td>2</td>\n",
       "      <td>...</td>\n",
       "      <td>3</td>\n",
       "      <td>3</td>\n",
       "      <td>3</td>\n",
       "      <td>3</td>\n",
       "      <td>3</td>\n",
       "      <td>2</td>\n",
       "      <td>4</td>\n",
       "      <td>3</td>\n",
       "      <td>3</td>\n",
       "      <td>3</td>\n",
       "    </tr>\n",
       "    <tr>\n",
       "      <th>21</th>\n",
       "      <td>22</td>\n",
       "      <td>nochurn</td>\n",
       "      <td>Mr. Rodney Fields</td>\n",
       "      <td>yes</td>\n",
       "      <td>1979.000000</td>\n",
       "      <td>business</td>\n",
       "      <td>single</td>\n",
       "      <td>5722</td>\n",
       "      <td>5</td>\n",
       "      <td>5</td>\n",
       "      <td>...</td>\n",
       "      <td>2</td>\n",
       "      <td>4</td>\n",
       "      <td>5</td>\n",
       "      <td>2</td>\n",
       "      <td>2</td>\n",
       "      <td>2</td>\n",
       "      <td>2</td>\n",
       "      <td>4</td>\n",
       "      <td>2</td>\n",
       "      <td>5</td>\n",
       "    </tr>\n",
       "    <tr>\n",
       "      <th>22</th>\n",
       "      <td>23</td>\n",
       "      <td>churn</td>\n",
       "      <td>Mr. Theodore Vargas</td>\n",
       "      <td>yes</td>\n",
       "      <td>1963.000000</td>\n",
       "      <td>leisure</td>\n",
       "      <td>double</td>\n",
       "      <td>4692</td>\n",
       "      <td>2</td>\n",
       "      <td>5</td>\n",
       "      <td>...</td>\n",
       "      <td>4</td>\n",
       "      <td>2</td>\n",
       "      <td>2</td>\n",
       "      <td>4</td>\n",
       "      <td>5</td>\n",
       "      <td>5</td>\n",
       "      <td>2</td>\n",
       "      <td>1</td>\n",
       "      <td>1</td>\n",
       "      <td>4</td>\n",
       "    </tr>\n",
       "    <tr>\n",
       "      <th>23</th>\n",
       "      <td>24</td>\n",
       "      <td>churn</td>\n",
       "      <td>Mr. Ryan Hicks</td>\n",
       "      <td>yes</td>\n",
       "      <td>1996.000000</td>\n",
       "      <td>leisure</td>\n",
       "      <td>double</td>\n",
       "      <td>5274</td>\n",
       "      <td>1</td>\n",
       "      <td>5</td>\n",
       "      <td>...</td>\n",
       "      <td>5</td>\n",
       "      <td>1</td>\n",
       "      <td>5</td>\n",
       "      <td>5</td>\n",
       "      <td>4</td>\n",
       "      <td>4</td>\n",
       "      <td>4</td>\n",
       "      <td>3</td>\n",
       "      <td>4</td>\n",
       "      <td>5</td>\n",
       "    </tr>\n",
       "    <tr>\n",
       "      <th>24</th>\n",
       "      <td>25</td>\n",
       "      <td>churn</td>\n",
       "      <td>Mr. Matthew Nguyen</td>\n",
       "      <td>yes</td>\n",
       "      <td>1970.000000</td>\n",
       "      <td>business</td>\n",
       "      <td>single</td>\n",
       "      <td>3076</td>\n",
       "      <td>4</td>\n",
       "      <td>3</td>\n",
       "      <td>...</td>\n",
       "      <td>3</td>\n",
       "      <td>3</td>\n",
       "      <td>3</td>\n",
       "      <td>3</td>\n",
       "      <td>3</td>\n",
       "      <td>3</td>\n",
       "      <td>4</td>\n",
       "      <td>4</td>\n",
       "      <td>3</td>\n",
       "      <td>2</td>\n",
       "    </tr>\n",
       "    <tr>\n",
       "      <th>25</th>\n",
       "      <td>26</td>\n",
       "      <td>churn</td>\n",
       "      <td>Ms. Mrs. Jill Nichols</td>\n",
       "      <td>no</td>\n",
       "      <td>1984.000000</td>\n",
       "      <td>business</td>\n",
       "      <td>double</td>\n",
       "      <td>5739</td>\n",
       "      <td>2</td>\n",
       "      <td>0</td>\n",
       "      <td>...</td>\n",
       "      <td>5</td>\n",
       "      <td>2</td>\n",
       "      <td>5</td>\n",
       "      <td>5</td>\n",
       "      <td>1</td>\n",
       "      <td>1</td>\n",
       "      <td>2</td>\n",
       "      <td>5</td>\n",
       "      <td>4</td>\n",
       "      <td>5</td>\n",
       "    </tr>\n",
       "    <tr>\n",
       "      <th>26</th>\n",
       "      <td>27</td>\n",
       "      <td>churn</td>\n",
       "      <td>Mr. Edward Collier</td>\n",
       "      <td>y</td>\n",
       "      <td>1957.000000</td>\n",
       "      <td>leisure</td>\n",
       "      <td>double</td>\n",
       "      <td>4424</td>\n",
       "      <td>4</td>\n",
       "      <td>4</td>\n",
       "      <td>...</td>\n",
       "      <td>4</td>\n",
       "      <td>3</td>\n",
       "      <td>4</td>\n",
       "      <td>4</td>\n",
       "      <td>4</td>\n",
       "      <td>4</td>\n",
       "      <td>3</td>\n",
       "      <td>1</td>\n",
       "      <td>3</td>\n",
       "      <td>4</td>\n",
       "    </tr>\n",
       "    <tr>\n",
       "      <th>27</th>\n",
       "      <td>28</td>\n",
       "      <td>nochurn</td>\n",
       "      <td>Ms. Emily Thomas</td>\n",
       "      <td>yes</td>\n",
       "      <td>1981.706444</td>\n",
       "      <td>leisure</td>\n",
       "      <td>double</td>\n",
       "      <td>4760</td>\n",
       "      <td>0</td>\n",
       "      <td>5</td>\n",
       "      <td>...</td>\n",
       "      <td>5</td>\n",
       "      <td>0</td>\n",
       "      <td>3</td>\n",
       "      <td>5</td>\n",
       "      <td>4</td>\n",
       "      <td>4</td>\n",
       "      <td>5</td>\n",
       "      <td>4</td>\n",
       "      <td>4</td>\n",
       "      <td>5</td>\n",
       "    </tr>\n",
       "  </tbody>\n",
       "</table>\n",
       "<p>28 rows × 22 columns</p>\n",
       "</div>"
      ],
      "text/plain": [
       "    Cust_ID    Churn                    Name Longevity   Year_Birth  \\\n",
       "0         1    churn       Ms. Nicole Clarke       yes  1974.000000   \n",
       "1         2  nochurn         Mr. Jesse Scott       yes  1965.000000   \n",
       "2         3    churn  Mr. Christopher Carter       yes  1973.000000   \n",
       "3         4  nochurn     Ms. Jennifer Morgan       yes  1993.000000   \n",
       "4         5  nochurn       Mr. Michael White       yes  1989.000000   \n",
       "5         6    churn       Ms. Morgan Briggs       yes  1975.000000   \n",
       "6         7    churn      Ms. Kellie Alvarez        no  1990.000000   \n",
       "7         8    churn         Mr. Jorge Brown       yes  1976.000000   \n",
       "8         9    churn          Mr. Jesus Soto       yes  1974.000000   \n",
       "9        10    churn       Mr. Anthony Young       yes  1994.000000   \n",
       "10       11  nochurn       Mr. Patrick Garza       yes  1960.000000   \n",
       "11       12    churn         Ms. Jill Bowman        no  1995.000000   \n",
       "12       13  nochurn        Ms. Kelly Newman        no  1977.000000   \n",
       "13       14  nochurn       Mr. Danny Frazier       yes  1981.000000   \n",
       "14       15  nochurn       Mr. Ralph Johnson       yes  1994.000000   \n",
       "15       16  nochurn      Mr. Sean Hendricks       yes  1969.000000   \n",
       "16       17    churn         Mr. John Miller        no  1982.000000   \n",
       "17       18    churn        Mr. Devin Benson       yes  1962.000000   \n",
       "18       19    churn    Ms. Melissa Hayes MD        no  1995.000000   \n",
       "19       20  nochurn       Ms. Pamela Torres       yes  1982.000000   \n",
       "20       21    churn       Mr. John Schwartz       yes  1980.000000   \n",
       "21       22  nochurn       Mr. Rodney Fields       yes  1979.000000   \n",
       "22       23    churn     Mr. Theodore Vargas       yes  1963.000000   \n",
       "23       24    churn          Mr. Ryan Hicks       yes  1996.000000   \n",
       "24       25    churn      Mr. Matthew Nguyen       yes  1970.000000   \n",
       "25       26    churn   Ms. Mrs. Jill Nichols        no  1984.000000   \n",
       "26       27    churn      Mr. Edward Collier         y  1957.000000   \n",
       "27       28  nochurn        Ms. Emily Thomas       yes  1981.706444   \n",
       "\n",
       "   TypeTravel RoomType  RewardPoints  Comfort  ReceptionSchedule  ...  Wifi  \\\n",
       "0    business   single          4907        3                  4  ...     4   \n",
       "1    business   single          6724        1                  1  ...     5   \n",
       "2    business   single          4365        3                  3  ...     1   \n",
       "3     leisure   double          3849        1                  1  ...     4   \n",
       "4    business   single          5376        2                  2  ...     5   \n",
       "5    business   double          5342        2                  2  ...     3   \n",
       "6    business   double          4909        2                  2  ...     2   \n",
       "7    business   single          4037        2                  3  ...     2   \n",
       "8    business   single          3694        2                  3  ...     2   \n",
       "9    business   single          3475        3                  5  ...     3   \n",
       "10    leisure   double          5059        4                  3  ...     1   \n",
       "11   business   double          5360        2                  2  ...     4   \n",
       "12   business   single          5853        5                  5  ...     3   \n",
       "13   business   single          5164        2                  2  ...     3   \n",
       "14    leisure   double          5858        5                  5  ...     3   \n",
       "15   business   single          6571        4                  4  ...     4   \n",
       "16   business   single          5756        3                  3  ...     5   \n",
       "17    leisure   double          5229        2                  3  ...     5   \n",
       "18   business   single          5466        2                  4  ...     2   \n",
       "19   business   single          4299        1                  1  ...     2   \n",
       "20   business   double          5577        3                  2  ...     3   \n",
       "21   business   single          5722        5                  5  ...     2   \n",
       "22    leisure   double          4692        2                  5  ...     4   \n",
       "23    leisure   double          5274        1                  5  ...     5   \n",
       "24   business   single          3076        4                  3  ...     3   \n",
       "25   business   double          5739        2                  0  ...     5   \n",
       "26    leisure   double          4424        4                  4  ...     4   \n",
       "27    leisure   double          4760        0                  5  ...     5   \n",
       "\n",
       "    Amenities  Staff  OnlineBooking  PriceQuality  RoomSpace  CheckOut  \\\n",
       "0           3      4              3             3          3         3   \n",
       "1           3      4              5             5          5         5   \n",
       "2           4      4              3             3          2         3   \n",
       "3           4      5              4             4          4         4   \n",
       "4           5      5              5             5          3         4   \n",
       "5           2      2              2             2          2         2   \n",
       "6           2      2              2             1          1         2   \n",
       "7           4      4              2             2          3         2   \n",
       "8           2      2              2             2          1         2   \n",
       "9           3      3              3             4          3         4   \n",
       "10          4      1              1             2          4         3   \n",
       "11          2      3              4             2          4         4   \n",
       "12          5      3              3             3          5         5   \n",
       "13          5      5              5             5          5         5   \n",
       "14          5      3              3             5          2         5   \n",
       "15          2      1              3             3          3         3   \n",
       "16          3      5              5             5          5         5   \n",
       "17          2      5              5             1          2         3   \n",
       "18          2      2              2             5          2         4   \n",
       "19          4      4              3             3          3         3   \n",
       "20          3      3              3             3          2         4   \n",
       "21          4      5              2             2          2         2   \n",
       "22          2      2              4             5          5         2   \n",
       "23          1      5              5             4          4         4   \n",
       "24          3      3              3             3          3         4   \n",
       "25          2      5              5             1          1         2   \n",
       "26          3      4              4             4          4         3   \n",
       "27          0      3              5             4          4         5   \n",
       "\n",
       "    Checkin  Cleanliness  BarService  \n",
       "0         4            3           4  \n",
       "1         1            5           2  \n",
       "2         2            3           1  \n",
       "3         4            4           3  \n",
       "4         1            3           5  \n",
       "5         4            2           1  \n",
       "6         2            3           2  \n",
       "7         1            2           2  \n",
       "8         2            2           1  \n",
       "9         1            4           3  \n",
       "10        5            2           1  \n",
       "11        3            3           4  \n",
       "12        4            4           3  \n",
       "13        4            5           3  \n",
       "14        3            4           3  \n",
       "15        1            3           5  \n",
       "16        3            4           5  \n",
       "17        4            3           5  \n",
       "18        3            5           2  \n",
       "19        4            3           3  \n",
       "20        3            3           3  \n",
       "21        4            2           5  \n",
       "22        1            1           4  \n",
       "23        3            4           5  \n",
       "24        4            3           2  \n",
       "25        5            4           5  \n",
       "26        1            3           4  \n",
       "27        4            4           5  \n",
       "\n",
       "[28 rows x 22 columns]"
      ]
     },
     "execution_count": 202,
     "metadata": {},
     "output_type": "execute_result"
    }
   ],
   "source": [
    "data.head(28)\n",
    "#the last value was missing and we obtained it with the help of KNN imputer"
   ]
  },
  {
   "cell_type": "code",
   "execution_count": null,
   "metadata": {},
   "outputs": [
    {
     "data": {
      "text/plain": [
       "Cust_ID              0\n",
       "Churn                0\n",
       "Name                 0\n",
       "Longevity            0\n",
       "Year_Birth           0\n",
       "TypeTravel           0\n",
       "RoomType             0\n",
       "RewardPoints         0\n",
       "Comfort              0\n",
       "ReceptionSchedule    0\n",
       "FoodDrink            0\n",
       "Location             0\n",
       "Wifi                 0\n",
       "Amenities            0\n",
       "Staff                0\n",
       "OnlineBooking        0\n",
       "PriceQuality         0\n",
       "RoomSpace            0\n",
       "CheckOut             0\n",
       "Checkin              0\n",
       "Cleanliness          0\n",
       "BarService           0\n",
       "dtype: int64"
      ]
     },
     "execution_count": 203,
     "metadata": {},
     "output_type": "execute_result"
    }
   ],
   "source": [
    "data.isna().sum()"
   ]
  },
  {
   "cell_type": "markdown",
   "metadata": {},
   "source": [
    "<p> As demonstrated above, our data frame no longer has missing values. They have been imputed as the means of k-Nearest Neighbor values. </p>"
   ]
  },
  {
   "cell_type": "code",
   "execution_count": null,
   "metadata": {},
   "outputs": [
    {
     "data": {
      "text/plain": [
       "yes    12548\n",
       "no      2874\n",
       "y        167\n",
       "Name: Longevity, dtype: int64"
      ]
     },
     "execution_count": 204,
     "metadata": {},
     "output_type": "execute_result"
    }
   ],
   "source": [
    "data['Longevity'].value_counts()"
   ]
  },
  {
   "cell_type": "code",
   "execution_count": null,
   "metadata": {},
   "outputs": [
    {
     "data": {
      "text/plain": [
       "1    12715\n",
       "0     2874\n",
       "Name: Longevity, dtype: int64"
      ]
     },
     "execution_count": 205,
     "metadata": {},
     "output_type": "execute_result"
    }
   ],
   "source": [
    "data['Longevity'].replace(to_replace = 'yes',value = 1, inplace = True)\n",
    "data['Longevity'].replace(to_replace = 'y',value = 1, inplace = True)\n",
    "data['Longevity'].replace(to_replace = 'no',value = 0, inplace = True)\n",
    "data['Longevity'].value_counts()"
   ]
  },
  {
   "cell_type": "markdown",
   "metadata": {},
   "source": [
    "<h3>Changing the Values of Column \"TypeTravel\"<h3>\n",
    " <p>business = 1 leisure = 0 <p>"
   ]
  },
  {
   "cell_type": "code",
   "execution_count": null,
   "metadata": {},
   "outputs": [
    {
     "data": {
      "text/plain": [
       "business    10756\n",
       "leisure      4833\n",
       "Name: TypeTravel, dtype: int64"
      ]
     },
     "execution_count": 206,
     "metadata": {},
     "output_type": "execute_result"
    }
   ],
   "source": [
    "data['TypeTravel'].value_counts()"
   ]
  },
  {
   "cell_type": "code",
   "execution_count": null,
   "metadata": {},
   "outputs": [
    {
     "data": {
      "text/plain": [
       "1    10756\n",
       "0     4833\n",
       "Name: TypeTravel, dtype: int64"
      ]
     },
     "execution_count": 207,
     "metadata": {},
     "output_type": "execute_result"
    }
   ],
   "source": [
    "data['TypeTravel'].replace(to_replace = 'business',value = 1, inplace = True)\n",
    "data['TypeTravel'].replace(to_replace = 'leisure',value = 0, inplace = True)\n",
    "data['TypeTravel'].value_counts()"
   ]
  },
  {
   "cell_type": "markdown",
   "metadata": {},
   "source": [
    "<h3>Changing the Values of Column \"Wifi\"<h3>\n",
    " <p>6 were Replaced by 5 <p>"
   ]
  },
  {
   "cell_type": "code",
   "execution_count": null,
   "metadata": {},
   "outputs": [
    {
     "data": {
      "text/plain": [
       "<AxesSubplot:xlabel='Wifi'>"
      ]
     },
     "execution_count": 208,
     "metadata": {},
     "output_type": "execute_result"
    },
    {
     "data": {
      "image/png": "[encoded data removed]",
      "text/plain": [
       "<Figure size 432x288 with 1 Axes>"
      ]
     },
     "metadata": {
      "needs_background": "light"
     },
     "output_type": "display_data"
    }
   ],
   "source": [
    "sns.boxplot(x=\"Wifi\", data = data[['Wifi']])"
   ]
  },
  {
   "cell_type": "code",
   "execution_count": null,
   "metadata": {},
   "outputs": [
    {
     "data": {
      "text/plain": [
       "4    3704\n",
       "5    3446\n",
       "3    3348\n",
       "2    3245\n",
       "1    1792\n",
       "6      36\n",
       "0      18\n",
       "Name: Wifi, dtype: int64"
      ]
     },
     "execution_count": 209,
     "metadata": {},
     "output_type": "execute_result"
    }
   ],
   "source": [
    "data['Wifi'].value_counts()"
   ]
  },
  {
   "cell_type": "code",
   "execution_count": null,
   "metadata": {},
   "outputs": [
    {
     "data": {
      "text/plain": [
       "4    3704\n",
       "5    3482\n",
       "3    3348\n",
       "2    3245\n",
       "1    1792\n",
       "0      18\n",
       "Name: Wifi, dtype: int64"
      ]
     },
     "execution_count": 210,
     "metadata": {},
     "output_type": "execute_result"
    }
   ],
   "source": [
    "data['Wifi'].replace(to_replace = 6,value = 5, inplace = True)\n",
    "data['Wifi'].value_counts()"
   ]
  },
  {
   "cell_type": "markdown",
   "metadata": {},
   "source": [
    "<h3>Changing the Values of Column \"Churn\"<h3>\n",
    " <p>convert \"churn\" and \"nochurn\" to 1 (True) and 0 (False) <p>"
   ]
  },
  {
   "cell_type": "code",
   "execution_count": null,
   "metadata": {},
   "outputs": [
    {
     "data": {
      "text/plain": [
       "nochurn    8477\n",
       "churn      7112\n",
       "Name: Churn, dtype: int64"
      ]
     },
     "execution_count": 211,
     "metadata": {},
     "output_type": "execute_result"
    }
   ],
   "source": [
    "data['Churn'].value_counts()"
   ]
  },
  {
   "cell_type": "code",
   "execution_count": null,
   "metadata": {},
   "outputs": [
    {
     "name": "stdout",
     "output_type": "stream",
     "text": [
      "<class 'pandas.core.frame.DataFrame'>\n",
      "RangeIndex: 15589 entries, 0 to 15588\n",
      "Data columns (total 22 columns):\n",
      " #   Column             Non-Null Count  Dtype  \n",
      "---  ------             --------------  -----  \n",
      " 0   Cust_ID            15589 non-null  int64  \n",
      " 1   Churn              15589 non-null  int64  \n",
      " 2   Name               15589 non-null  object \n",
      " 3   Longevity          15589 non-null  int64  \n",
      " 4   Year_Birth         15589 non-null  float64\n",
      " 5   TypeTravel         15589 non-null  int64  \n",
      " 6   RoomType           15589 non-null  object \n",
      " 7   RewardPoints       15589 non-null  int64  \n",
      " 8   Comfort            15589 non-null  int64  \n",
      " 9   ReceptionSchedule  15589 non-null  int64  \n",
      " 10  FoodDrink          15589 non-null  int64  \n",
      " 11  Location           15589 non-null  int64  \n",
      " 12  Wifi               15589 non-null  int64  \n",
      " 13  Amenities          15589 non-null  int64  \n",
      " 14  Staff              15589 non-null  int64  \n",
      " 15  OnlineBooking      15589 non-null  int64  \n",
      " 16  PriceQuality       15589 non-null  int64  \n",
      " 17  RoomSpace          15589 non-null  int64  \n",
      " 18  CheckOut           15589 non-null  int64  \n",
      " 19  Checkin            15589 non-null  int64  \n",
      " 20  Cleanliness        15589 non-null  int64  \n",
      " 21  BarService         15589 non-null  int64  \n",
      "dtypes: float64(1), int64(19), object(2)\n",
      "memory usage: 2.6+ MB\n"
     ]
    }
   ],
   "source": [
    "data['Churn'].replace(to_replace = 'churn',value = 1, inplace = True)\n",
    "data['Churn'].replace(to_replace = 'nochurn',value = 0, inplace = True)\n",
    "data['Churn'].value_counts()\n",
    "data.info()"
   ]
  },
  {
   "cell_type": "markdown",
   "metadata": {},
   "source": [
    "Room Type change?"
   ]
  },
  {
   "cell_type": "code",
   "execution_count": null,
   "metadata": {},
   "outputs": [
    {
     "data": {
      "text/plain": [
       "single    7442\n",
       "double    7021\n",
       "suite     1126\n",
       "Name: RoomType, dtype: int64"
      ]
     },
     "execution_count": 213,
     "metadata": {},
     "output_type": "execute_result"
    }
   ],
   "source": [
    "data['RoomType'].value_counts()"
   ]
  },
  {
   "cell_type": "code",
   "execution_count": null,
   "metadata": {},
   "outputs": [],
   "source": []
  },
  {
   "cell_type": "code",
   "execution_count": null,
   "metadata": {},
   "outputs": [],
   "source": []
  },
  {
   "cell_type": "markdown",
   "metadata": {},
   "source": [
    "<h3>Pearson Correlation Heatmap<h3>"
   ]
  },
  {
   "cell_type": "code",
   "execution_count": null,
   "metadata": {},
   "outputs": [
    {
     "data": {
      "image/png": "[encoded data removed]",
      "text/plain": [
       "<Figure size 864x720 with 2 Axes>"
      ]
     },
     "metadata": {
      "needs_background": "light"
     },
     "output_type": "display_data"
    }
   ],
   "source": [
    "#pearson correlation\n",
    "cor_pearson = data.corr(method ='pearson')\n",
    "#Heatmap function defined\n",
    "def cor_heatmap(cor):\n",
    "    plt.figure(figsize=(12,10))\n",
    "    sns.heatmap(data = cor, annot = True, cmap = plt.cm.Reds, fmt='.1')\n",
    "    plt.show()\n",
    "#print correlation\n",
    "cor_heatmap(cor_pearson)"
   ]
  },
  {
   "cell_type": "code",
   "execution_count": null,
   "metadata": {},
   "outputs": [],
   "source": []
  }
 ],
 "metadata": {
  "kernelspec": {
   "display_name": "Python 3 (ipykernel)",
   "language": "python",
   "name": "python3"
  },
  "language_info": {
   "codemirror_mode": {
    "name": "ipython",
    "version": 3
   },
   "file_extension": ".py",
   "mimetype": "text/x-python",
   "name": "python",
   "nbconvert_exporter": "python",
   "pygments_lexer": "ipython3",
   "version": "3.9.7"
  }
 },
 "nbformat": 4,
 "nbformat_minor": 4
}
