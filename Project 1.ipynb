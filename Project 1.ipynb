{
 "cells": [
  {
   "cell_type": "markdown",
   "metadata": {},
   "source": [
    "<h2>Imports<h2>"
   ]
  },
  {
   "cell_type": "code",
   "execution_count": 2,
   "metadata": {},
   "outputs": [],
   "source": [
    "import pandas as pd\n",
    "import matplotlib.pyplot as plt\n",
    "%matplotlib inline\n",
    "import seaborn as sns\n",
    "from pathlib import Path"
   ]
  },
  {
   "cell_type": "markdown",
   "metadata": {},
   "source": [
    "<p>Reading the document<p>"
   ]
  },
  {
   "cell_type": "code",
   "execution_count": 3,
   "metadata": {},
   "outputs": [],
   "source": [
    "#Open Excel files with different extensions\n",
    "filename = 'train.csv'\n",
    "file_path = Path(filename)\n",
    "file_extension = file_path.suffix.lower()[1:]\n",
    "\n",
    "if file_extension == 'xlsx':\n",
    "    d = pd.read_excel(file_path, engine='openpyxl')\n",
    "    data = d.copy()\n",
    "elif file_extension == 'xls':\n",
    "    d = pd.read_excel(file_path)\n",
    "    data = d.copy()\n",
    "elif file_extension == 'csv':\n",
    "    d = pd.read_csv(file_path, delimiter=\";\")\n",
    "    data = d.copy()\n",
    "else:\n",
    "    raise Exception(\"File not supported\")\n"
   ]
  },
  {
   "cell_type": "markdown",
   "metadata": {},
   "source": [
    "<h3>Data Head<h3>"
   ]
  },
  {
   "cell_type": "code",
   "execution_count": 4,
   "metadata": {},
   "outputs": [
    {
     "data": {
      "text/html": [
       "<div>\n",
       "<style scoped>\n",
       "    .dataframe tbody tr th:only-of-type {\n",
       "        vertical-align: middle;\n",
       "    }\n",
       "\n",
       "    .dataframe tbody tr th {\n",
       "        vertical-align: top;\n",
       "    }\n",
       "\n",
       "    .dataframe thead th {\n",
       "        text-align: right;\n",
       "    }\n",
       "</style>\n",
       "<table border=\"1\" class=\"dataframe\">\n",
       "  <thead>\n",
       "    <tr style=\"text-align: right;\">\n",
       "      <th></th>\n",
       "      <th>Cust_ID</th>\n",
       "      <th>Churn</th>\n",
       "      <th>Name</th>\n",
       "      <th>Longevity</th>\n",
       "      <th>Year_Birth</th>\n",
       "      <th>TypeTravel</th>\n",
       "      <th>RoomType</th>\n",
       "      <th>RewardPoints</th>\n",
       "      <th>Comfort</th>\n",
       "      <th>ReceptionSchedule</th>\n",
       "      <th>...</th>\n",
       "      <th>Wifi</th>\n",
       "      <th>Amenities</th>\n",
       "      <th>Staff</th>\n",
       "      <th>OnlineBooking</th>\n",
       "      <th>PriceQuality</th>\n",
       "      <th>RoomSpace</th>\n",
       "      <th>CheckOut</th>\n",
       "      <th>Checkin</th>\n",
       "      <th>Cleanliness</th>\n",
       "      <th>BarService</th>\n",
       "    </tr>\n",
       "  </thead>\n",
       "  <tbody>\n",
       "    <tr>\n",
       "      <th>0</th>\n",
       "      <td>1</td>\n",
       "      <td>churn</td>\n",
       "      <td>Ms. Nicole Clarke</td>\n",
       "      <td>yes</td>\n",
       "      <td>1974.0</td>\n",
       "      <td>business</td>\n",
       "      <td>single</td>\n",
       "      <td>4907</td>\n",
       "      <td>3</td>\n",
       "      <td>4</td>\n",
       "      <td>...</td>\n",
       "      <td>4</td>\n",
       "      <td>3</td>\n",
       "      <td>4</td>\n",
       "      <td>3</td>\n",
       "      <td>3</td>\n",
       "      <td>3</td>\n",
       "      <td>3</td>\n",
       "      <td>4</td>\n",
       "      <td>3</td>\n",
       "      <td>4</td>\n",
       "    </tr>\n",
       "    <tr>\n",
       "      <th>1</th>\n",
       "      <td>2</td>\n",
       "      <td>nochurn</td>\n",
       "      <td>Mr. Jesse Scott</td>\n",
       "      <td>yes</td>\n",
       "      <td>1965.0</td>\n",
       "      <td>business</td>\n",
       "      <td>single</td>\n",
       "      <td>6724</td>\n",
       "      <td>1</td>\n",
       "      <td>1</td>\n",
       "      <td>...</td>\n",
       "      <td>5</td>\n",
       "      <td>3</td>\n",
       "      <td>4</td>\n",
       "      <td>5</td>\n",
       "      <td>5</td>\n",
       "      <td>5</td>\n",
       "      <td>5</td>\n",
       "      <td>1</td>\n",
       "      <td>5</td>\n",
       "      <td>2</td>\n",
       "    </tr>\n",
       "    <tr>\n",
       "      <th>2</th>\n",
       "      <td>3</td>\n",
       "      <td>churn</td>\n",
       "      <td>Mr. Christopher Carter</td>\n",
       "      <td>yes</td>\n",
       "      <td>1973.0</td>\n",
       "      <td>business</td>\n",
       "      <td>single</td>\n",
       "      <td>4365</td>\n",
       "      <td>3</td>\n",
       "      <td>3</td>\n",
       "      <td>...</td>\n",
       "      <td>1</td>\n",
       "      <td>4</td>\n",
       "      <td>4</td>\n",
       "      <td>3</td>\n",
       "      <td>3</td>\n",
       "      <td>2</td>\n",
       "      <td>3</td>\n",
       "      <td>2</td>\n",
       "      <td>3</td>\n",
       "      <td>1</td>\n",
       "    </tr>\n",
       "    <tr>\n",
       "      <th>3</th>\n",
       "      <td>4</td>\n",
       "      <td>nochurn</td>\n",
       "      <td>Ms. Jennifer Morgan</td>\n",
       "      <td>yes</td>\n",
       "      <td>1993.0</td>\n",
       "      <td>leisure</td>\n",
       "      <td>double</td>\n",
       "      <td>3849</td>\n",
       "      <td>1</td>\n",
       "      <td>1</td>\n",
       "      <td>...</td>\n",
       "      <td>4</td>\n",
       "      <td>4</td>\n",
       "      <td>5</td>\n",
       "      <td>4</td>\n",
       "      <td>4</td>\n",
       "      <td>4</td>\n",
       "      <td>4</td>\n",
       "      <td>4</td>\n",
       "      <td>4</td>\n",
       "      <td>3</td>\n",
       "    </tr>\n",
       "    <tr>\n",
       "      <th>4</th>\n",
       "      <td>5</td>\n",
       "      <td>nochurn</td>\n",
       "      <td>Mr. Michael White</td>\n",
       "      <td>yes</td>\n",
       "      <td>1989.0</td>\n",
       "      <td>business</td>\n",
       "      <td>single</td>\n",
       "      <td>5376</td>\n",
       "      <td>2</td>\n",
       "      <td>2</td>\n",
       "      <td>...</td>\n",
       "      <td>5</td>\n",
       "      <td>5</td>\n",
       "      <td>5</td>\n",
       "      <td>5</td>\n",
       "      <td>5</td>\n",
       "      <td>3</td>\n",
       "      <td>4</td>\n",
       "      <td>1</td>\n",
       "      <td>3</td>\n",
       "      <td>5</td>\n",
       "    </tr>\n",
       "  </tbody>\n",
       "</table>\n",
       "<p>5 rows × 22 columns</p>\n",
       "</div>"
      ],
      "text/plain": [
       "   Cust_ID    Churn                    Name Longevity  Year_Birth TypeTravel  \\\n",
       "0        1    churn       Ms. Nicole Clarke       yes      1974.0   business   \n",
       "1        2  nochurn         Mr. Jesse Scott       yes      1965.0   business   \n",
       "2        3    churn  Mr. Christopher Carter       yes      1973.0   business   \n",
       "3        4  nochurn     Ms. Jennifer Morgan       yes      1993.0    leisure   \n",
       "4        5  nochurn       Mr. Michael White       yes      1989.0   business   \n",
       "\n",
       "  RoomType  RewardPoints  Comfort  ReceptionSchedule  ...  Wifi  Amenities  \\\n",
       "0   single          4907        3                  4  ...     4          3   \n",
       "1   single          6724        1                  1  ...     5          3   \n",
       "2   single          4365        3                  3  ...     1          4   \n",
       "3   double          3849        1                  1  ...     4          4   \n",
       "4   single          5376        2                  2  ...     5          5   \n",
       "\n",
       "   Staff  OnlineBooking  PriceQuality  RoomSpace  CheckOut  Checkin  \\\n",
       "0      4              3             3          3         3        4   \n",
       "1      4              5             5          5         5        1   \n",
       "2      4              3             3          2         3        2   \n",
       "3      5              4             4          4         4        4   \n",
       "4      5              5             5          3         4        1   \n",
       "\n",
       "   Cleanliness  BarService  \n",
       "0            3           4  \n",
       "1            5           2  \n",
       "2            3           1  \n",
       "3            4           3  \n",
       "4            3           5  \n",
       "\n",
       "[5 rows x 22 columns]"
      ]
     },
     "execution_count": 4,
     "metadata": {},
     "output_type": "execute_result"
    }
   ],
   "source": [
    "data.head()"
   ]
  },
  {
   "cell_type": "markdown",
   "metadata": {},
   "source": [
    "<h3>Data Info<h3>"
   ]
  },
  {
   "cell_type": "code",
   "execution_count": 5,
   "metadata": {},
   "outputs": [
    {
     "name": "stdout",
     "output_type": "stream",
     "text": [
      "<class 'pandas.core.frame.DataFrame'>\n",
      "RangeIndex: 15589 entries, 0 to 15588\n",
      "Data columns (total 22 columns):\n",
      " #   Column             Non-Null Count  Dtype  \n",
      "---  ------             --------------  -----  \n",
      " 0   Cust_ID            15589 non-null  int64  \n",
      " 1   Churn              15589 non-null  object \n",
      " 2   Name               15589 non-null  object \n",
      " 3   Longevity          15589 non-null  object \n",
      " 4   Year_Birth         15394 non-null  float64\n",
      " 5   TypeTravel         15589 non-null  object \n",
      " 6   RoomType           15589 non-null  object \n",
      " 7   RewardPoints       15589 non-null  int64  \n",
      " 8   Comfort            15589 non-null  int64  \n",
      " 9   ReceptionSchedule  15589 non-null  int64  \n",
      " 10  FoodDrink          15589 non-null  int64  \n",
      " 11  Location           15589 non-null  int64  \n",
      " 12  Wifi               15589 non-null  int64  \n",
      " 13  Amenities          15589 non-null  int64  \n",
      " 14  Staff              15589 non-null  int64  \n",
      " 15  OnlineBooking      15589 non-null  int64  \n",
      " 16  PriceQuality       15589 non-null  int64  \n",
      " 17  RoomSpace          15589 non-null  int64  \n",
      " 18  CheckOut           15589 non-null  int64  \n",
      " 19  Checkin            15589 non-null  int64  \n",
      " 20  Cleanliness        15589 non-null  int64  \n",
      " 21  BarService         15589 non-null  int64  \n",
      "dtypes: float64(1), int64(16), object(5)\n",
      "memory usage: 2.6+ MB\n"
     ]
    }
   ],
   "source": [
    "data.info()"
   ]
  },
  {
   "cell_type": "code",
   "execution_count": 6,
   "metadata": {},
   "outputs": [
    {
     "data": {
      "text/plain": [
       "(15589, 22)"
      ]
     },
     "execution_count": 6,
     "metadata": {},
     "output_type": "execute_result"
    }
   ],
   "source": [
    "data.shape"
   ]
  },
  {
   "cell_type": "markdown",
   "metadata": {},
   "source": [
    "<h3>Looking for Null values<h3>"
   ]
  },
  {
   "cell_type": "code",
   "execution_count": 7,
   "metadata": {},
   "outputs": [
    {
     "data": {
      "text/plain": [
       "Cust_ID              0.000000\n",
       "Churn                0.000000\n",
       "Name                 0.000000\n",
       "Longevity            0.000000\n",
       "Year_Birth           1.250882\n",
       "TypeTravel           0.000000\n",
       "RoomType             0.000000\n",
       "RewardPoints         0.000000\n",
       "Comfort              0.000000\n",
       "ReceptionSchedule    0.000000\n",
       "FoodDrink            0.000000\n",
       "Location             0.000000\n",
       "Wifi                 0.000000\n",
       "Amenities            0.000000\n",
       "Staff                0.000000\n",
       "OnlineBooking        0.000000\n",
       "PriceQuality         0.000000\n",
       "RoomSpace            0.000000\n",
       "CheckOut             0.000000\n",
       "Checkin              0.000000\n",
       "Cleanliness          0.000000\n",
       "BarService           0.000000\n",
       "dtype: float64"
      ]
     },
     "execution_count": 7,
     "metadata": {},
     "output_type": "execute_result"
    }
   ],
   "source": [
    "data.isna().sum()/len(data)*100"
   ]
  },
  {
   "cell_type": "markdown",
   "metadata": {},
   "source": [
    "<h3>Eliminate the records where the Year_Birth is null <h3>"
   ]
  },
  {
   "cell_type": "code",
   "execution_count": 26,
   "metadata": {},
   "outputs": [],
   "source": [
    "data.dropna(subset=['Year_Birth'], inplace=True)"
   ]
  },
  {
   "cell_type": "markdown",
   "metadata": {},
   "source": [
    "<p> Now we will check the null values again, to make sure we do not havy any </p>"
   ]
  },
  {
   "cell_type": "code",
   "execution_count": null,
   "metadata": {},
   "outputs": [
    {
     "data": {
      "text/plain": [
       "Cust_ID              0.0\n",
       "Churn                0.0\n",
       "Name                 0.0\n",
       "Longevity            0.0\n",
       "Year_Birth           0.0\n",
       "TypeTravel           0.0\n",
       "RoomType             0.0\n",
       "RewardPoints         0.0\n",
       "Comfort              0.0\n",
       "ReceptionSchedule    0.0\n",
       "FoodDrink            0.0\n",
       "Location             0.0\n",
       "Wifi                 0.0\n",
       "Amenities            0.0\n",
       "Staff                0.0\n",
       "OnlineBooking        0.0\n",
       "PriceQuality         0.0\n",
       "RoomSpace            0.0\n",
       "CheckOut             0.0\n",
       "Checkin              0.0\n",
       "Cleanliness          0.0\n",
       "BarService           0.0\n",
       "dtype: float64"
      ]
     },
     "execution_count": 27,
     "metadata": {},
     "output_type": "execute_result"
    }
   ],
   "source": [
    "data.isna().sum()/len(data)*100"
   ]
  },
  {
   "cell_type": "markdown",
   "metadata": {},
   "source": [
    "<h3>Changing the values of Column \"Longevity\"<h3>\n",
    "    Yes=1;  no=0;  y=1 "
   ]
  },
  {
   "cell_type": "code",
   "execution_count": null,
   "metadata": {},
   "outputs": [
    {
     "data": {
      "text/plain": [
       "1    12556\n",
       "0     2838\n",
       "Name: Longevity, dtype: int64"
      ]
     },
     "execution_count": 28,
     "metadata": {},
     "output_type": "execute_result"
    }
   ],
   "source": [
    "data['Longevity'].value_counts()"
   ]
  },
  {
   "cell_type": "code",
   "execution_count": null,
   "metadata": {},
   "outputs": [
    {
     "data": {
      "text/plain": [
       "1    12556\n",
       "0     2838\n",
       "Name: Longevity, dtype: int64"
      ]
     },
     "execution_count": 29,
     "metadata": {},
     "output_type": "execute_result"
    }
   ],
   "source": [
    "data['Longevity'].replace(to_replace = 'yes',value = '1', inplace = True)\n",
    "data['Longevity'].replace(to_replace = 'y',value = '1', inplace = True)\n",
    "data['Longevity'].replace(to_replace = 'no',value = '0', inplace = True)\n",
    "data['Longevity'].value_counts()"
   ]
  },
  {
   "cell_type": "markdown",
   "metadata": {},
   "source": [
    "<h3>Changing the Values of Column \"TypeTravel\"<h3>\n",
    " <p>business = 1 leisure = 0 <p>"
   ]
  },
  {
   "cell_type": "code",
   "execution_count": null,
   "metadata": {},
   "outputs": [
    {
     "data": {
      "text/plain": [
       "1    10627\n",
       "0     4767\n",
       "Name: TypeTravel, dtype: int64"
      ]
     },
     "execution_count": 30,
     "metadata": {},
     "output_type": "execute_result"
    }
   ],
   "source": [
    "data['TypeTravel'].value_counts()"
   ]
  },
  {
   "cell_type": "code",
   "execution_count": null,
   "metadata": {},
   "outputs": [
    {
     "data": {
      "text/plain": [
       "1    10627\n",
       "0     4767\n",
       "Name: TypeTravel, dtype: int64"
      ]
     },
     "execution_count": 31,
     "metadata": {},
     "output_type": "execute_result"
    }
   ],
   "source": [
    "data['TypeTravel'].replace(to_replace = 'business',value = '1', inplace = True)\n",
    "data['TypeTravel'].replace(to_replace = 'leisure',value = '0', inplace = True)\n",
    "data['TypeTravel'].value_counts()"
   ]
  },
  {
   "cell_type": "markdown",
   "metadata": {},
   "source": [
    "<h3>Changing the Values of Column \"Wifi\"<h3>\n",
    " <p>6 were Replaced by 5 <p>"
   ]
  },
  {
   "cell_type": "code",
   "execution_count": null,
   "metadata": {},
   "outputs": [
    {
     "data": {
      "text/plain": [
       "<AxesSubplot:xlabel='Wifi'>"
      ]
     },
     "execution_count": 32,
     "metadata": {},
     "output_type": "execute_result"
    },
    {
     "data": {
      "image/png": "[encoded data removed]",
      "text/plain": [
       "<Figure size 432x288 with 1 Axes>"
      ]
     },
     "metadata": {
      "needs_background": "light"
     },
     "output_type": "display_data"
    }
   ],
   "source": [
    "sns.boxplot(x=\"Wifi\", data = data[['Wifi']])"
   ]
  },
  {
   "cell_type": "code",
   "execution_count": null,
   "metadata": {},
   "outputs": [
    {
     "data": {
      "text/plain": [
       "4    3667\n",
       "5    3432\n",
       "3    3307\n",
       "2    3190\n",
       "1    1780\n",
       "0      18\n",
       "Name: Wifi, dtype: int64"
      ]
     },
     "execution_count": 33,
     "metadata": {},
     "output_type": "execute_result"
    }
   ],
   "source": [
    "data['Wifi'].value_counts()"
   ]
  },
  {
   "cell_type": "code",
   "execution_count": null,
   "metadata": {},
   "outputs": [
    {
     "data": {
      "text/plain": [
       "4    3667\n",
       "5    3432\n",
       "3    3307\n",
       "2    3190\n",
       "1    1780\n",
       "0      18\n",
       "Name: Wifi, dtype: int64"
      ]
     },
     "execution_count": 34,
     "metadata": {},
     "output_type": "execute_result"
    }
   ],
   "source": [
    "data['Wifi'].replace(to_replace = 6,value = 5, inplace = True)\n",
    "data['Wifi'].value_counts()"
   ]
  },
  {
   "cell_type": "code",
   "execution_count": null,
   "metadata": {},
   "outputs": [],
   "source": []
  },
  {
   "cell_type": "code",
   "execution_count": null,
   "metadata": {},
   "outputs": [
    {
     "data": {
      "text/plain": [
       "single    7350\n",
       "double    6932\n",
       "suite     1112\n",
       "Name: RoomType, dtype: int64"
      ]
     },
     "execution_count": 35,
     "metadata": {},
     "output_type": "execute_result"
    }
   ],
   "source": [
    "data['RoomType'].value_counts()"
   ]
  },
  {
   "cell_type": "code",
   "execution_count": null,
   "metadata": {},
   "outputs": [],
   "source": []
  },
  {
   "cell_type": "code",
   "execution_count": null,
   "metadata": {},
   "outputs": [],
   "source": []
  },
  {
   "cell_type": "code",
   "execution_count": null,
   "metadata": {},
   "outputs": [],
   "source": []
  },
  {
   "cell_type": "code",
   "execution_count": null,
   "metadata": {},
   "outputs": [],
   "source": []
  }
 ],
 "metadata": {
  "kernelspec": {
   "display_name": "Python 3 (ipykernel)",
   "language": "python",
   "name": "python3"
  },
  "language_info": {
   "codemirror_mode": {
    "name": "ipython",
    "version": 3
   },
   "file_extension": ".py",
   "mimetype": "text/x-python",
   "name": "python",
   "nbconvert_exporter": "python",
   "pygments_lexer": "ipython3",
   "version": "3.9.7"
  }
 },
 "nbformat": 4,
 "nbformat_minor": 4
}
