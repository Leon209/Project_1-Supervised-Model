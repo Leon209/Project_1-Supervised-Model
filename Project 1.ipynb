{
 "cells": [
  {
   "cell_type": "markdown",
   "metadata": {},
   "source": [
    "<h2>Imports<h2>"
   ]
  },
  {
   "cell_type": "code",
   "execution_count": 3,
   "metadata": {},
   "outputs": [],
   "source": [
    "import pandas as pd\n",
    "import matplotlib.pyplot as plt\n",
    "import numpy as np\n",
    "import time\n",
    "%matplotlib inline\n",
    "import seaborn as sns\n",
    "from pathlib import Path\n",
    "from sklearn.impute import KNNImputer\n",
    "from sklearn.preprocessing import MinMaxScaler\n",
    "from sklearn.preprocessing import PowerTransformer\n",
    "from sklearn.linear_model import LogisticRegression\n",
    "from sklearn.neighbors import KNeighborsClassifier\n",
    "from sklearn.tree import DecisionTreeClassifier\n",
    "from sklearn.neural_network import MLPClassifier\n",
    "from sklearn.model_selection import GridSearchCV\n",
    "from sklearn.metrics import f1_score\n",
    "from sklearn.metrics import classification_report, confusion_matrix"
   ]
  },
  {
   "cell_type": "markdown",
   "metadata": {},
   "source": [
    "<p>Reading the document<p>"
   ]
  },
  {
   "cell_type": "code",
   "execution_count": 4,
   "metadata": {},
   "outputs": [],
   "source": [
    "#Open Excel files with different extensions\n",
    "filename = 'train.csv'\n",
    "file_path = Path(filename)\n",
    "file_extension = file_path.suffix.lower()[1:]\n",
    "\n",
    "if file_extension == 'xlsx':\n",
    "    d = pd.read_excel(file_path, engine='openpyxl')\n",
    "    data = d.copy()\n",
    "elif file_extension == 'xls':\n",
    "    d = pd.read_excel(file_path)\n",
    "    data = d.copy()\n",
    "elif file_extension == 'csv':\n",
    "    d = pd.read_csv(file_path, delimiter=\";\")\n",
    "    data = d.copy()\n",
    "else:\n",
    "    raise Exception(\"File not supported\")\n"
   ]
  },
  {
   "cell_type": "markdown",
   "metadata": {},
   "source": [
    "<h3>Data Head<h3>"
   ]
  },
  {
   "cell_type": "code",
   "execution_count": 5,
   "metadata": {},
   "outputs": [
    {
     "data": {
      "text/html": [
       "<div>\n",
       "<style scoped>\n",
       "    .dataframe tbody tr th:only-of-type {\n",
       "        vertical-align: middle;\n",
       "    }\n",
       "\n",
       "    .dataframe tbody tr th {\n",
       "        vertical-align: top;\n",
       "    }\n",
       "\n",
       "    .dataframe thead th {\n",
       "        text-align: right;\n",
       "    }\n",
       "</style>\n",
       "<table border=\"1\" class=\"dataframe\">\n",
       "  <thead>\n",
       "    <tr style=\"text-align: right;\">\n",
       "      <th></th>\n",
       "      <th>Cust_ID</th>\n",
       "      <th>Churn</th>\n",
       "      <th>Name</th>\n",
       "      <th>Longevity</th>\n",
       "      <th>Year_Birth</th>\n",
       "      <th>TypeTravel</th>\n",
       "      <th>RoomType</th>\n",
       "      <th>RewardPoints</th>\n",
       "      <th>Comfort</th>\n",
       "      <th>ReceptionSchedule</th>\n",
       "      <th>...</th>\n",
       "      <th>Wifi</th>\n",
       "      <th>Amenities</th>\n",
       "      <th>Staff</th>\n",
       "      <th>OnlineBooking</th>\n",
       "      <th>PriceQuality</th>\n",
       "      <th>RoomSpace</th>\n",
       "      <th>CheckOut</th>\n",
       "      <th>Checkin</th>\n",
       "      <th>Cleanliness</th>\n",
       "      <th>BarService</th>\n",
       "    </tr>\n",
       "  </thead>\n",
       "  <tbody>\n",
       "    <tr>\n",
       "      <th>0</th>\n",
       "      <td>1</td>\n",
       "      <td>churn</td>\n",
       "      <td>Ms. Nicole Clarke</td>\n",
       "      <td>yes</td>\n",
       "      <td>1974.0</td>\n",
       "      <td>business</td>\n",
       "      <td>single</td>\n",
       "      <td>4907</td>\n",
       "      <td>3</td>\n",
       "      <td>4</td>\n",
       "      <td>...</td>\n",
       "      <td>4</td>\n",
       "      <td>3</td>\n",
       "      <td>4</td>\n",
       "      <td>3</td>\n",
       "      <td>3</td>\n",
       "      <td>3</td>\n",
       "      <td>3</td>\n",
       "      <td>4</td>\n",
       "      <td>3</td>\n",
       "      <td>4</td>\n",
       "    </tr>\n",
       "    <tr>\n",
       "      <th>1</th>\n",
       "      <td>2</td>\n",
       "      <td>nochurn</td>\n",
       "      <td>Mr. Jesse Scott</td>\n",
       "      <td>yes</td>\n",
       "      <td>1965.0</td>\n",
       "      <td>business</td>\n",
       "      <td>single</td>\n",
       "      <td>6724</td>\n",
       "      <td>1</td>\n",
       "      <td>1</td>\n",
       "      <td>...</td>\n",
       "      <td>5</td>\n",
       "      <td>3</td>\n",
       "      <td>4</td>\n",
       "      <td>5</td>\n",
       "      <td>5</td>\n",
       "      <td>5</td>\n",
       "      <td>5</td>\n",
       "      <td>1</td>\n",
       "      <td>5</td>\n",
       "      <td>2</td>\n",
       "    </tr>\n",
       "    <tr>\n",
       "      <th>2</th>\n",
       "      <td>3</td>\n",
       "      <td>churn</td>\n",
       "      <td>Mr. Christopher Carter</td>\n",
       "      <td>yes</td>\n",
       "      <td>1973.0</td>\n",
       "      <td>business</td>\n",
       "      <td>single</td>\n",
       "      <td>4365</td>\n",
       "      <td>3</td>\n",
       "      <td>3</td>\n",
       "      <td>...</td>\n",
       "      <td>1</td>\n",
       "      <td>4</td>\n",
       "      <td>4</td>\n",
       "      <td>3</td>\n",
       "      <td>3</td>\n",
       "      <td>2</td>\n",
       "      <td>3</td>\n",
       "      <td>2</td>\n",
       "      <td>3</td>\n",
       "      <td>1</td>\n",
       "    </tr>\n",
       "    <tr>\n",
       "      <th>3</th>\n",
       "      <td>4</td>\n",
       "      <td>nochurn</td>\n",
       "      <td>Ms. Jennifer Morgan</td>\n",
       "      <td>yes</td>\n",
       "      <td>1993.0</td>\n",
       "      <td>leisure</td>\n",
       "      <td>double</td>\n",
       "      <td>3849</td>\n",
       "      <td>1</td>\n",
       "      <td>1</td>\n",
       "      <td>...</td>\n",
       "      <td>4</td>\n",
       "      <td>4</td>\n",
       "      <td>5</td>\n",
       "      <td>4</td>\n",
       "      <td>4</td>\n",
       "      <td>4</td>\n",
       "      <td>4</td>\n",
       "      <td>4</td>\n",
       "      <td>4</td>\n",
       "      <td>3</td>\n",
       "    </tr>\n",
       "    <tr>\n",
       "      <th>4</th>\n",
       "      <td>5</td>\n",
       "      <td>nochurn</td>\n",
       "      <td>Mr. Michael White</td>\n",
       "      <td>yes</td>\n",
       "      <td>1989.0</td>\n",
       "      <td>business</td>\n",
       "      <td>single</td>\n",
       "      <td>5376</td>\n",
       "      <td>2</td>\n",
       "      <td>2</td>\n",
       "      <td>...</td>\n",
       "      <td>5</td>\n",
       "      <td>5</td>\n",
       "      <td>5</td>\n",
       "      <td>5</td>\n",
       "      <td>5</td>\n",
       "      <td>3</td>\n",
       "      <td>4</td>\n",
       "      <td>1</td>\n",
       "      <td>3</td>\n",
       "      <td>5</td>\n",
       "    </tr>\n",
       "  </tbody>\n",
       "</table>\n",
       "<p>5 rows × 22 columns</p>\n",
       "</div>"
      ],
      "text/plain": [
       "   Cust_ID    Churn                    Name Longevity  Year_Birth TypeTravel  \\\n",
       "0        1    churn       Ms. Nicole Clarke       yes      1974.0   business   \n",
       "1        2  nochurn         Mr. Jesse Scott       yes      1965.0   business   \n",
       "2        3    churn  Mr. Christopher Carter       yes      1973.0   business   \n",
       "3        4  nochurn     Ms. Jennifer Morgan       yes      1993.0    leisure   \n",
       "4        5  nochurn       Mr. Michael White       yes      1989.0   business   \n",
       "\n",
       "  RoomType  RewardPoints  Comfort  ReceptionSchedule  ...  Wifi  Amenities  \\\n",
       "0   single          4907        3                  4  ...     4          3   \n",
       "1   single          6724        1                  1  ...     5          3   \n",
       "2   single          4365        3                  3  ...     1          4   \n",
       "3   double          3849        1                  1  ...     4          4   \n",
       "4   single          5376        2                  2  ...     5          5   \n",
       "\n",
       "   Staff  OnlineBooking  PriceQuality  RoomSpace  CheckOut  Checkin  \\\n",
       "0      4              3             3          3         3        4   \n",
       "1      4              5             5          5         5        1   \n",
       "2      4              3             3          2         3        2   \n",
       "3      5              4             4          4         4        4   \n",
       "4      5              5             5          3         4        1   \n",
       "\n",
       "   Cleanliness  BarService  \n",
       "0            3           4  \n",
       "1            5           2  \n",
       "2            3           1  \n",
       "3            4           3  \n",
       "4            3           5  \n",
       "\n",
       "[5 rows x 22 columns]"
      ]
     },
     "execution_count": 5,
     "metadata": {},
     "output_type": "execute_result"
    }
   ],
   "source": [
    "data.head()"
   ]
  },
  {
   "cell_type": "markdown",
   "metadata": {},
   "source": [
    "<h3>Data Info<h3>"
   ]
  },
  {
   "cell_type": "code",
   "execution_count": 6,
   "metadata": {},
   "outputs": [
    {
     "name": "stdout",
     "output_type": "stream",
     "text": [
      "<class 'pandas.core.frame.DataFrame'>\n",
      "RangeIndex: 15589 entries, 0 to 15588\n",
      "Data columns (total 22 columns):\n",
      " #   Column             Non-Null Count  Dtype  \n",
      "---  ------             --------------  -----  \n",
      " 0   Cust_ID            15589 non-null  int64  \n",
      " 1   Churn              15589 non-null  object \n",
      " 2   Name               15589 non-null  object \n",
      " 3   Longevity          15589 non-null  object \n",
      " 4   Year_Birth         15394 non-null  float64\n",
      " 5   TypeTravel         15589 non-null  object \n",
      " 6   RoomType           15589 non-null  object \n",
      " 7   RewardPoints       15589 non-null  int64  \n",
      " 8   Comfort            15589 non-null  int64  \n",
      " 9   ReceptionSchedule  15589 non-null  int64  \n",
      " 10  FoodDrink          15589 non-null  int64  \n",
      " 11  Location           15589 non-null  int64  \n",
      " 12  Wifi               15589 non-null  int64  \n",
      " 13  Amenities          15589 non-null  int64  \n",
      " 14  Staff              15589 non-null  int64  \n",
      " 15  OnlineBooking      15589 non-null  int64  \n",
      " 16  PriceQuality       15589 non-null  int64  \n",
      " 17  RoomSpace          15589 non-null  int64  \n",
      " 18  CheckOut           15589 non-null  int64  \n",
      " 19  Checkin            15589 non-null  int64  \n",
      " 20  Cleanliness        15589 non-null  int64  \n",
      " 21  BarService         15589 non-null  int64  \n",
      "dtypes: float64(1), int64(16), object(5)\n",
      "memory usage: 2.6+ MB\n"
     ]
    }
   ],
   "source": [
    "data.info()"
   ]
  },
  {
   "cell_type": "code",
   "execution_count": 7,
   "metadata": {},
   "outputs": [
    {
     "data": {
      "text/plain": [
       "(15589, 22)"
      ]
     },
     "execution_count": 7,
     "metadata": {},
     "output_type": "execute_result"
    }
   ],
   "source": [
    "data.shape"
   ]
  },
  {
   "cell_type": "markdown",
   "metadata": {},
   "source": [
    "<h3>Looking for Null values<h3>"
   ]
  },
  {
   "cell_type": "markdown",
   "metadata": {},
   "source": [
    "<p> By summing the null values for each attribute and then dividing them by the total of values of the same attribute, we will obtain the percentage of null values that each column has. A value different from 0 means that the column has 1 or more missing values, which is not desired. </p>"
   ]
  },
  {
   "cell_type": "code",
   "execution_count": 8,
   "metadata": {},
   "outputs": [
    {
     "data": {
      "text/plain": [
       "Cust_ID              0.000000\n",
       "Churn                0.000000\n",
       "Name                 0.000000\n",
       "Longevity            0.000000\n",
       "Year_Birth           1.250882\n",
       "TypeTravel           0.000000\n",
       "RoomType             0.000000\n",
       "RewardPoints         0.000000\n",
       "Comfort              0.000000\n",
       "ReceptionSchedule    0.000000\n",
       "FoodDrink            0.000000\n",
       "Location             0.000000\n",
       "Wifi                 0.000000\n",
       "Amenities            0.000000\n",
       "Staff                0.000000\n",
       "OnlineBooking        0.000000\n",
       "PriceQuality         0.000000\n",
       "RoomSpace            0.000000\n",
       "CheckOut             0.000000\n",
       "Checkin              0.000000\n",
       "Cleanliness          0.000000\n",
       "BarService           0.000000\n",
       "dtype: float64"
      ]
     },
     "execution_count": 8,
     "metadata": {},
     "output_type": "execute_result"
    }
   ],
   "source": [
    "data.isna().sum()/len(data)*100"
   ]
  },
  {
   "cell_type": "markdown",
   "metadata": {},
   "source": [
    "<h3>Check if there are any duplicate values</h3>"
   ]
  },
  {
   "cell_type": "code",
   "execution_count": 9,
   "metadata": {},
   "outputs": [
    {
     "data": {
      "text/plain": [
       "0"
      ]
     },
     "execution_count": 9,
     "metadata": {},
     "output_type": "execute_result"
    }
   ],
   "source": [
    "data.duplicated().sum()"
   ]
  },
  {
   "cell_type": "markdown",
   "metadata": {},
   "source": [
    "<p> We conclude that there are no duplicates in our dataset. Hence, no measures have to be taken into action. </p>"
   ]
  },
  {
   "cell_type": "markdown",
   "metadata": {},
   "source": [
    "<h3> Find outliers in Year_Birth <h3>"
   ]
  },
  {
   "cell_type": "code",
   "execution_count": 10,
   "metadata": {},
   "outputs": [
    {
     "data": {
      "text/plain": [
       "<AxesSubplot:xlabel='Year_Birth', ylabel='Count'>"
      ]
     },
     "execution_count": 10,
     "metadata": {},
     "output_type": "execute_result"
    },
    {
     "data": {
      "image/png": "[encoded data removed]",
      "text/plain": [
       "<Figure size 432x288 with 1 Axes>"
      ]
     },
     "metadata": {
      "needs_background": "light"
     },
     "output_type": "display_data"
    }
   ],
   "source": [
    "sns.histplot(data=data, x='Year_Birth')"
   ]
  },
  {
   "cell_type": "markdown",
   "metadata": {},
   "source": [
    "<h3> Power Transformation for Reward Points <h3>"
   ]
  },
  {
   "cell_type": "markdown",
   "metadata": {},
   "source": [
    "<p>We will now apply a power transformation to make data more Gaussian-like.</p>"
   ]
  },
  {
   "cell_type": "code",
   "execution_count": 11,
   "metadata": {},
   "outputs": [
    {
     "data": {
      "text/plain": [
       "<AxesSubplot:xlabel='RewardPoints', ylabel='Count'>"
      ]
     },
     "execution_count": 11,
     "metadata": {},
     "output_type": "execute_result"
    },
    {
     "data": {
      "image/png": "[encoded data removed]",
      "text/plain": [
       "<Figure size 432x288 with 1 Axes>"
      ]
     },
     "metadata": {
      "needs_background": "light"
     },
     "output_type": "display_data"
    }
   ],
   "source": [
    "sns.histplot(data=data, x='RewardPoints', bins = 15)"
   ]
  },
  {
   "cell_type": "code",
   "execution_count": 12,
   "metadata": {},
   "outputs": [
    {
     "name": "stdout",
     "output_type": "stream",
     "text": [
      "PowerTransformer()\n",
      "[1.64085728]\n",
      "[[-0.18403753]\n",
      " [ 1.81745736]\n",
      " [-0.70077981]\n",
      " ...\n",
      " [-0.98652552]\n",
      " [ 0.06514977]\n",
      " [ 0.04578109]]\n"
     ]
    }
   ],
   "source": [
    "pt = PowerTransformer()\n",
    "print(pt.fit(data[\"RewardPoints\"].values.reshape(-1, 1)))\n",
    "PowerTransformer()\n",
    "print(pt.lambdas_)\n",
    "print(pt.transform(data[\"RewardPoints\"].values.reshape(-1, 1)))\n"
   ]
  },
  {
   "cell_type": "code",
   "execution_count": 13,
   "metadata": {},
   "outputs": [
    {
     "data": {
      "text/plain": [
       "<AxesSubplot:xlabel='RewardPoints', ylabel='Count'>"
      ]
     },
     "execution_count": 13,
     "metadata": {},
     "output_type": "execute_result"
    },
    {
     "data": {
      "image/png": "[encoded data removed]",
      "text/plain": [
       "<Figure size 432x288 with 1 Axes>"
      ]
     },
     "metadata": {
      "needs_background": "light"
     },
     "output_type": "display_data"
    }
   ],
   "source": [
    "sns.histplot(data=data, x='RewardPoints', bins = 15)"
   ]
  },
  {
   "cell_type": "markdown",
   "metadata": {},
   "source": [
    "<h3>Use KNN inputer for the missing values in Year_Birth <h3>"
   ]
  },
  {
   "cell_type": "code",
   "execution_count": 14,
   "metadata": {},
   "outputs": [],
   "source": [
    "# creating an object for KNNImputer\n",
    "imputer = KNNImputer(n_neighbors=5)\n",
    "\n",
    "imputer.fit(data['Year_Birth'].values.reshape(-1, 1))\n",
    "data['Year_Birth'] = imputer.transform(data['Year_Birth'].values.reshape(-1, 1))"
   ]
  },
  {
   "cell_type": "code",
   "execution_count": 15,
   "metadata": {},
   "outputs": [
    {
     "data": {
      "text/html": [
       "<div>\n",
       "<style scoped>\n",
       "    .dataframe tbody tr th:only-of-type {\n",
       "        vertical-align: middle;\n",
       "    }\n",
       "\n",
       "    .dataframe tbody tr th {\n",
       "        vertical-align: top;\n",
       "    }\n",
       "\n",
       "    .dataframe thead th {\n",
       "        text-align: right;\n",
       "    }\n",
       "</style>\n",
       "<table border=\"1\" class=\"dataframe\">\n",
       "  <thead>\n",
       "    <tr style=\"text-align: right;\">\n",
       "      <th></th>\n",
       "      <th>Cust_ID</th>\n",
       "      <th>Churn</th>\n",
       "      <th>Name</th>\n",
       "      <th>Longevity</th>\n",
       "      <th>Year_Birth</th>\n",
       "      <th>TypeTravel</th>\n",
       "      <th>RoomType</th>\n",
       "      <th>RewardPoints</th>\n",
       "      <th>Comfort</th>\n",
       "      <th>ReceptionSchedule</th>\n",
       "      <th>...</th>\n",
       "      <th>Wifi</th>\n",
       "      <th>Amenities</th>\n",
       "      <th>Staff</th>\n",
       "      <th>OnlineBooking</th>\n",
       "      <th>PriceQuality</th>\n",
       "      <th>RoomSpace</th>\n",
       "      <th>CheckOut</th>\n",
       "      <th>Checkin</th>\n",
       "      <th>Cleanliness</th>\n",
       "      <th>BarService</th>\n",
       "    </tr>\n",
       "  </thead>\n",
       "  <tbody>\n",
       "    <tr>\n",
       "      <th>0</th>\n",
       "      <td>1</td>\n",
       "      <td>churn</td>\n",
       "      <td>Ms. Nicole Clarke</td>\n",
       "      <td>yes</td>\n",
       "      <td>1974.000000</td>\n",
       "      <td>business</td>\n",
       "      <td>single</td>\n",
       "      <td>4907</td>\n",
       "      <td>3</td>\n",
       "      <td>4</td>\n",
       "      <td>...</td>\n",
       "      <td>4</td>\n",
       "      <td>3</td>\n",
       "      <td>4</td>\n",
       "      <td>3</td>\n",
       "      <td>3</td>\n",
       "      <td>3</td>\n",
       "      <td>3</td>\n",
       "      <td>4</td>\n",
       "      <td>3</td>\n",
       "      <td>4</td>\n",
       "    </tr>\n",
       "    <tr>\n",
       "      <th>1</th>\n",
       "      <td>2</td>\n",
       "      <td>nochurn</td>\n",
       "      <td>Mr. Jesse Scott</td>\n",
       "      <td>yes</td>\n",
       "      <td>1965.000000</td>\n",
       "      <td>business</td>\n",
       "      <td>single</td>\n",
       "      <td>6724</td>\n",
       "      <td>1</td>\n",
       "      <td>1</td>\n",
       "      <td>...</td>\n",
       "      <td>5</td>\n",
       "      <td>3</td>\n",
       "      <td>4</td>\n",
       "      <td>5</td>\n",
       "      <td>5</td>\n",
       "      <td>5</td>\n",
       "      <td>5</td>\n",
       "      <td>1</td>\n",
       "      <td>5</td>\n",
       "      <td>2</td>\n",
       "    </tr>\n",
       "    <tr>\n",
       "      <th>2</th>\n",
       "      <td>3</td>\n",
       "      <td>churn</td>\n",
       "      <td>Mr. Christopher Carter</td>\n",
       "      <td>yes</td>\n",
       "      <td>1973.000000</td>\n",
       "      <td>business</td>\n",
       "      <td>single</td>\n",
       "      <td>4365</td>\n",
       "      <td>3</td>\n",
       "      <td>3</td>\n",
       "      <td>...</td>\n",
       "      <td>1</td>\n",
       "      <td>4</td>\n",
       "      <td>4</td>\n",
       "      <td>3</td>\n",
       "      <td>3</td>\n",
       "      <td>2</td>\n",
       "      <td>3</td>\n",
       "      <td>2</td>\n",
       "      <td>3</td>\n",
       "      <td>1</td>\n",
       "    </tr>\n",
       "    <tr>\n",
       "      <th>3</th>\n",
       "      <td>4</td>\n",
       "      <td>nochurn</td>\n",
       "      <td>Ms. Jennifer Morgan</td>\n",
       "      <td>yes</td>\n",
       "      <td>1993.000000</td>\n",
       "      <td>leisure</td>\n",
       "      <td>double</td>\n",
       "      <td>3849</td>\n",
       "      <td>1</td>\n",
       "      <td>1</td>\n",
       "      <td>...</td>\n",
       "      <td>4</td>\n",
       "      <td>4</td>\n",
       "      <td>5</td>\n",
       "      <td>4</td>\n",
       "      <td>4</td>\n",
       "      <td>4</td>\n",
       "      <td>4</td>\n",
       "      <td>4</td>\n",
       "      <td>4</td>\n",
       "      <td>3</td>\n",
       "    </tr>\n",
       "    <tr>\n",
       "      <th>4</th>\n",
       "      <td>5</td>\n",
       "      <td>nochurn</td>\n",
       "      <td>Mr. Michael White</td>\n",
       "      <td>yes</td>\n",
       "      <td>1989.000000</td>\n",
       "      <td>business</td>\n",
       "      <td>single</td>\n",
       "      <td>5376</td>\n",
       "      <td>2</td>\n",
       "      <td>2</td>\n",
       "      <td>...</td>\n",
       "      <td>5</td>\n",
       "      <td>5</td>\n",
       "      <td>5</td>\n",
       "      <td>5</td>\n",
       "      <td>5</td>\n",
       "      <td>3</td>\n",
       "      <td>4</td>\n",
       "      <td>1</td>\n",
       "      <td>3</td>\n",
       "      <td>5</td>\n",
       "    </tr>\n",
       "    <tr>\n",
       "      <th>5</th>\n",
       "      <td>6</td>\n",
       "      <td>churn</td>\n",
       "      <td>Ms. Morgan Briggs</td>\n",
       "      <td>yes</td>\n",
       "      <td>1975.000000</td>\n",
       "      <td>business</td>\n",
       "      <td>double</td>\n",
       "      <td>5342</td>\n",
       "      <td>2</td>\n",
       "      <td>2</td>\n",
       "      <td>...</td>\n",
       "      <td>3</td>\n",
       "      <td>2</td>\n",
       "      <td>2</td>\n",
       "      <td>2</td>\n",
       "      <td>2</td>\n",
       "      <td>2</td>\n",
       "      <td>2</td>\n",
       "      <td>4</td>\n",
       "      <td>2</td>\n",
       "      <td>1</td>\n",
       "    </tr>\n",
       "    <tr>\n",
       "      <th>6</th>\n",
       "      <td>7</td>\n",
       "      <td>churn</td>\n",
       "      <td>Ms. Kellie Alvarez</td>\n",
       "      <td>no</td>\n",
       "      <td>1990.000000</td>\n",
       "      <td>business</td>\n",
       "      <td>double</td>\n",
       "      <td>4909</td>\n",
       "      <td>2</td>\n",
       "      <td>2</td>\n",
       "      <td>...</td>\n",
       "      <td>2</td>\n",
       "      <td>2</td>\n",
       "      <td>2</td>\n",
       "      <td>2</td>\n",
       "      <td>1</td>\n",
       "      <td>1</td>\n",
       "      <td>2</td>\n",
       "      <td>2</td>\n",
       "      <td>3</td>\n",
       "      <td>2</td>\n",
       "    </tr>\n",
       "    <tr>\n",
       "      <th>7</th>\n",
       "      <td>8</td>\n",
       "      <td>churn</td>\n",
       "      <td>Mr. Jorge Brown</td>\n",
       "      <td>yes</td>\n",
       "      <td>1976.000000</td>\n",
       "      <td>business</td>\n",
       "      <td>single</td>\n",
       "      <td>4037</td>\n",
       "      <td>2</td>\n",
       "      <td>3</td>\n",
       "      <td>...</td>\n",
       "      <td>2</td>\n",
       "      <td>4</td>\n",
       "      <td>4</td>\n",
       "      <td>2</td>\n",
       "      <td>2</td>\n",
       "      <td>3</td>\n",
       "      <td>2</td>\n",
       "      <td>1</td>\n",
       "      <td>2</td>\n",
       "      <td>2</td>\n",
       "    </tr>\n",
       "    <tr>\n",
       "      <th>8</th>\n",
       "      <td>9</td>\n",
       "      <td>churn</td>\n",
       "      <td>Mr. Jesus Soto</td>\n",
       "      <td>yes</td>\n",
       "      <td>1974.000000</td>\n",
       "      <td>business</td>\n",
       "      <td>single</td>\n",
       "      <td>3694</td>\n",
       "      <td>2</td>\n",
       "      <td>3</td>\n",
       "      <td>...</td>\n",
       "      <td>2</td>\n",
       "      <td>2</td>\n",
       "      <td>2</td>\n",
       "      <td>2</td>\n",
       "      <td>2</td>\n",
       "      <td>1</td>\n",
       "      <td>2</td>\n",
       "      <td>2</td>\n",
       "      <td>2</td>\n",
       "      <td>1</td>\n",
       "    </tr>\n",
       "    <tr>\n",
       "      <th>9</th>\n",
       "      <td>10</td>\n",
       "      <td>churn</td>\n",
       "      <td>Mr. Anthony Young</td>\n",
       "      <td>yes</td>\n",
       "      <td>1994.000000</td>\n",
       "      <td>business</td>\n",
       "      <td>single</td>\n",
       "      <td>3475</td>\n",
       "      <td>3</td>\n",
       "      <td>5</td>\n",
       "      <td>...</td>\n",
       "      <td>3</td>\n",
       "      <td>3</td>\n",
       "      <td>3</td>\n",
       "      <td>3</td>\n",
       "      <td>4</td>\n",
       "      <td>3</td>\n",
       "      <td>4</td>\n",
       "      <td>1</td>\n",
       "      <td>4</td>\n",
       "      <td>3</td>\n",
       "    </tr>\n",
       "    <tr>\n",
       "      <th>10</th>\n",
       "      <td>11</td>\n",
       "      <td>nochurn</td>\n",
       "      <td>Mr. Patrick Garza</td>\n",
       "      <td>yes</td>\n",
       "      <td>1960.000000</td>\n",
       "      <td>leisure</td>\n",
       "      <td>double</td>\n",
       "      <td>5059</td>\n",
       "      <td>4</td>\n",
       "      <td>3</td>\n",
       "      <td>...</td>\n",
       "      <td>1</td>\n",
       "      <td>4</td>\n",
       "      <td>1</td>\n",
       "      <td>1</td>\n",
       "      <td>2</td>\n",
       "      <td>4</td>\n",
       "      <td>3</td>\n",
       "      <td>5</td>\n",
       "      <td>2</td>\n",
       "      <td>1</td>\n",
       "    </tr>\n",
       "    <tr>\n",
       "      <th>11</th>\n",
       "      <td>12</td>\n",
       "      <td>churn</td>\n",
       "      <td>Ms. Jill Bowman</td>\n",
       "      <td>no</td>\n",
       "      <td>1995.000000</td>\n",
       "      <td>business</td>\n",
       "      <td>double</td>\n",
       "      <td>5360</td>\n",
       "      <td>2</td>\n",
       "      <td>2</td>\n",
       "      <td>...</td>\n",
       "      <td>4</td>\n",
       "      <td>2</td>\n",
       "      <td>3</td>\n",
       "      <td>4</td>\n",
       "      <td>2</td>\n",
       "      <td>4</td>\n",
       "      <td>4</td>\n",
       "      <td>3</td>\n",
       "      <td>3</td>\n",
       "      <td>4</td>\n",
       "    </tr>\n",
       "    <tr>\n",
       "      <th>12</th>\n",
       "      <td>13</td>\n",
       "      <td>nochurn</td>\n",
       "      <td>Ms. Kelly Newman</td>\n",
       "      <td>no</td>\n",
       "      <td>1977.000000</td>\n",
       "      <td>business</td>\n",
       "      <td>single</td>\n",
       "      <td>5853</td>\n",
       "      <td>5</td>\n",
       "      <td>5</td>\n",
       "      <td>...</td>\n",
       "      <td>3</td>\n",
       "      <td>5</td>\n",
       "      <td>3</td>\n",
       "      <td>3</td>\n",
       "      <td>3</td>\n",
       "      <td>5</td>\n",
       "      <td>5</td>\n",
       "      <td>4</td>\n",
       "      <td>4</td>\n",
       "      <td>3</td>\n",
       "    </tr>\n",
       "    <tr>\n",
       "      <th>13</th>\n",
       "      <td>14</td>\n",
       "      <td>nochurn</td>\n",
       "      <td>Mr. Danny Frazier</td>\n",
       "      <td>yes</td>\n",
       "      <td>1981.000000</td>\n",
       "      <td>business</td>\n",
       "      <td>single</td>\n",
       "      <td>5164</td>\n",
       "      <td>2</td>\n",
       "      <td>2</td>\n",
       "      <td>...</td>\n",
       "      <td>3</td>\n",
       "      <td>5</td>\n",
       "      <td>5</td>\n",
       "      <td>5</td>\n",
       "      <td>5</td>\n",
       "      <td>5</td>\n",
       "      <td>5</td>\n",
       "      <td>4</td>\n",
       "      <td>5</td>\n",
       "      <td>3</td>\n",
       "    </tr>\n",
       "    <tr>\n",
       "      <th>14</th>\n",
       "      <td>15</td>\n",
       "      <td>nochurn</td>\n",
       "      <td>Mr. Ralph Johnson</td>\n",
       "      <td>yes</td>\n",
       "      <td>1994.000000</td>\n",
       "      <td>leisure</td>\n",
       "      <td>double</td>\n",
       "      <td>5858</td>\n",
       "      <td>5</td>\n",
       "      <td>5</td>\n",
       "      <td>...</td>\n",
       "      <td>3</td>\n",
       "      <td>5</td>\n",
       "      <td>3</td>\n",
       "      <td>3</td>\n",
       "      <td>5</td>\n",
       "      <td>2</td>\n",
       "      <td>5</td>\n",
       "      <td>3</td>\n",
       "      <td>4</td>\n",
       "      <td>3</td>\n",
       "    </tr>\n",
       "    <tr>\n",
       "      <th>15</th>\n",
       "      <td>16</td>\n",
       "      <td>nochurn</td>\n",
       "      <td>Mr. Sean Hendricks</td>\n",
       "      <td>yes</td>\n",
       "      <td>1969.000000</td>\n",
       "      <td>business</td>\n",
       "      <td>single</td>\n",
       "      <td>6571</td>\n",
       "      <td>4</td>\n",
       "      <td>4</td>\n",
       "      <td>...</td>\n",
       "      <td>4</td>\n",
       "      <td>2</td>\n",
       "      <td>1</td>\n",
       "      <td>3</td>\n",
       "      <td>3</td>\n",
       "      <td>3</td>\n",
       "      <td>3</td>\n",
       "      <td>1</td>\n",
       "      <td>3</td>\n",
       "      <td>5</td>\n",
       "    </tr>\n",
       "    <tr>\n",
       "      <th>16</th>\n",
       "      <td>17</td>\n",
       "      <td>churn</td>\n",
       "      <td>Mr. John Miller</td>\n",
       "      <td>no</td>\n",
       "      <td>1982.000000</td>\n",
       "      <td>business</td>\n",
       "      <td>single</td>\n",
       "      <td>5756</td>\n",
       "      <td>3</td>\n",
       "      <td>3</td>\n",
       "      <td>...</td>\n",
       "      <td>5</td>\n",
       "      <td>3</td>\n",
       "      <td>5</td>\n",
       "      <td>5</td>\n",
       "      <td>5</td>\n",
       "      <td>5</td>\n",
       "      <td>5</td>\n",
       "      <td>3</td>\n",
       "      <td>4</td>\n",
       "      <td>5</td>\n",
       "    </tr>\n",
       "    <tr>\n",
       "      <th>17</th>\n",
       "      <td>18</td>\n",
       "      <td>churn</td>\n",
       "      <td>Mr. Devin Benson</td>\n",
       "      <td>yes</td>\n",
       "      <td>1962.000000</td>\n",
       "      <td>leisure</td>\n",
       "      <td>double</td>\n",
       "      <td>5229</td>\n",
       "      <td>2</td>\n",
       "      <td>3</td>\n",
       "      <td>...</td>\n",
       "      <td>5</td>\n",
       "      <td>2</td>\n",
       "      <td>5</td>\n",
       "      <td>5</td>\n",
       "      <td>1</td>\n",
       "      <td>2</td>\n",
       "      <td>3</td>\n",
       "      <td>4</td>\n",
       "      <td>3</td>\n",
       "      <td>5</td>\n",
       "    </tr>\n",
       "    <tr>\n",
       "      <th>18</th>\n",
       "      <td>19</td>\n",
       "      <td>churn</td>\n",
       "      <td>Ms. Melissa Hayes MD</td>\n",
       "      <td>no</td>\n",
       "      <td>1995.000000</td>\n",
       "      <td>business</td>\n",
       "      <td>single</td>\n",
       "      <td>5466</td>\n",
       "      <td>2</td>\n",
       "      <td>4</td>\n",
       "      <td>...</td>\n",
       "      <td>2</td>\n",
       "      <td>2</td>\n",
       "      <td>2</td>\n",
       "      <td>2</td>\n",
       "      <td>5</td>\n",
       "      <td>2</td>\n",
       "      <td>4</td>\n",
       "      <td>3</td>\n",
       "      <td>5</td>\n",
       "      <td>2</td>\n",
       "    </tr>\n",
       "    <tr>\n",
       "      <th>19</th>\n",
       "      <td>20</td>\n",
       "      <td>nochurn</td>\n",
       "      <td>Ms. Pamela Torres</td>\n",
       "      <td>yes</td>\n",
       "      <td>1982.000000</td>\n",
       "      <td>business</td>\n",
       "      <td>single</td>\n",
       "      <td>4299</td>\n",
       "      <td>1</td>\n",
       "      <td>1</td>\n",
       "      <td>...</td>\n",
       "      <td>2</td>\n",
       "      <td>4</td>\n",
       "      <td>4</td>\n",
       "      <td>3</td>\n",
       "      <td>3</td>\n",
       "      <td>3</td>\n",
       "      <td>3</td>\n",
       "      <td>4</td>\n",
       "      <td>3</td>\n",
       "      <td>3</td>\n",
       "    </tr>\n",
       "    <tr>\n",
       "      <th>20</th>\n",
       "      <td>21</td>\n",
       "      <td>churn</td>\n",
       "      <td>Mr. John Schwartz</td>\n",
       "      <td>yes</td>\n",
       "      <td>1980.000000</td>\n",
       "      <td>business</td>\n",
       "      <td>double</td>\n",
       "      <td>5577</td>\n",
       "      <td>3</td>\n",
       "      <td>2</td>\n",
       "      <td>...</td>\n",
       "      <td>3</td>\n",
       "      <td>3</td>\n",
       "      <td>3</td>\n",
       "      <td>3</td>\n",
       "      <td>3</td>\n",
       "      <td>2</td>\n",
       "      <td>4</td>\n",
       "      <td>3</td>\n",
       "      <td>3</td>\n",
       "      <td>3</td>\n",
       "    </tr>\n",
       "    <tr>\n",
       "      <th>21</th>\n",
       "      <td>22</td>\n",
       "      <td>nochurn</td>\n",
       "      <td>Mr. Rodney Fields</td>\n",
       "      <td>yes</td>\n",
       "      <td>1979.000000</td>\n",
       "      <td>business</td>\n",
       "      <td>single</td>\n",
       "      <td>5722</td>\n",
       "      <td>5</td>\n",
       "      <td>5</td>\n",
       "      <td>...</td>\n",
       "      <td>2</td>\n",
       "      <td>4</td>\n",
       "      <td>5</td>\n",
       "      <td>2</td>\n",
       "      <td>2</td>\n",
       "      <td>2</td>\n",
       "      <td>2</td>\n",
       "      <td>4</td>\n",
       "      <td>2</td>\n",
       "      <td>5</td>\n",
       "    </tr>\n",
       "    <tr>\n",
       "      <th>22</th>\n",
       "      <td>23</td>\n",
       "      <td>churn</td>\n",
       "      <td>Mr. Theodore Vargas</td>\n",
       "      <td>yes</td>\n",
       "      <td>1963.000000</td>\n",
       "      <td>leisure</td>\n",
       "      <td>double</td>\n",
       "      <td>4692</td>\n",
       "      <td>2</td>\n",
       "      <td>5</td>\n",
       "      <td>...</td>\n",
       "      <td>4</td>\n",
       "      <td>2</td>\n",
       "      <td>2</td>\n",
       "      <td>4</td>\n",
       "      <td>5</td>\n",
       "      <td>5</td>\n",
       "      <td>2</td>\n",
       "      <td>1</td>\n",
       "      <td>1</td>\n",
       "      <td>4</td>\n",
       "    </tr>\n",
       "    <tr>\n",
       "      <th>23</th>\n",
       "      <td>24</td>\n",
       "      <td>churn</td>\n",
       "      <td>Mr. Ryan Hicks</td>\n",
       "      <td>yes</td>\n",
       "      <td>1996.000000</td>\n",
       "      <td>leisure</td>\n",
       "      <td>double</td>\n",
       "      <td>5274</td>\n",
       "      <td>1</td>\n",
       "      <td>5</td>\n",
       "      <td>...</td>\n",
       "      <td>5</td>\n",
       "      <td>1</td>\n",
       "      <td>5</td>\n",
       "      <td>5</td>\n",
       "      <td>4</td>\n",
       "      <td>4</td>\n",
       "      <td>4</td>\n",
       "      <td>3</td>\n",
       "      <td>4</td>\n",
       "      <td>5</td>\n",
       "    </tr>\n",
       "    <tr>\n",
       "      <th>24</th>\n",
       "      <td>25</td>\n",
       "      <td>churn</td>\n",
       "      <td>Mr. Matthew Nguyen</td>\n",
       "      <td>yes</td>\n",
       "      <td>1970.000000</td>\n",
       "      <td>business</td>\n",
       "      <td>single</td>\n",
       "      <td>3076</td>\n",
       "      <td>4</td>\n",
       "      <td>3</td>\n",
       "      <td>...</td>\n",
       "      <td>3</td>\n",
       "      <td>3</td>\n",
       "      <td>3</td>\n",
       "      <td>3</td>\n",
       "      <td>3</td>\n",
       "      <td>3</td>\n",
       "      <td>4</td>\n",
       "      <td>4</td>\n",
       "      <td>3</td>\n",
       "      <td>2</td>\n",
       "    </tr>\n",
       "    <tr>\n",
       "      <th>25</th>\n",
       "      <td>26</td>\n",
       "      <td>churn</td>\n",
       "      <td>Ms. Mrs. Jill Nichols</td>\n",
       "      <td>no</td>\n",
       "      <td>1984.000000</td>\n",
       "      <td>business</td>\n",
       "      <td>double</td>\n",
       "      <td>5739</td>\n",
       "      <td>2</td>\n",
       "      <td>0</td>\n",
       "      <td>...</td>\n",
       "      <td>5</td>\n",
       "      <td>2</td>\n",
       "      <td>5</td>\n",
       "      <td>5</td>\n",
       "      <td>1</td>\n",
       "      <td>1</td>\n",
       "      <td>2</td>\n",
       "      <td>5</td>\n",
       "      <td>4</td>\n",
       "      <td>5</td>\n",
       "    </tr>\n",
       "    <tr>\n",
       "      <th>26</th>\n",
       "      <td>27</td>\n",
       "      <td>churn</td>\n",
       "      <td>Mr. Edward Collier</td>\n",
       "      <td>y</td>\n",
       "      <td>1957.000000</td>\n",
       "      <td>leisure</td>\n",
       "      <td>double</td>\n",
       "      <td>4424</td>\n",
       "      <td>4</td>\n",
       "      <td>4</td>\n",
       "      <td>...</td>\n",
       "      <td>4</td>\n",
       "      <td>3</td>\n",
       "      <td>4</td>\n",
       "      <td>4</td>\n",
       "      <td>4</td>\n",
       "      <td>4</td>\n",
       "      <td>3</td>\n",
       "      <td>1</td>\n",
       "      <td>3</td>\n",
       "      <td>4</td>\n",
       "    </tr>\n",
       "    <tr>\n",
       "      <th>27</th>\n",
       "      <td>28</td>\n",
       "      <td>nochurn</td>\n",
       "      <td>Ms. Emily Thomas</td>\n",
       "      <td>yes</td>\n",
       "      <td>1981.706444</td>\n",
       "      <td>leisure</td>\n",
       "      <td>double</td>\n",
       "      <td>4760</td>\n",
       "      <td>0</td>\n",
       "      <td>5</td>\n",
       "      <td>...</td>\n",
       "      <td>5</td>\n",
       "      <td>0</td>\n",
       "      <td>3</td>\n",
       "      <td>5</td>\n",
       "      <td>4</td>\n",
       "      <td>4</td>\n",
       "      <td>5</td>\n",
       "      <td>4</td>\n",
       "      <td>4</td>\n",
       "      <td>5</td>\n",
       "    </tr>\n",
       "  </tbody>\n",
       "</table>\n",
       "<p>28 rows × 22 columns</p>\n",
       "</div>"
      ],
      "text/plain": [
       "    Cust_ID    Churn                    Name Longevity   Year_Birth  \\\n",
       "0         1    churn       Ms. Nicole Clarke       yes  1974.000000   \n",
       "1         2  nochurn         Mr. Jesse Scott       yes  1965.000000   \n",
       "2         3    churn  Mr. Christopher Carter       yes  1973.000000   \n",
       "3         4  nochurn     Ms. Jennifer Morgan       yes  1993.000000   \n",
       "4         5  nochurn       Mr. Michael White       yes  1989.000000   \n",
       "5         6    churn       Ms. Morgan Briggs       yes  1975.000000   \n",
       "6         7    churn      Ms. Kellie Alvarez        no  1990.000000   \n",
       "7         8    churn         Mr. Jorge Brown       yes  1976.000000   \n",
       "8         9    churn          Mr. Jesus Soto       yes  1974.000000   \n",
       "9        10    churn       Mr. Anthony Young       yes  1994.000000   \n",
       "10       11  nochurn       Mr. Patrick Garza       yes  1960.000000   \n",
       "11       12    churn         Ms. Jill Bowman        no  1995.000000   \n",
       "12       13  nochurn        Ms. Kelly Newman        no  1977.000000   \n",
       "13       14  nochurn       Mr. Danny Frazier       yes  1981.000000   \n",
       "14       15  nochurn       Mr. Ralph Johnson       yes  1994.000000   \n",
       "15       16  nochurn      Mr. Sean Hendricks       yes  1969.000000   \n",
       "16       17    churn         Mr. John Miller        no  1982.000000   \n",
       "17       18    churn        Mr. Devin Benson       yes  1962.000000   \n",
       "18       19    churn    Ms. Melissa Hayes MD        no  1995.000000   \n",
       "19       20  nochurn       Ms. Pamela Torres       yes  1982.000000   \n",
       "20       21    churn       Mr. John Schwartz       yes  1980.000000   \n",
       "21       22  nochurn       Mr. Rodney Fields       yes  1979.000000   \n",
       "22       23    churn     Mr. Theodore Vargas       yes  1963.000000   \n",
       "23       24    churn          Mr. Ryan Hicks       yes  1996.000000   \n",
       "24       25    churn      Mr. Matthew Nguyen       yes  1970.000000   \n",
       "25       26    churn   Ms. Mrs. Jill Nichols        no  1984.000000   \n",
       "26       27    churn      Mr. Edward Collier         y  1957.000000   \n",
       "27       28  nochurn        Ms. Emily Thomas       yes  1981.706444   \n",
       "\n",
       "   TypeTravel RoomType  RewardPoints  Comfort  ReceptionSchedule  ...  Wifi  \\\n",
       "0    business   single          4907        3                  4  ...     4   \n",
       "1    business   single          6724        1                  1  ...     5   \n",
       "2    business   single          4365        3                  3  ...     1   \n",
       "3     leisure   double          3849        1                  1  ...     4   \n",
       "4    business   single          5376        2                  2  ...     5   \n",
       "5    business   double          5342        2                  2  ...     3   \n",
       "6    business   double          4909        2                  2  ...     2   \n",
       "7    business   single          4037        2                  3  ...     2   \n",
       "8    business   single          3694        2                  3  ...     2   \n",
       "9    business   single          3475        3                  5  ...     3   \n",
       "10    leisure   double          5059        4                  3  ...     1   \n",
       "11   business   double          5360        2                  2  ...     4   \n",
       "12   business   single          5853        5                  5  ...     3   \n",
       "13   business   single          5164        2                  2  ...     3   \n",
       "14    leisure   double          5858        5                  5  ...     3   \n",
       "15   business   single          6571        4                  4  ...     4   \n",
       "16   business   single          5756        3                  3  ...     5   \n",
       "17    leisure   double          5229        2                  3  ...     5   \n",
       "18   business   single          5466        2                  4  ...     2   \n",
       "19   business   single          4299        1                  1  ...     2   \n",
       "20   business   double          5577        3                  2  ...     3   \n",
       "21   business   single          5722        5                  5  ...     2   \n",
       "22    leisure   double          4692        2                  5  ...     4   \n",
       "23    leisure   double          5274        1                  5  ...     5   \n",
       "24   business   single          3076        4                  3  ...     3   \n",
       "25   business   double          5739        2                  0  ...     5   \n",
       "26    leisure   double          4424        4                  4  ...     4   \n",
       "27    leisure   double          4760        0                  5  ...     5   \n",
       "\n",
       "    Amenities  Staff  OnlineBooking  PriceQuality  RoomSpace  CheckOut  \\\n",
       "0           3      4              3             3          3         3   \n",
       "1           3      4              5             5          5         5   \n",
       "2           4      4              3             3          2         3   \n",
       "3           4      5              4             4          4         4   \n",
       "4           5      5              5             5          3         4   \n",
       "5           2      2              2             2          2         2   \n",
       "6           2      2              2             1          1         2   \n",
       "7           4      4              2             2          3         2   \n",
       "8           2      2              2             2          1         2   \n",
       "9           3      3              3             4          3         4   \n",
       "10          4      1              1             2          4         3   \n",
       "11          2      3              4             2          4         4   \n",
       "12          5      3              3             3          5         5   \n",
       "13          5      5              5             5          5         5   \n",
       "14          5      3              3             5          2         5   \n",
       "15          2      1              3             3          3         3   \n",
       "16          3      5              5             5          5         5   \n",
       "17          2      5              5             1          2         3   \n",
       "18          2      2              2             5          2         4   \n",
       "19          4      4              3             3          3         3   \n",
       "20          3      3              3             3          2         4   \n",
       "21          4      5              2             2          2         2   \n",
       "22          2      2              4             5          5         2   \n",
       "23          1      5              5             4          4         4   \n",
       "24          3      3              3             3          3         4   \n",
       "25          2      5              5             1          1         2   \n",
       "26          3      4              4             4          4         3   \n",
       "27          0      3              5             4          4         5   \n",
       "\n",
       "    Checkin  Cleanliness  BarService  \n",
       "0         4            3           4  \n",
       "1         1            5           2  \n",
       "2         2            3           1  \n",
       "3         4            4           3  \n",
       "4         1            3           5  \n",
       "5         4            2           1  \n",
       "6         2            3           2  \n",
       "7         1            2           2  \n",
       "8         2            2           1  \n",
       "9         1            4           3  \n",
       "10        5            2           1  \n",
       "11        3            3           4  \n",
       "12        4            4           3  \n",
       "13        4            5           3  \n",
       "14        3            4           3  \n",
       "15        1            3           5  \n",
       "16        3            4           5  \n",
       "17        4            3           5  \n",
       "18        3            5           2  \n",
       "19        4            3           3  \n",
       "20        3            3           3  \n",
       "21        4            2           5  \n",
       "22        1            1           4  \n",
       "23        3            4           5  \n",
       "24        4            3           2  \n",
       "25        5            4           5  \n",
       "26        1            3           4  \n",
       "27        4            4           5  \n",
       "\n",
       "[28 rows x 22 columns]"
      ]
     },
     "execution_count": 15,
     "metadata": {},
     "output_type": "execute_result"
    }
   ],
   "source": [
    "data.head(28)\n",
    "#the last value was missing and we obtained it with the help of KNN imputer"
   ]
  },
  {
   "cell_type": "code",
   "execution_count": 16,
   "metadata": {},
   "outputs": [
    {
     "data": {
      "text/plain": [
       "Cust_ID              0\n",
       "Churn                0\n",
       "Name                 0\n",
       "Longevity            0\n",
       "Year_Birth           0\n",
       "TypeTravel           0\n",
       "RoomType             0\n",
       "RewardPoints         0\n",
       "Comfort              0\n",
       "ReceptionSchedule    0\n",
       "FoodDrink            0\n",
       "Location             0\n",
       "Wifi                 0\n",
       "Amenities            0\n",
       "Staff                0\n",
       "OnlineBooking        0\n",
       "PriceQuality         0\n",
       "RoomSpace            0\n",
       "CheckOut             0\n",
       "Checkin              0\n",
       "Cleanliness          0\n",
       "BarService           0\n",
       "dtype: int64"
      ]
     },
     "execution_count": 16,
     "metadata": {},
     "output_type": "execute_result"
    }
   ],
   "source": [
    "data.isna().sum()"
   ]
  },
  {
   "cell_type": "markdown",
   "metadata": {},
   "source": [
    "<p> As demonstrated above, our data frame no longer has missing values. They have been imputed as the means of k-Nearest Neighbor values. </p>"
   ]
  },
  {
   "cell_type": "markdown",
   "metadata": {},
   "source": [
    "<h3>Change Data types</h3>"
   ]
  },
  {
   "cell_type": "markdown",
   "metadata": {},
   "source": [
    "Replacing the data from longevity to 1 and 0\n",
    "Yes=1 No=0"
   ]
  },
  {
   "cell_type": "code",
   "execution_count": 17,
   "metadata": {},
   "outputs": [
    {
     "data": {
      "text/plain": [
       "yes    12548\n",
       "no      2874\n",
       "y        167\n",
       "Name: Longevity, dtype: int64"
      ]
     },
     "execution_count": 17,
     "metadata": {},
     "output_type": "execute_result"
    }
   ],
   "source": [
    "data['Longevity'].value_counts()"
   ]
  },
  {
   "cell_type": "code",
   "execution_count": 18,
   "metadata": {},
   "outputs": [
    {
     "data": {
      "text/plain": [
       "1    12715\n",
       "0     2874\n",
       "Name: Longevity, dtype: int64"
      ]
     },
     "execution_count": 18,
     "metadata": {},
     "output_type": "execute_result"
    }
   ],
   "source": [
    "data['Longevity'].replace(to_replace = 'yes',value = 1, inplace = True)\n",
    "data['Longevity'].replace(to_replace = 'y',value = 1, inplace = True)\n",
    "data['Longevity'].replace(to_replace = 'no',value = 0, inplace = True)\n",
    "data['Longevity'].value_counts()"
   ]
  },
  {
   "cell_type": "markdown",
   "metadata": {},
   "source": [
    "<h3>Changing the Values of Column \"TypeTravel\"<h3>\n",
    " <p>business = 1 leisure = 0 <p>"
   ]
  },
  {
   "cell_type": "code",
   "execution_count": 19,
   "metadata": {},
   "outputs": [
    {
     "data": {
      "text/plain": [
       "business    10756\n",
       "leisure      4833\n",
       "Name: TypeTravel, dtype: int64"
      ]
     },
     "execution_count": 19,
     "metadata": {},
     "output_type": "execute_result"
    }
   ],
   "source": [
    "data['TypeTravel'].value_counts()"
   ]
  },
  {
   "cell_type": "code",
   "execution_count": 20,
   "metadata": {},
   "outputs": [
    {
     "data": {
      "text/plain": [
       "1    10756\n",
       "0     4833\n",
       "Name: TypeTravel, dtype: int64"
      ]
     },
     "execution_count": 20,
     "metadata": {},
     "output_type": "execute_result"
    }
   ],
   "source": [
    "data['TypeTravel'].replace(to_replace = 'business',value = 1, inplace = True)\n",
    "data['TypeTravel'].replace(to_replace = 'leisure',value = 0, inplace = True)\n",
    "data['TypeTravel'].value_counts()"
   ]
  },
  {
   "cell_type": "markdown",
   "metadata": {},
   "source": [
    "<h3>Changing the Values of Column \"Wifi\"<h3>\n",
    " <p>6 were Replaced by 5 <p>"
   ]
  },
  {
   "cell_type": "code",
   "execution_count": 21,
   "metadata": {},
   "outputs": [
    {
     "data": {
      "text/plain": [
       "<AxesSubplot:xlabel='Wifi'>"
      ]
     },
     "execution_count": 21,
     "metadata": {},
     "output_type": "execute_result"
    },
    {
     "data": {
      "image/png": "[encoded data removed]",
      "text/plain": [
       "<Figure size 432x288 with 1 Axes>"
      ]
     },
     "metadata": {
      "needs_background": "light"
     },
     "output_type": "display_data"
    }
   ],
   "source": [
    "sns.boxplot(x=\"Wifi\", data = data[['Wifi']])"
   ]
  },
  {
   "cell_type": "code",
   "execution_count": 22,
   "metadata": {},
   "outputs": [
    {
     "data": {
      "text/plain": [
       "4    3704\n",
       "5    3446\n",
       "3    3348\n",
       "2    3245\n",
       "1    1792\n",
       "6      36\n",
       "0      18\n",
       "Name: Wifi, dtype: int64"
      ]
     },
     "execution_count": 22,
     "metadata": {},
     "output_type": "execute_result"
    }
   ],
   "source": [
    "data['Wifi'].value_counts()"
   ]
  },
  {
   "cell_type": "code",
   "execution_count": 23,
   "metadata": {},
   "outputs": [
    {
     "data": {
      "text/plain": [
       "4    3704\n",
       "5    3482\n",
       "3    3348\n",
       "2    3245\n",
       "1    1792\n",
       "0      18\n",
       "Name: Wifi, dtype: int64"
      ]
     },
     "execution_count": 23,
     "metadata": {},
     "output_type": "execute_result"
    }
   ],
   "source": [
    "data['Wifi'].replace(to_replace = 6,value = 5, inplace = True)\n",
    "data['Wifi'].value_counts()"
   ]
  },
  {
   "cell_type": "markdown",
   "metadata": {},
   "source": [
    "<h3>Changing the Values of Column \"Churn\"<h3>\n",
    " <p>convert \"churn\" and \"nochurn\" to 1 (True) and 0 (False) <p>"
   ]
  },
  {
   "cell_type": "code",
   "execution_count": 24,
   "metadata": {},
   "outputs": [
    {
     "data": {
      "text/plain": [
       "nochurn    8477\n",
       "churn      7112\n",
       "Name: Churn, dtype: int64"
      ]
     },
     "execution_count": 24,
     "metadata": {},
     "output_type": "execute_result"
    }
   ],
   "source": [
    "data['Churn'].value_counts()"
   ]
  },
  {
   "cell_type": "code",
   "execution_count": 25,
   "metadata": {},
   "outputs": [
    {
     "name": "stdout",
     "output_type": "stream",
     "text": [
      "<class 'pandas.core.frame.DataFrame'>\n",
      "RangeIndex: 15589 entries, 0 to 15588\n",
      "Data columns (total 22 columns):\n",
      " #   Column             Non-Null Count  Dtype  \n",
      "---  ------             --------------  -----  \n",
      " 0   Cust_ID            15589 non-null  int64  \n",
      " 1   Churn              15589 non-null  int64  \n",
      " 2   Name               15589 non-null  object \n",
      " 3   Longevity          15589 non-null  int64  \n",
      " 4   Year_Birth         15589 non-null  float64\n",
      " 5   TypeTravel         15589 non-null  int64  \n",
      " 6   RoomType           15589 non-null  object \n",
      " 7   RewardPoints       15589 non-null  int64  \n",
      " 8   Comfort            15589 non-null  int64  \n",
      " 9   ReceptionSchedule  15589 non-null  int64  \n",
      " 10  FoodDrink          15589 non-null  int64  \n",
      " 11  Location           15589 non-null  int64  \n",
      " 12  Wifi               15589 non-null  int64  \n",
      " 13  Amenities          15589 non-null  int64  \n",
      " 14  Staff              15589 non-null  int64  \n",
      " 15  OnlineBooking      15589 non-null  int64  \n",
      " 16  PriceQuality       15589 non-null  int64  \n",
      " 17  RoomSpace          15589 non-null  int64  \n",
      " 18  CheckOut           15589 non-null  int64  \n",
      " 19  Checkin            15589 non-null  int64  \n",
      " 20  Cleanliness        15589 non-null  int64  \n",
      " 21  BarService         15589 non-null  int64  \n",
      "dtypes: float64(1), int64(19), object(2)\n",
      "memory usage: 2.6+ MB\n"
     ]
    }
   ],
   "source": [
    "data['Churn'].replace(to_replace = 'churn',value = 1, inplace = True)\n",
    "data['Churn'].replace(to_replace = 'nochurn',value = 0, inplace = True)\n",
    "data['Churn'].value_counts()\n",
    "data.info()"
   ]
  },
  {
   "cell_type": "markdown",
   "metadata": {},
   "source": [
    "Change type of Year_birth to int32"
   ]
  },
  {
   "cell_type": "code",
   "execution_count": 26,
   "metadata": {},
   "outputs": [
    {
     "data": {
      "text/html": [
       "<div>\n",
       "<style scoped>\n",
       "    .dataframe tbody tr th:only-of-type {\n",
       "        vertical-align: middle;\n",
       "    }\n",
       "\n",
       "    .dataframe tbody tr th {\n",
       "        vertical-align: top;\n",
       "    }\n",
       "\n",
       "    .dataframe thead th {\n",
       "        text-align: right;\n",
       "    }\n",
       "</style>\n",
       "<table border=\"1\" class=\"dataframe\">\n",
       "  <thead>\n",
       "    <tr style=\"text-align: right;\">\n",
       "      <th></th>\n",
       "      <th>Cust_ID</th>\n",
       "      <th>Churn</th>\n",
       "      <th>Name</th>\n",
       "      <th>Longevity</th>\n",
       "      <th>Year_Birth</th>\n",
       "      <th>TypeTravel</th>\n",
       "      <th>RoomType</th>\n",
       "      <th>RewardPoints</th>\n",
       "      <th>Comfort</th>\n",
       "      <th>ReceptionSchedule</th>\n",
       "      <th>...</th>\n",
       "      <th>Wifi</th>\n",
       "      <th>Amenities</th>\n",
       "      <th>Staff</th>\n",
       "      <th>OnlineBooking</th>\n",
       "      <th>PriceQuality</th>\n",
       "      <th>RoomSpace</th>\n",
       "      <th>CheckOut</th>\n",
       "      <th>Checkin</th>\n",
       "      <th>Cleanliness</th>\n",
       "      <th>BarService</th>\n",
       "    </tr>\n",
       "  </thead>\n",
       "  <tbody>\n",
       "    <tr>\n",
       "      <th>0</th>\n",
       "      <td>1</td>\n",
       "      <td>1</td>\n",
       "      <td>Ms. Nicole Clarke</td>\n",
       "      <td>1</td>\n",
       "      <td>1974</td>\n",
       "      <td>1</td>\n",
       "      <td>single</td>\n",
       "      <td>4907</td>\n",
       "      <td>3</td>\n",
       "      <td>4</td>\n",
       "      <td>...</td>\n",
       "      <td>4</td>\n",
       "      <td>3</td>\n",
       "      <td>4</td>\n",
       "      <td>3</td>\n",
       "      <td>3</td>\n",
       "      <td>3</td>\n",
       "      <td>3</td>\n",
       "      <td>4</td>\n",
       "      <td>3</td>\n",
       "      <td>4</td>\n",
       "    </tr>\n",
       "    <tr>\n",
       "      <th>1</th>\n",
       "      <td>2</td>\n",
       "      <td>0</td>\n",
       "      <td>Mr. Jesse Scott</td>\n",
       "      <td>1</td>\n",
       "      <td>1965</td>\n",
       "      <td>1</td>\n",
       "      <td>single</td>\n",
       "      <td>6724</td>\n",
       "      <td>1</td>\n",
       "      <td>1</td>\n",
       "      <td>...</td>\n",
       "      <td>5</td>\n",
       "      <td>3</td>\n",
       "      <td>4</td>\n",
       "      <td>5</td>\n",
       "      <td>5</td>\n",
       "      <td>5</td>\n",
       "      <td>5</td>\n",
       "      <td>1</td>\n",
       "      <td>5</td>\n",
       "      <td>2</td>\n",
       "    </tr>\n",
       "    <tr>\n",
       "      <th>2</th>\n",
       "      <td>3</td>\n",
       "      <td>1</td>\n",
       "      <td>Mr. Christopher Carter</td>\n",
       "      <td>1</td>\n",
       "      <td>1973</td>\n",
       "      <td>1</td>\n",
       "      <td>single</td>\n",
       "      <td>4365</td>\n",
       "      <td>3</td>\n",
       "      <td>3</td>\n",
       "      <td>...</td>\n",
       "      <td>1</td>\n",
       "      <td>4</td>\n",
       "      <td>4</td>\n",
       "      <td>3</td>\n",
       "      <td>3</td>\n",
       "      <td>2</td>\n",
       "      <td>3</td>\n",
       "      <td>2</td>\n",
       "      <td>3</td>\n",
       "      <td>1</td>\n",
       "    </tr>\n",
       "    <tr>\n",
       "      <th>3</th>\n",
       "      <td>4</td>\n",
       "      <td>0</td>\n",
       "      <td>Ms. Jennifer Morgan</td>\n",
       "      <td>1</td>\n",
       "      <td>1993</td>\n",
       "      <td>0</td>\n",
       "      <td>double</td>\n",
       "      <td>3849</td>\n",
       "      <td>1</td>\n",
       "      <td>1</td>\n",
       "      <td>...</td>\n",
       "      <td>4</td>\n",
       "      <td>4</td>\n",
       "      <td>5</td>\n",
       "      <td>4</td>\n",
       "      <td>4</td>\n",
       "      <td>4</td>\n",
       "      <td>4</td>\n",
       "      <td>4</td>\n",
       "      <td>4</td>\n",
       "      <td>3</td>\n",
       "    </tr>\n",
       "  </tbody>\n",
       "</table>\n",
       "<p>4 rows × 22 columns</p>\n",
       "</div>"
      ],
      "text/plain": [
       "   Cust_ID  Churn                    Name  Longevity  Year_Birth  TypeTravel  \\\n",
       "0        1      1       Ms. Nicole Clarke          1        1974           1   \n",
       "1        2      0         Mr. Jesse Scott          1        1965           1   \n",
       "2        3      1  Mr. Christopher Carter          1        1973           1   \n",
       "3        4      0     Ms. Jennifer Morgan          1        1993           0   \n",
       "\n",
       "  RoomType  RewardPoints  Comfort  ReceptionSchedule  ...  Wifi  Amenities  \\\n",
       "0   single          4907        3                  4  ...     4          3   \n",
       "1   single          6724        1                  1  ...     5          3   \n",
       "2   single          4365        3                  3  ...     1          4   \n",
       "3   double          3849        1                  1  ...     4          4   \n",
       "\n",
       "   Staff  OnlineBooking  PriceQuality  RoomSpace  CheckOut  Checkin  \\\n",
       "0      4              3             3          3         3        4   \n",
       "1      4              5             5          5         5        1   \n",
       "2      4              3             3          2         3        2   \n",
       "3      5              4             4          4         4        4   \n",
       "\n",
       "   Cleanliness  BarService  \n",
       "0            3           4  \n",
       "1            5           2  \n",
       "2            3           1  \n",
       "3            4           3  \n",
       "\n",
       "[4 rows x 22 columns]"
      ]
     },
     "execution_count": 26,
     "metadata": {},
     "output_type": "execute_result"
    }
   ],
   "source": [
    "data['Year_Birth']=data['Year_Birth'].astype(int)\n",
    "data.head(4)"
   ]
  },
  {
   "cell_type": "markdown",
   "metadata": {},
   "source": [
    "<h2>Room Type change</h2>"
   ]
  },
  {
   "cell_type": "code",
   "execution_count": 27,
   "metadata": {
    "scrolled": true
   },
   "outputs": [
    {
     "data": {
      "text/plain": [
       "single    7442\n",
       "double    7021\n",
       "suite     1126\n",
       "Name: RoomType, dtype: int64"
      ]
     },
     "execution_count": 27,
     "metadata": {},
     "output_type": "execute_result"
    }
   ],
   "source": [
    "data['RoomType'].value_counts()"
   ]
  },
  {
   "cell_type": "markdown",
   "metadata": {},
   "source": [
    "<h3>Ordinal Encoding for column RoomType<h3>"
   ]
  },
  {
   "cell_type": "code",
   "execution_count": 28,
   "metadata": {},
   "outputs": [
    {
     "data": {
      "text/plain": [
       "0    7442\n",
       "1    7021\n",
       "2    1126\n",
       "Name: RoomType, dtype: int64"
      ]
     },
     "execution_count": 28,
     "metadata": {},
     "output_type": "execute_result"
    }
   ],
   "source": [
    "data['RoomType'].replace(to_replace = 'suite',value = 2, inplace = True)\n",
    "data['RoomType'].replace(to_replace = 'double',value = 1, inplace = True)\n",
    "data['RoomType'].replace(to_replace = 'single',value = 0, inplace = True)\n",
    "data['RoomType'].value_counts()"
   ]
  },
  {
   "cell_type": "markdown",
   "metadata": {},
   "source": [
    "<h3> Drop Column Name<h3>"
   ]
  },
  {
   "cell_type": "code",
   "execution_count": 29,
   "metadata": {},
   "outputs": [],
   "source": [
    "data.drop(['Name'], axis=1, inplace=True)"
   ]
  },
  {
   "cell_type": "markdown",
   "metadata": {},
   "source": [
    "<h3>Pearson Correlation Heatmap<h3>"
   ]
  },
  {
   "cell_type": "code",
   "execution_count": 30,
   "metadata": {
    "scrolled": true
   },
   "outputs": [
    {
     "data": {
      "image/png": "[encoded data removed]",
      "text/plain": [
       "<Figure size 864x720 with 2 Axes>"
      ]
     },
     "metadata": {
      "needs_background": "light"
     },
     "output_type": "display_data"
    }
   ],
   "source": [
    "#pearson correlation\n",
    "cor_pearson = data.corr(method ='pearson')\n",
    "#Heatmap function defined\n",
    "def cor_heatmap(cor):\n",
    "    plt.figure(figsize=(12,10))\n",
    "    sns.heatmap(data = cor, annot = True, cmap = plt.cm.Reds, fmt='.1')\n",
    "    plt.show()\n",
    "#print correlation\n",
    "cor_heatmap(cor_pearson)"
   ]
  },
  {
   "cell_type": "code",
   "execution_count": 31,
   "metadata": {},
   "outputs": [
    {
     "data": {
      "text/html": [
       "<div>\n",
       "<style scoped>\n",
       "    .dataframe tbody tr th:only-of-type {\n",
       "        vertical-align: middle;\n",
       "    }\n",
       "\n",
       "    .dataframe tbody tr th {\n",
       "        vertical-align: top;\n",
       "    }\n",
       "\n",
       "    .dataframe thead th {\n",
       "        text-align: right;\n",
       "    }\n",
       "</style>\n",
       "<table border=\"1\" class=\"dataframe\">\n",
       "  <thead>\n",
       "    <tr style=\"text-align: right;\">\n",
       "      <th></th>\n",
       "      <th>Cust_ID</th>\n",
       "      <th>Churn</th>\n",
       "      <th>Longevity</th>\n",
       "      <th>Year_Birth</th>\n",
       "      <th>TypeTravel</th>\n",
       "      <th>RoomType</th>\n",
       "      <th>RewardPoints</th>\n",
       "      <th>Comfort</th>\n",
       "      <th>ReceptionSchedule</th>\n",
       "      <th>FoodDrink</th>\n",
       "      <th>...</th>\n",
       "      <th>Wifi</th>\n",
       "      <th>Amenities</th>\n",
       "      <th>Staff</th>\n",
       "      <th>OnlineBooking</th>\n",
       "      <th>PriceQuality</th>\n",
       "      <th>RoomSpace</th>\n",
       "      <th>CheckOut</th>\n",
       "      <th>Checkin</th>\n",
       "      <th>Cleanliness</th>\n",
       "      <th>BarService</th>\n",
       "    </tr>\n",
       "  </thead>\n",
       "  <tbody>\n",
       "    <tr>\n",
       "      <th>0</th>\n",
       "      <td>1</td>\n",
       "      <td>1</td>\n",
       "      <td>1</td>\n",
       "      <td>1974</td>\n",
       "      <td>1</td>\n",
       "      <td>0</td>\n",
       "      <td>4907</td>\n",
       "      <td>3</td>\n",
       "      <td>4</td>\n",
       "      <td>1</td>\n",
       "      <td>...</td>\n",
       "      <td>4</td>\n",
       "      <td>3</td>\n",
       "      <td>4</td>\n",
       "      <td>3</td>\n",
       "      <td>3</td>\n",
       "      <td>3</td>\n",
       "      <td>3</td>\n",
       "      <td>4</td>\n",
       "      <td>3</td>\n",
       "      <td>4</td>\n",
       "    </tr>\n",
       "    <tr>\n",
       "      <th>1</th>\n",
       "      <td>2</td>\n",
       "      <td>0</td>\n",
       "      <td>1</td>\n",
       "      <td>1965</td>\n",
       "      <td>1</td>\n",
       "      <td>0</td>\n",
       "      <td>6724</td>\n",
       "      <td>1</td>\n",
       "      <td>1</td>\n",
       "      <td>1</td>\n",
       "      <td>...</td>\n",
       "      <td>5</td>\n",
       "      <td>3</td>\n",
       "      <td>4</td>\n",
       "      <td>5</td>\n",
       "      <td>5</td>\n",
       "      <td>5</td>\n",
       "      <td>5</td>\n",
       "      <td>1</td>\n",
       "      <td>5</td>\n",
       "      <td>2</td>\n",
       "    </tr>\n",
       "    <tr>\n",
       "      <th>2</th>\n",
       "      <td>3</td>\n",
       "      <td>1</td>\n",
       "      <td>1</td>\n",
       "      <td>1973</td>\n",
       "      <td>1</td>\n",
       "      <td>0</td>\n",
       "      <td>4365</td>\n",
       "      <td>3</td>\n",
       "      <td>3</td>\n",
       "      <td>3</td>\n",
       "      <td>...</td>\n",
       "      <td>1</td>\n",
       "      <td>4</td>\n",
       "      <td>4</td>\n",
       "      <td>3</td>\n",
       "      <td>3</td>\n",
       "      <td>2</td>\n",
       "      <td>3</td>\n",
       "      <td>2</td>\n",
       "      <td>3</td>\n",
       "      <td>1</td>\n",
       "    </tr>\n",
       "    <tr>\n",
       "      <th>3</th>\n",
       "      <td>4</td>\n",
       "      <td>0</td>\n",
       "      <td>1</td>\n",
       "      <td>1993</td>\n",
       "      <td>0</td>\n",
       "      <td>1</td>\n",
       "      <td>3849</td>\n",
       "      <td>1</td>\n",
       "      <td>1</td>\n",
       "      <td>1</td>\n",
       "      <td>...</td>\n",
       "      <td>4</td>\n",
       "      <td>4</td>\n",
       "      <td>5</td>\n",
       "      <td>4</td>\n",
       "      <td>4</td>\n",
       "      <td>4</td>\n",
       "      <td>4</td>\n",
       "      <td>4</td>\n",
       "      <td>4</td>\n",
       "      <td>3</td>\n",
       "    </tr>\n",
       "    <tr>\n",
       "      <th>4</th>\n",
       "      <td>5</td>\n",
       "      <td>0</td>\n",
       "      <td>1</td>\n",
       "      <td>1989</td>\n",
       "      <td>1</td>\n",
       "      <td>0</td>\n",
       "      <td>5376</td>\n",
       "      <td>2</td>\n",
       "      <td>2</td>\n",
       "      <td>3</td>\n",
       "      <td>...</td>\n",
       "      <td>5</td>\n",
       "      <td>5</td>\n",
       "      <td>5</td>\n",
       "      <td>5</td>\n",
       "      <td>5</td>\n",
       "      <td>3</td>\n",
       "      <td>4</td>\n",
       "      <td>1</td>\n",
       "      <td>3</td>\n",
       "      <td>5</td>\n",
       "    </tr>\n",
       "  </tbody>\n",
       "</table>\n",
       "<p>5 rows × 21 columns</p>\n",
       "</div>"
      ],
      "text/plain": [
       "   Cust_ID  Churn  Longevity  Year_Birth  TypeTravel  RoomType  RewardPoints  \\\n",
       "0        1      1          1        1974           1         0          4907   \n",
       "1        2      0          1        1965           1         0          6724   \n",
       "2        3      1          1        1973           1         0          4365   \n",
       "3        4      0          1        1993           0         1          3849   \n",
       "4        5      0          1        1989           1         0          5376   \n",
       "\n",
       "   Comfort  ReceptionSchedule  FoodDrink  ...  Wifi  Amenities  Staff  \\\n",
       "0        3                  4          1  ...     4          3      4   \n",
       "1        1                  1          1  ...     5          3      4   \n",
       "2        3                  3          3  ...     1          4      4   \n",
       "3        1                  1          1  ...     4          4      5   \n",
       "4        2                  2          3  ...     5          5      5   \n",
       "\n",
       "   OnlineBooking  PriceQuality  RoomSpace  CheckOut  Checkin  Cleanliness  \\\n",
       "0              3             3          3         3        4            3   \n",
       "1              5             5          5         5        1            5   \n",
       "2              3             3          2         3        2            3   \n",
       "3              4             4          4         4        4            4   \n",
       "4              5             5          3         4        1            3   \n",
       "\n",
       "   BarService  \n",
       "0           4  \n",
       "1           2  \n",
       "2           1  \n",
       "3           3  \n",
       "4           5  \n",
       "\n",
       "[5 rows x 21 columns]"
      ]
     },
     "execution_count": 31,
     "metadata": {},
     "output_type": "execute_result"
    }
   ],
   "source": [
    "data.head()"
   ]
  },
  {
   "cell_type": "markdown",
   "metadata": {},
   "source": [
    "<h3>Scale the data<h3>"
   ]
  },
  {
   "cell_type": "markdown",
   "metadata": {},
   "source": [
    "<p>Since variables that are measured at different scales do not contribute equally to the model fitting and model learned function and might end up creating a bias, we will deal with this potential problem by applying a MinMax Normalization.</p>"
   ]
  },
  {
   "cell_type": "code",
   "execution_count": 32,
   "metadata": {},
   "outputs": [
    {
     "data": {
      "text/html": [
       "<div>\n",
       "<style scoped>\n",
       "    .dataframe tbody tr th:only-of-type {\n",
       "        vertical-align: middle;\n",
       "    }\n",
       "\n",
       "    .dataframe tbody tr th {\n",
       "        vertical-align: top;\n",
       "    }\n",
       "\n",
       "    .dataframe thead th {\n",
       "        text-align: right;\n",
       "    }\n",
       "</style>\n",
       "<table border=\"1\" class=\"dataframe\">\n",
       "  <thead>\n",
       "    <tr style=\"text-align: right;\">\n",
       "      <th></th>\n",
       "      <th>Cust_ID</th>\n",
       "      <th>Longevity</th>\n",
       "      <th>Year_Birth</th>\n",
       "      <th>TypeTravel</th>\n",
       "      <th>RoomType</th>\n",
       "      <th>RewardPoints</th>\n",
       "      <th>Comfort</th>\n",
       "      <th>ReceptionSchedule</th>\n",
       "      <th>FoodDrink</th>\n",
       "      <th>Location</th>\n",
       "      <th>Wifi</th>\n",
       "      <th>Amenities</th>\n",
       "      <th>Staff</th>\n",
       "      <th>OnlineBooking</th>\n",
       "      <th>PriceQuality</th>\n",
       "      <th>RoomSpace</th>\n",
       "      <th>CheckOut</th>\n",
       "      <th>Checkin</th>\n",
       "      <th>Cleanliness</th>\n",
       "      <th>BarService</th>\n",
       "    </tr>\n",
       "  </thead>\n",
       "  <tbody>\n",
       "    <tr>\n",
       "      <th>0</th>\n",
       "      <td>0.000000</td>\n",
       "      <td>1.0</td>\n",
       "      <td>0.487179</td>\n",
       "      <td>1.0</td>\n",
       "      <td>0.0</td>\n",
       "      <td>0.687662</td>\n",
       "      <td>0.6</td>\n",
       "      <td>0.8</td>\n",
       "      <td>0.2</td>\n",
       "      <td>0.75</td>\n",
       "      <td>0.8</td>\n",
       "      <td>0.6</td>\n",
       "      <td>0.75</td>\n",
       "      <td>0.6</td>\n",
       "      <td>0.50</td>\n",
       "      <td>0.6</td>\n",
       "      <td>0.50</td>\n",
       "      <td>0.75</td>\n",
       "      <td>0.50</td>\n",
       "      <td>0.8</td>\n",
       "    </tr>\n",
       "    <tr>\n",
       "      <th>1</th>\n",
       "      <td>0.000064</td>\n",
       "      <td>1.0</td>\n",
       "      <td>0.371795</td>\n",
       "      <td>1.0</td>\n",
       "      <td>0.0</td>\n",
       "      <td>0.965449</td>\n",
       "      <td>0.2</td>\n",
       "      <td>0.2</td>\n",
       "      <td>0.2</td>\n",
       "      <td>0.00</td>\n",
       "      <td>1.0</td>\n",
       "      <td>0.6</td>\n",
       "      <td>0.75</td>\n",
       "      <td>1.0</td>\n",
       "      <td>1.00</td>\n",
       "      <td>1.0</td>\n",
       "      <td>1.00</td>\n",
       "      <td>0.00</td>\n",
       "      <td>1.00</td>\n",
       "      <td>0.4</td>\n",
       "    </tr>\n",
       "    <tr>\n",
       "      <th>2</th>\n",
       "      <td>0.000128</td>\n",
       "      <td>1.0</td>\n",
       "      <td>0.474359</td>\n",
       "      <td>1.0</td>\n",
       "      <td>0.0</td>\n",
       "      <td>0.604800</td>\n",
       "      <td>0.6</td>\n",
       "      <td>0.6</td>\n",
       "      <td>0.6</td>\n",
       "      <td>0.50</td>\n",
       "      <td>0.2</td>\n",
       "      <td>0.8</td>\n",
       "      <td>0.75</td>\n",
       "      <td>0.6</td>\n",
       "      <td>0.50</td>\n",
       "      <td>0.4</td>\n",
       "      <td>0.50</td>\n",
       "      <td>0.25</td>\n",
       "      <td>0.50</td>\n",
       "      <td>0.2</td>\n",
       "    </tr>\n",
       "    <tr>\n",
       "      <th>3</th>\n",
       "      <td>0.000192</td>\n",
       "      <td>1.0</td>\n",
       "      <td>0.730769</td>\n",
       "      <td>0.0</td>\n",
       "      <td>0.5</td>\n",
       "      <td>0.525913</td>\n",
       "      <td>0.2</td>\n",
       "      <td>0.2</td>\n",
       "      <td>0.2</td>\n",
       "      <td>0.00</td>\n",
       "      <td>0.8</td>\n",
       "      <td>0.8</td>\n",
       "      <td>1.00</td>\n",
       "      <td>0.8</td>\n",
       "      <td>0.75</td>\n",
       "      <td>0.8</td>\n",
       "      <td>0.75</td>\n",
       "      <td>0.75</td>\n",
       "      <td>0.75</td>\n",
       "      <td>0.6</td>\n",
       "    </tr>\n",
       "    <tr>\n",
       "      <th>4</th>\n",
       "      <td>0.000257</td>\n",
       "      <td>1.0</td>\n",
       "      <td>0.679487</td>\n",
       "      <td>1.0</td>\n",
       "      <td>0.0</td>\n",
       "      <td>0.759364</td>\n",
       "      <td>0.4</td>\n",
       "      <td>0.4</td>\n",
       "      <td>0.6</td>\n",
       "      <td>0.25</td>\n",
       "      <td>1.0</td>\n",
       "      <td>1.0</td>\n",
       "      <td>1.00</td>\n",
       "      <td>1.0</td>\n",
       "      <td>1.00</td>\n",
       "      <td>0.6</td>\n",
       "      <td>0.75</td>\n",
       "      <td>0.00</td>\n",
       "      <td>0.50</td>\n",
       "      <td>1.0</td>\n",
       "    </tr>\n",
       "  </tbody>\n",
       "</table>\n",
       "</div>"
      ],
      "text/plain": [
       "    Cust_ID  Longevity  Year_Birth  TypeTravel  RoomType  RewardPoints  \\\n",
       "0  0.000000        1.0    0.487179         1.0       0.0      0.687662   \n",
       "1  0.000064        1.0    0.371795         1.0       0.0      0.965449   \n",
       "2  0.000128        1.0    0.474359         1.0       0.0      0.604800   \n",
       "3  0.000192        1.0    0.730769         0.0       0.5      0.525913   \n",
       "4  0.000257        1.0    0.679487         1.0       0.0      0.759364   \n",
       "\n",
       "   Comfort  ReceptionSchedule  FoodDrink  Location  Wifi  Amenities  Staff  \\\n",
       "0      0.6                0.8        0.2      0.75   0.8        0.6   0.75   \n",
       "1      0.2                0.2        0.2      0.00   1.0        0.6   0.75   \n",
       "2      0.6                0.6        0.6      0.50   0.2        0.8   0.75   \n",
       "3      0.2                0.2        0.2      0.00   0.8        0.8   1.00   \n",
       "4      0.4                0.4        0.6      0.25   1.0        1.0   1.00   \n",
       "\n",
       "   OnlineBooking  PriceQuality  RoomSpace  CheckOut  Checkin  Cleanliness  \\\n",
       "0            0.6          0.50        0.6      0.50     0.75         0.50   \n",
       "1            1.0          1.00        1.0      1.00     0.00         1.00   \n",
       "2            0.6          0.50        0.4      0.50     0.25         0.50   \n",
       "3            0.8          0.75        0.8      0.75     0.75         0.75   \n",
       "4            1.0          1.00        0.6      0.75     0.00         0.50   \n",
       "\n",
       "   BarService  \n",
       "0         0.8  \n",
       "1         0.4  \n",
       "2         0.2  \n",
       "3         0.6  \n",
       "4         1.0  "
      ]
     },
     "execution_count": 32,
     "metadata": {},
     "output_type": "execute_result"
    }
   ],
   "source": [
    "X_train = data.drop('Churn', axis = 1)\n",
    "y_train = data['Churn']\n",
    "\n",
    "scaler = MinMaxScaler().fit(X_train)\n",
    "minmax_train = scaler.transform(X_train)\n",
    "\n",
    "X_train = pd.DataFrame(minmax_train, columns = X_train.columns)\n",
    "X_train.head()"
   ]
  },
  {
   "cell_type": "markdown",
   "metadata": {},
   "source": [
    "<h1>VALIDATION<h1>"
   ]
  },
  {
   "cell_type": "markdown",
   "metadata": {},
   "source": [
    "<h2>Data preparation<h2>"
   ]
  },
  {
   "cell_type": "code",
   "execution_count": 33,
   "metadata": {},
   "outputs": [
    {
     "data": {
      "text/html": [
       "<div>\n",
       "<style scoped>\n",
       "    .dataframe tbody tr th:only-of-type {\n",
       "        vertical-align: middle;\n",
       "    }\n",
       "\n",
       "    .dataframe tbody tr th {\n",
       "        vertical-align: top;\n",
       "    }\n",
       "\n",
       "    .dataframe thead th {\n",
       "        text-align: right;\n",
       "    }\n",
       "</style>\n",
       "<table border=\"1\" class=\"dataframe\">\n",
       "  <thead>\n",
       "    <tr style=\"text-align: right;\">\n",
       "      <th></th>\n",
       "      <th>Cust_ID</th>\n",
       "      <th>Churn</th>\n",
       "      <th>Name</th>\n",
       "      <th>Longevity</th>\n",
       "      <th>Year_Birth</th>\n",
       "      <th>TypeTravel</th>\n",
       "      <th>RoomType</th>\n",
       "      <th>RewardPoints</th>\n",
       "      <th>Comfort</th>\n",
       "      <th>ReceptionSchedule</th>\n",
       "      <th>...</th>\n",
       "      <th>Wifi</th>\n",
       "      <th>Amenities</th>\n",
       "      <th>Staff</th>\n",
       "      <th>OnlineBooking</th>\n",
       "      <th>PriceQuality</th>\n",
       "      <th>RoomSpace</th>\n",
       "      <th>CheckOut</th>\n",
       "      <th>Checkin</th>\n",
       "      <th>Cleanliness</th>\n",
       "      <th>BarService</th>\n",
       "    </tr>\n",
       "  </thead>\n",
       "  <tbody>\n",
       "    <tr>\n",
       "      <th>0</th>\n",
       "      <td>20000</td>\n",
       "      <td>0</td>\n",
       "      <td>Mr. Dennis Woods</td>\n",
       "      <td>0</td>\n",
       "      <td>2001</td>\n",
       "      <td>1</td>\n",
       "      <td>0</td>\n",
       "      <td>4512</td>\n",
       "      <td>5</td>\n",
       "      <td>0</td>\n",
       "      <td>...</td>\n",
       "      <td>4</td>\n",
       "      <td>5</td>\n",
       "      <td>4</td>\n",
       "      <td>4</td>\n",
       "      <td>3</td>\n",
       "      <td>2</td>\n",
       "      <td>4</td>\n",
       "      <td>3</td>\n",
       "      <td>4</td>\n",
       "      <td>4</td>\n",
       "    </tr>\n",
       "    <tr>\n",
       "      <th>1</th>\n",
       "      <td>20001</td>\n",
       "      <td>0</td>\n",
       "      <td>Mr. Hunter Burke</td>\n",
       "      <td>1</td>\n",
       "      <td>1965</td>\n",
       "      <td>1</td>\n",
       "      <td>0</td>\n",
       "      <td>5696</td>\n",
       "      <td>1</td>\n",
       "      <td>1</td>\n",
       "      <td>...</td>\n",
       "      <td>4</td>\n",
       "      <td>4</td>\n",
       "      <td>4</td>\n",
       "      <td>5</td>\n",
       "      <td>5</td>\n",
       "      <td>5</td>\n",
       "      <td>5</td>\n",
       "      <td>5</td>\n",
       "      <td>5</td>\n",
       "      <td>5</td>\n",
       "    </tr>\n",
       "  </tbody>\n",
       "</table>\n",
       "<p>2 rows × 22 columns</p>\n",
       "</div>"
      ],
      "text/plain": [
       "   Cust_ID  Churn              Name  Longevity  Year_Birth  TypeTravel  \\\n",
       "0    20000      0  Mr. Dennis Woods          0        2001           1   \n",
       "1    20001      0  Mr. Hunter Burke          1        1965           1   \n",
       "\n",
       "   RoomType  RewardPoints  Comfort  ReceptionSchedule  ...  Wifi  Amenities  \\\n",
       "0         0          4512        5                  0  ...     4          5   \n",
       "1         0          5696        1                  1  ...     4          4   \n",
       "\n",
       "   Staff  OnlineBooking  PriceQuality  RoomSpace  CheckOut  Checkin  \\\n",
       "0      4              4             3          2         4        3   \n",
       "1      4              5             5          5         5        5   \n",
       "\n",
       "   Cleanliness  BarService  \n",
       "0            4           4  \n",
       "1            5           5  \n",
       "\n",
       "[2 rows x 22 columns]"
      ]
     },
     "execution_count": 33,
     "metadata": {},
     "output_type": "execute_result"
    }
   ],
   "source": [
    "#get the validation data\n",
    "filename1 = 'validation.csv'\n",
    "file_path1 = Path(filename1)\n",
    "v = pd.read_csv(file_path1, delimiter=\";\")\n",
    "validate = v.copy()\n",
    "#Longevity\n",
    "validate['Longevity'].replace(to_replace = 'yes',value = 1, inplace = True)\n",
    "validate['Longevity'].replace(to_replace = 'y',value = 1, inplace = True)\n",
    "validate['Longevity'].replace(to_replace = 'no',value = 0, inplace = True)\n",
    "#TypeTravel\n",
    "validate['TypeTravel'].replace(to_replace = 'business',value = 1, inplace = True)\n",
    "validate['TypeTravel'].replace(to_replace = 'leisure',value = 0, inplace = True)\n",
    "#Churn\n",
    "validate['Churn'].replace(to_replace = 'churn',value = 1, inplace = True)\n",
    "validate['Churn'].replace(to_replace = 'nochurn',value = 0, inplace = True)\n",
    "#RoomType\n",
    "validate['RoomType'].replace(to_replace = 'suite',value = 2, inplace = True)\n",
    "validate['RoomType'].replace(to_replace = 'double',value = 1, inplace = True)\n",
    "validate['RoomType'].replace(to_replace = 'single',value = 0, inplace = True)\n",
    "validate.head(2)"
   ]
  },
  {
   "cell_type": "markdown",
   "metadata": {},
   "source": [
    "<h2>Checking Missing values<h2>"
   ]
  },
  {
   "cell_type": "code",
   "execution_count": 34,
   "metadata": {},
   "outputs": [
    {
     "name": "stdout",
     "output_type": "stream",
     "text": [
      "<class 'pandas.core.frame.DataFrame'>\n",
      "RangeIndex: 5195 entries, 0 to 5194\n",
      "Data columns (total 22 columns):\n",
      " #   Column             Non-Null Count  Dtype \n",
      "---  ------             --------------  ----- \n",
      " 0   Cust_ID            5195 non-null   int64 \n",
      " 1   Churn              5195 non-null   int64 \n",
      " 2   Name               5195 non-null   object\n",
      " 3   Longevity          5195 non-null   int64 \n",
      " 4   Year_Birth         5195 non-null   int64 \n",
      " 5   TypeTravel         5195 non-null   int64 \n",
      " 6   RoomType           5195 non-null   int64 \n",
      " 7   RewardPoints       5195 non-null   int64 \n",
      " 8   Comfort            5195 non-null   int64 \n",
      " 9   ReceptionSchedule  5195 non-null   int64 \n",
      " 10  FoodDrink          5195 non-null   int64 \n",
      " 11  Location           5195 non-null   int64 \n",
      " 12  Wifi               5195 non-null   int64 \n",
      " 13  Amenities          5195 non-null   int64 \n",
      " 14  Staff              5195 non-null   int64 \n",
      " 15  OnlineBooking      5195 non-null   int64 \n",
      " 16  PriceQuality       5195 non-null   int64 \n",
      " 17  RoomSpace          5195 non-null   int64 \n",
      " 18  CheckOut           5195 non-null   int64 \n",
      " 19  Checkin            5195 non-null   int64 \n",
      " 20  Cleanliness        5195 non-null   int64 \n",
      " 21  BarService         5195 non-null   int64 \n",
      "dtypes: int64(21), object(1)\n",
      "memory usage: 893.0+ KB\n"
     ]
    }
   ],
   "source": [
    "validate.info()"
   ]
  },
  {
   "cell_type": "markdown",
   "metadata": {},
   "source": [
    "<h2>Scaling<h2>"
   ]
  },
  {
   "cell_type": "code",
   "execution_count": 35,
   "metadata": {},
   "outputs": [
    {
     "data": {
      "text/html": [
       "<div>\n",
       "<style scoped>\n",
       "    .dataframe tbody tr th:only-of-type {\n",
       "        vertical-align: middle;\n",
       "    }\n",
       "\n",
       "    .dataframe tbody tr th {\n",
       "        vertical-align: top;\n",
       "    }\n",
       "\n",
       "    .dataframe thead th {\n",
       "        text-align: right;\n",
       "    }\n",
       "</style>\n",
       "<table border=\"1\" class=\"dataframe\">\n",
       "  <thead>\n",
       "    <tr style=\"text-align: right;\">\n",
       "      <th></th>\n",
       "      <th>Cust_ID</th>\n",
       "      <th>Longevity</th>\n",
       "      <th>Year_Birth</th>\n",
       "      <th>TypeTravel</th>\n",
       "      <th>RoomType</th>\n",
       "      <th>RewardPoints</th>\n",
       "      <th>Comfort</th>\n",
       "      <th>ReceptionSchedule</th>\n",
       "      <th>FoodDrink</th>\n",
       "      <th>Location</th>\n",
       "      <th>Wifi</th>\n",
       "      <th>Amenities</th>\n",
       "      <th>Staff</th>\n",
       "      <th>OnlineBooking</th>\n",
       "      <th>PriceQuality</th>\n",
       "      <th>RoomSpace</th>\n",
       "      <th>CheckOut</th>\n",
       "      <th>Checkin</th>\n",
       "      <th>Cleanliness</th>\n",
       "      <th>BarService</th>\n",
       "    </tr>\n",
       "  </thead>\n",
       "  <tbody>\n",
       "    <tr>\n",
       "      <th>0</th>\n",
       "      <td>0.000000</td>\n",
       "      <td>0.0</td>\n",
       "      <td>0.821918</td>\n",
       "      <td>1.0</td>\n",
       "      <td>0.0</td>\n",
       "      <td>0.635248</td>\n",
       "      <td>1.0</td>\n",
       "      <td>0.0</td>\n",
       "      <td>1.0</td>\n",
       "      <td>0.50</td>\n",
       "      <td>0.8</td>\n",
       "      <td>1.0</td>\n",
       "      <td>0.75</td>\n",
       "      <td>0.75</td>\n",
       "      <td>0.50</td>\n",
       "      <td>0.4</td>\n",
       "      <td>0.75</td>\n",
       "      <td>0.50</td>\n",
       "      <td>0.75</td>\n",
       "      <td>0.75</td>\n",
       "    </tr>\n",
       "    <tr>\n",
       "      <th>1</th>\n",
       "      <td>0.000193</td>\n",
       "      <td>1.0</td>\n",
       "      <td>0.328767</td>\n",
       "      <td>1.0</td>\n",
       "      <td>0.0</td>\n",
       "      <td>0.812388</td>\n",
       "      <td>0.2</td>\n",
       "      <td>0.2</td>\n",
       "      <td>0.2</td>\n",
       "      <td>0.00</td>\n",
       "      <td>0.8</td>\n",
       "      <td>0.8</td>\n",
       "      <td>0.75</td>\n",
       "      <td>1.00</td>\n",
       "      <td>1.00</td>\n",
       "      <td>1.0</td>\n",
       "      <td>1.00</td>\n",
       "      <td>1.00</td>\n",
       "      <td>1.00</td>\n",
       "      <td>1.00</td>\n",
       "    </tr>\n",
       "    <tr>\n",
       "      <th>2</th>\n",
       "      <td>0.000385</td>\n",
       "      <td>1.0</td>\n",
       "      <td>0.726027</td>\n",
       "      <td>0.0</td>\n",
       "      <td>0.5</td>\n",
       "      <td>0.630461</td>\n",
       "      <td>1.0</td>\n",
       "      <td>1.0</td>\n",
       "      <td>1.0</td>\n",
       "      <td>1.00</td>\n",
       "      <td>0.6</td>\n",
       "      <td>0.2</td>\n",
       "      <td>0.00</td>\n",
       "      <td>1.00</td>\n",
       "      <td>1.00</td>\n",
       "      <td>1.0</td>\n",
       "      <td>0.75</td>\n",
       "      <td>1.00</td>\n",
       "      <td>1.00</td>\n",
       "      <td>1.00</td>\n",
       "    </tr>\n",
       "    <tr>\n",
       "      <th>3</th>\n",
       "      <td>0.000578</td>\n",
       "      <td>1.0</td>\n",
       "      <td>0.575342</td>\n",
       "      <td>1.0</td>\n",
       "      <td>0.0</td>\n",
       "      <td>0.556703</td>\n",
       "      <td>0.4</td>\n",
       "      <td>0.6</td>\n",
       "      <td>0.2</td>\n",
       "      <td>0.50</td>\n",
       "      <td>0.8</td>\n",
       "      <td>0.8</td>\n",
       "      <td>0.75</td>\n",
       "      <td>0.25</td>\n",
       "      <td>0.25</td>\n",
       "      <td>0.4</td>\n",
       "      <td>0.25</td>\n",
       "      <td>0.75</td>\n",
       "      <td>0.25</td>\n",
       "      <td>0.75</td>\n",
       "    </tr>\n",
       "    <tr>\n",
       "      <th>4</th>\n",
       "      <td>0.000770</td>\n",
       "      <td>1.0</td>\n",
       "      <td>0.301370</td>\n",
       "      <td>1.0</td>\n",
       "      <td>0.0</td>\n",
       "      <td>0.815530</td>\n",
       "      <td>0.8</td>\n",
       "      <td>0.8</td>\n",
       "      <td>0.8</td>\n",
       "      <td>0.75</td>\n",
       "      <td>0.8</td>\n",
       "      <td>1.0</td>\n",
       "      <td>0.75</td>\n",
       "      <td>0.50</td>\n",
       "      <td>0.50</td>\n",
       "      <td>0.8</td>\n",
       "      <td>0.50</td>\n",
       "      <td>0.75</td>\n",
       "      <td>0.50</td>\n",
       "      <td>0.50</td>\n",
       "    </tr>\n",
       "  </tbody>\n",
       "</table>\n",
       "</div>"
      ],
      "text/plain": [
       "    Cust_ID  Longevity  Year_Birth  TypeTravel  RoomType  RewardPoints  \\\n",
       "0  0.000000        0.0    0.821918         1.0       0.0      0.635248   \n",
       "1  0.000193        1.0    0.328767         1.0       0.0      0.812388   \n",
       "2  0.000385        1.0    0.726027         0.0       0.5      0.630461   \n",
       "3  0.000578        1.0    0.575342         1.0       0.0      0.556703   \n",
       "4  0.000770        1.0    0.301370         1.0       0.0      0.815530   \n",
       "\n",
       "   Comfort  ReceptionSchedule  FoodDrink  Location  Wifi  Amenities  Staff  \\\n",
       "0      1.0                0.0        1.0      0.50   0.8        1.0   0.75   \n",
       "1      0.2                0.2        0.2      0.00   0.8        0.8   0.75   \n",
       "2      1.0                1.0        1.0      1.00   0.6        0.2   0.00   \n",
       "3      0.4                0.6        0.2      0.50   0.8        0.8   0.75   \n",
       "4      0.8                0.8        0.8      0.75   0.8        1.0   0.75   \n",
       "\n",
       "   OnlineBooking  PriceQuality  RoomSpace  CheckOut  Checkin  Cleanliness  \\\n",
       "0           0.75          0.50        0.4      0.75     0.50         0.75   \n",
       "1           1.00          1.00        1.0      1.00     1.00         1.00   \n",
       "2           1.00          1.00        1.0      0.75     1.00         1.00   \n",
       "3           0.25          0.25        0.4      0.25     0.75         0.25   \n",
       "4           0.50          0.50        0.8      0.50     0.75         0.50   \n",
       "\n",
       "   BarService  \n",
       "0        0.75  \n",
       "1        1.00  \n",
       "2        1.00  \n",
       "3        0.75  \n",
       "4        0.50  "
      ]
     },
     "execution_count": 35,
     "metadata": {},
     "output_type": "execute_result"
    }
   ],
   "source": [
    "#Drop name column\n",
    "validate.drop(['Name'], axis=1, inplace=True)\n",
    "#Scaling\n",
    "\n",
    "X_validate = validate.drop('Churn', axis = 1)\n",
    "y_validate = validate['Churn']\n",
    "\n",
    "scaler_validate = MinMaxScaler().fit(X_validate)\n",
    "minmax_validate = scaler_validate.transform(X_validate)\n",
    "\n",
    "X_validate = pd.DataFrame(minmax_validate, columns = X_validate.columns)\n",
    "X_validate.head()"
   ]
  },
  {
   "cell_type": "markdown",
   "metadata": {},
   "source": [
    "<h1>TEST<h1>"
   ]
  },
  {
   "cell_type": "markdown",
   "metadata": {},
   "source": [
    "<h2>Data Preparation<h2>"
   ]
  },
  {
   "cell_type": "code",
   "execution_count": 36,
   "metadata": {},
   "outputs": [
    {
     "data": {
      "text/html": [
       "<div>\n",
       "<style scoped>\n",
       "    .dataframe tbody tr th:only-of-type {\n",
       "        vertical-align: middle;\n",
       "    }\n",
       "\n",
       "    .dataframe tbody tr th {\n",
       "        vertical-align: top;\n",
       "    }\n",
       "\n",
       "    .dataframe thead th {\n",
       "        text-align: right;\n",
       "    }\n",
       "</style>\n",
       "<table border=\"1\" class=\"dataframe\">\n",
       "  <thead>\n",
       "    <tr style=\"text-align: right;\">\n",
       "      <th></th>\n",
       "      <th>Cust_ID</th>\n",
       "      <th>Name</th>\n",
       "      <th>Longevity</th>\n",
       "      <th>Year_Birth</th>\n",
       "      <th>TypeTravel</th>\n",
       "      <th>RoomType</th>\n",
       "      <th>RewardPoints</th>\n",
       "      <th>Comfort</th>\n",
       "      <th>ReceptionSchedule</th>\n",
       "      <th>FoodDrink</th>\n",
       "      <th>...</th>\n",
       "      <th>Wifi</th>\n",
       "      <th>Amenities</th>\n",
       "      <th>Staff</th>\n",
       "      <th>OnlineBooking</th>\n",
       "      <th>PriceQuality</th>\n",
       "      <th>RoomSpace</th>\n",
       "      <th>CheckOut</th>\n",
       "      <th>Checkin</th>\n",
       "      <th>Cleanliness</th>\n",
       "      <th>BarService</th>\n",
       "    </tr>\n",
       "  </thead>\n",
       "  <tbody>\n",
       "    <tr>\n",
       "      <th>0</th>\n",
       "      <td>30000</td>\n",
       "      <td>Mr. Brandon Aguirre</td>\n",
       "      <td>1</td>\n",
       "      <td>1956</td>\n",
       "      <td>0</td>\n",
       "      <td>double</td>\n",
       "      <td>5584</td>\n",
       "      <td>2</td>\n",
       "      <td>4</td>\n",
       "      <td>2</td>\n",
       "      <td>...</td>\n",
       "      <td>1</td>\n",
       "      <td>2</td>\n",
       "      <td>1</td>\n",
       "      <td>1</td>\n",
       "      <td>5</td>\n",
       "      <td>3</td>\n",
       "      <td>4</td>\n",
       "      <td>4</td>\n",
       "      <td>4</td>\n",
       "      <td>1</td>\n",
       "    </tr>\n",
       "    <tr>\n",
       "      <th>1</th>\n",
       "      <td>30001</td>\n",
       "      <td>Mr. Mathew Howard</td>\n",
       "      <td>1</td>\n",
       "      <td>2004</td>\n",
       "      <td>0</td>\n",
       "      <td>double</td>\n",
       "      <td>5970</td>\n",
       "      <td>2</td>\n",
       "      <td>4</td>\n",
       "      <td>2</td>\n",
       "      <td>...</td>\n",
       "      <td>4</td>\n",
       "      <td>2</td>\n",
       "      <td>4</td>\n",
       "      <td>4</td>\n",
       "      <td>4</td>\n",
       "      <td>5</td>\n",
       "      <td>4</td>\n",
       "      <td>3</td>\n",
       "      <td>1</td>\n",
       "      <td>4</td>\n",
       "    </tr>\n",
       "  </tbody>\n",
       "</table>\n",
       "<p>2 rows × 21 columns</p>\n",
       "</div>"
      ],
      "text/plain": [
       "   Cust_ID                 Name  Longevity  Year_Birth  TypeTravel RoomType  \\\n",
       "0    30000  Mr. Brandon Aguirre          1        1956           0   double   \n",
       "1    30001    Mr. Mathew Howard          1        2004           0   double   \n",
       "\n",
       "   RewardPoints  Comfort  ReceptionSchedule  FoodDrink  ...  Wifi  Amenities  \\\n",
       "0          5584        2                  4          2  ...     1          2   \n",
       "1          5970        2                  4          2  ...     4          2   \n",
       "\n",
       "   Staff  OnlineBooking  PriceQuality  RoomSpace  CheckOut  Checkin  \\\n",
       "0      1              1             5          3         4        4   \n",
       "1      4              4             4          5         4        3   \n",
       "\n",
       "   Cleanliness  BarService  \n",
       "0            4           1  \n",
       "1            1           4  \n",
       "\n",
       "[2 rows x 21 columns]"
      ]
     },
     "execution_count": 36,
     "metadata": {},
     "output_type": "execute_result"
    }
   ],
   "source": [
    "#get the test data\n",
    "filename2 = 'test.csv'\n",
    "file_path2 = Path(filename2)\n",
    "t = pd.read_csv(file_path2, delimiter=\";\")\n",
    "test = t.copy()\n",
    "#Longevity\n",
    "test['Longevity'].replace(to_replace = 'yes',value = 1, inplace = True)\n",
    "test['Longevity'].replace(to_replace = 'y',value = 1, inplace = True)\n",
    "test['Longevity'].replace(to_replace = 'no',value = 0, inplace = True)\n",
    "#TypeTravel\n",
    "test['TypeTravel'].replace(to_replace = 'business',value = 1, inplace = True)\n",
    "test['TypeTravel'].replace(to_replace = 'leisure',value = 0, inplace = True)\n",
    "test.head(2)"
   ]
  },
  {
   "cell_type": "markdown",
   "metadata": {},
   "source": [
    "<h2>Scalling<h2>"
   ]
  },
  {
   "cell_type": "code",
   "execution_count": 37,
   "metadata": {},
   "outputs": [
    {
     "data": {
      "text/html": [
       "<div>\n",
       "<style scoped>\n",
       "    .dataframe tbody tr th:only-of-type {\n",
       "        vertical-align: middle;\n",
       "    }\n",
       "\n",
       "    .dataframe tbody tr th {\n",
       "        vertical-align: top;\n",
       "    }\n",
       "\n",
       "    .dataframe thead th {\n",
       "        text-align: right;\n",
       "    }\n",
       "</style>\n",
       "<table border=\"1\" class=\"dataframe\">\n",
       "  <thead>\n",
       "    <tr style=\"text-align: right;\">\n",
       "      <th></th>\n",
       "      <th>Cust_ID</th>\n",
       "      <th>Longevity</th>\n",
       "      <th>Year_Birth</th>\n",
       "      <th>TypeTravel</th>\n",
       "      <th>RoomType</th>\n",
       "      <th>RewardPoints</th>\n",
       "      <th>Comfort</th>\n",
       "      <th>ReceptionSchedule</th>\n",
       "      <th>FoodDrink</th>\n",
       "      <th>Location</th>\n",
       "      <th>Wifi</th>\n",
       "      <th>Amenities</th>\n",
       "      <th>Staff</th>\n",
       "      <th>OnlineBooking</th>\n",
       "      <th>PriceQuality</th>\n",
       "      <th>RoomSpace</th>\n",
       "      <th>CheckOut</th>\n",
       "      <th>Checkin</th>\n",
       "      <th>Cleanliness</th>\n",
       "      <th>BarService</th>\n",
       "    </tr>\n",
       "  </thead>\n",
       "  <tbody>\n",
       "    <tr>\n",
       "      <th>0</th>\n",
       "      <td>-0.000064</td>\n",
       "      <td>0.0</td>\n",
       "      <td>-24.809975</td>\n",
       "      <td>1.0</td>\n",
       "      <td>0.00</td>\n",
       "      <td>-0.062432</td>\n",
       "      <td>0.20</td>\n",
       "      <td>0.00</td>\n",
       "      <td>0.20</td>\n",
       "      <td>-0.1250</td>\n",
       "      <td>0.16</td>\n",
       "      <td>0.20</td>\n",
       "      <td>-0.0625</td>\n",
       "      <td>0.15</td>\n",
       "      <td>-0.1250</td>\n",
       "      <td>0.08</td>\n",
       "      <td>-0.0625</td>\n",
       "      <td>-0.1250</td>\n",
       "      <td>-0.0625</td>\n",
       "      <td>0.15</td>\n",
       "    </tr>\n",
       "    <tr>\n",
       "      <th>1</th>\n",
       "      <td>-0.000064</td>\n",
       "      <td>1.0</td>\n",
       "      <td>-24.816298</td>\n",
       "      <td>1.0</td>\n",
       "      <td>0.00</td>\n",
       "      <td>-0.062404</td>\n",
       "      <td>0.04</td>\n",
       "      <td>0.04</td>\n",
       "      <td>0.04</td>\n",
       "      <td>-0.2500</td>\n",
       "      <td>0.16</td>\n",
       "      <td>0.16</td>\n",
       "      <td>-0.0625</td>\n",
       "      <td>0.20</td>\n",
       "      <td>0.0000</td>\n",
       "      <td>0.20</td>\n",
       "      <td>0.0000</td>\n",
       "      <td>0.0000</td>\n",
       "      <td>0.0000</td>\n",
       "      <td>0.20</td>\n",
       "    </tr>\n",
       "    <tr>\n",
       "      <th>2</th>\n",
       "      <td>-0.000064</td>\n",
       "      <td>1.0</td>\n",
       "      <td>-24.811205</td>\n",
       "      <td>0.0</td>\n",
       "      <td>0.25</td>\n",
       "      <td>-0.062432</td>\n",
       "      <td>0.20</td>\n",
       "      <td>0.20</td>\n",
       "      <td>0.20</td>\n",
       "      <td>0.0000</td>\n",
       "      <td>0.12</td>\n",
       "      <td>0.04</td>\n",
       "      <td>-0.2500</td>\n",
       "      <td>0.20</td>\n",
       "      <td>0.0000</td>\n",
       "      <td>0.20</td>\n",
       "      <td>-0.0625</td>\n",
       "      <td>0.0000</td>\n",
       "      <td>0.0000</td>\n",
       "      <td>0.20</td>\n",
       "    </tr>\n",
       "    <tr>\n",
       "      <th>3</th>\n",
       "      <td>-0.000064</td>\n",
       "      <td>1.0</td>\n",
       "      <td>-24.813137</td>\n",
       "      <td>1.0</td>\n",
       "      <td>0.00</td>\n",
       "      <td>-0.062444</td>\n",
       "      <td>0.08</td>\n",
       "      <td>0.12</td>\n",
       "      <td>0.04</td>\n",
       "      <td>-0.1250</td>\n",
       "      <td>0.16</td>\n",
       "      <td>0.16</td>\n",
       "      <td>-0.0625</td>\n",
       "      <td>0.05</td>\n",
       "      <td>-0.1875</td>\n",
       "      <td>0.08</td>\n",
       "      <td>-0.1875</td>\n",
       "      <td>-0.0625</td>\n",
       "      <td>-0.1875</td>\n",
       "      <td>0.15</td>\n",
       "    </tr>\n",
       "    <tr>\n",
       "      <th>4</th>\n",
       "      <td>-0.000064</td>\n",
       "      <td>1.0</td>\n",
       "      <td>-24.816649</td>\n",
       "      <td>1.0</td>\n",
       "      <td>0.00</td>\n",
       "      <td>-0.062404</td>\n",
       "      <td>0.16</td>\n",
       "      <td>0.16</td>\n",
       "      <td>0.16</td>\n",
       "      <td>-0.0625</td>\n",
       "      <td>0.16</td>\n",
       "      <td>0.20</td>\n",
       "      <td>-0.0625</td>\n",
       "      <td>0.10</td>\n",
       "      <td>-0.1250</td>\n",
       "      <td>0.16</td>\n",
       "      <td>-0.1250</td>\n",
       "      <td>-0.0625</td>\n",
       "      <td>-0.1250</td>\n",
       "      <td>0.10</td>\n",
       "    </tr>\n",
       "  </tbody>\n",
       "</table>\n",
       "</div>"
      ],
      "text/plain": [
       "    Cust_ID  Longevity  Year_Birth  TypeTravel  RoomType  RewardPoints  \\\n",
       "0 -0.000064        0.0  -24.809975         1.0      0.00     -0.062432   \n",
       "1 -0.000064        1.0  -24.816298         1.0      0.00     -0.062404   \n",
       "2 -0.000064        1.0  -24.811205         0.0      0.25     -0.062432   \n",
       "3 -0.000064        1.0  -24.813137         1.0      0.00     -0.062444   \n",
       "4 -0.000064        1.0  -24.816649         1.0      0.00     -0.062404   \n",
       "\n",
       "   Comfort  ReceptionSchedule  FoodDrink  Location  Wifi  Amenities   Staff  \\\n",
       "0     0.20               0.00       0.20   -0.1250  0.16       0.20 -0.0625   \n",
       "1     0.04               0.04       0.04   -0.2500  0.16       0.16 -0.0625   \n",
       "2     0.20               0.20       0.20    0.0000  0.12       0.04 -0.2500   \n",
       "3     0.08               0.12       0.04   -0.1250  0.16       0.16 -0.0625   \n",
       "4     0.16               0.16       0.16   -0.0625  0.16       0.20 -0.0625   \n",
       "\n",
       "   OnlineBooking  PriceQuality  RoomSpace  CheckOut  Checkin  Cleanliness  \\\n",
       "0           0.15       -0.1250       0.08   -0.0625  -0.1250      -0.0625   \n",
       "1           0.20        0.0000       0.20    0.0000   0.0000       0.0000   \n",
       "2           0.20        0.0000       0.20   -0.0625   0.0000       0.0000   \n",
       "3           0.05       -0.1875       0.08   -0.1875  -0.0625      -0.1875   \n",
       "4           0.10       -0.1250       0.16   -0.1250  -0.0625      -0.1250   \n",
       "\n",
       "   BarService  \n",
       "0        0.15  \n",
       "1        0.20  \n",
       "2        0.20  \n",
       "3        0.15  \n",
       "4        0.10  "
      ]
     },
     "execution_count": 37,
     "metadata": {},
     "output_type": "execute_result"
    }
   ],
   "source": [
    "#Drop name column\n",
    "test.drop(['Name'], axis=1, inplace=True)\n",
    "\n",
    "#Scaling\n",
    "\n",
    "minmax_val = scaler.transform(X_validate)\n",
    "\n",
    "X_val = pd.DataFrame(minmax_val, columns = X_validate.columns, index = X_validate.index)\n",
    "X_val.head()\n",
    "\n"
   ]
  },
  {
   "cell_type": "markdown",
   "metadata": {},
   "source": [
    "<h3>Models<h3>"
   ]
  },
  {
   "cell_type": "markdown",
   "metadata": {},
   "source": [
    "<h2>KNN Classifier</h2>"
   ]
  },
  {
   "cell_type": "markdown",
   "metadata": {},
   "source": [
    "<p>The KNN Classifier is a classification algorithm in which a new data point is classified based on similarity in the specific group of neighboring data points. We will start by  creating a Nearest Neighbor classifier instance called modelKNN, to which we will fit the array of points X_train and y_train. Then, we use the predict() method of modelKNN to perform classification in X_train and assign to the object labels_train.</p>\n"
   ]
  },
  {
   "cell_type": "code",
   "execution_count": 38,
   "metadata": {},
   "outputs": [
    {
     "data": {
      "text/plain": [
       "array([0, 0, 0, ..., 0, 0, 0])"
      ]
     },
     "execution_count": 38,
     "metadata": {},
     "output_type": "execute_result"
    }
   ],
   "source": [
    "modelKNN = KNeighborsClassifier()\n",
    "modelKNN.fit(X = X_train, y = y_train)\n",
    "labels_train = modelKNN.predict(X_train)\n",
    "labels_val = modelKNN.predict(X_validate)\n",
    "labels_val"
   ]
  },
  {
   "cell_type": "code",
   "execution_count": 39,
   "metadata": {},
   "outputs": [
    {
     "data": {
      "text/plain": [
       "array([[0.8, 0.2],\n",
       "       [1. , 0. ],\n",
       "       [0.8, 0.2],\n",
       "       ...,\n",
       "       [1. , 0. ],\n",
       "       [1. , 0. ],\n",
       "       [0.6, 0.4]])"
      ]
     },
     "execution_count": 39,
     "metadata": {},
     "output_type": "execute_result"
    }
   ],
   "source": [
    "modelKNN.predict_proba(X_validate)"
   ]
  },
  {
   "cell_type": "code",
   "execution_count": 40,
   "metadata": {},
   "outputs": [
    {
     "data": {
      "text/plain": [
       "0.9305279363653859"
      ]
     },
     "execution_count": 40,
     "metadata": {},
     "output_type": "execute_result"
    }
   ],
   "source": [
    "modelKNN.score(X_train, y_train)"
   ]
  },
  {
   "cell_type": "code",
   "execution_count": 41,
   "metadata": {},
   "outputs": [
    {
     "data": {
      "text/plain": [
       "0.8987487969201154"
      ]
     },
     "execution_count": 41,
     "metadata": {},
     "output_type": "execute_result"
    }
   ],
   "source": [
    "modelKNN.score(X_validate, y_validate)"
   ]
  },
  {
   "cell_type": "code",
   "execution_count": 42,
   "metadata": {},
   "outputs": [
    {
     "data": {
      "text/plain": [
       "(array([[0.52749227, 0.6291535 , 0.65064118, 0.66987548, 0.67629631],\n",
       "        [0.27124904, 0.35262208, 0.38382258, 0.4379716 , 0.45034358],\n",
       "        [0.83451616, 0.90800353, 0.92292427, 0.94790774, 0.97786487],\n",
       "        ...,\n",
       "        [0.87831198, 0.88562544, 0.91928669, 0.95379164, 1.01558897],\n",
       "        [0.88340514, 0.89773607, 0.89967558, 0.90381164, 0.91048715],\n",
       "        [0.9132247 , 0.9271788 , 0.98884759, 1.02179917, 1.0264001 ]]),\n",
       " array([[ 2480,  3454,  3982,   617,   692],\n",
       "        [  166,  2021,  2774,  1115,  1849],\n",
       "        [ 2581,  2249,  1001,  6902,  8668],\n",
       "        ...,\n",
       "        [ 8577,  9872,  7559, 10860, 10039],\n",
       "        [13320, 14794, 12736, 15418,  9992],\n",
       "        [ 7418,  8919,  8410, 14310,  9297]]))"
      ]
     },
     "execution_count": 42,
     "metadata": {},
     "output_type": "execute_result"
    }
   ],
   "source": [
    "modelKNN.kneighbors(X = X_validate)"
   ]
  },
  {
   "cell_type": "code",
   "execution_count": 43,
   "metadata": {},
   "outputs": [],
   "source": [
    "def metrics(y_train, pred_train , y_validate, pred_validate):\n",
    "    print('___________________________________________________________________________________________________________')\n",
    "    print('                                                     TRAIN                                                 ')\n",
    "    print('-----------------------------------------------------------------------------------------------------------')\n",
    "    print(classification_report(y_train, pred_train))\n",
    "    print(confusion_matrix(y_train, pred_train))\n",
    "\n",
    "\n",
    "    print('___________________________________________________________________________________________________________')\n",
    "    print('                                                VALIDATION                                                 ')\n",
    "    print('-----------------------------------------------------------------------------------------------------------')\n",
    "    print(classification_report(y_validate, pred_validate))\n",
    "    print(confusion_matrix(y_validate, pred_validate))"
   ]
  },
  {
   "cell_type": "code",
   "execution_count": 44,
   "metadata": {},
   "outputs": [
    {
     "name": "stdout",
     "output_type": "stream",
     "text": [
      "___________________________________________________________________________________________________________\n",
      "                                                     TRAIN                                                 \n",
      "-----------------------------------------------------------------------------------------------------------\n",
      "              precision    recall  f1-score   support\n",
      "\n",
      "           0       0.96      0.91      0.93      8477\n",
      "           1       0.90      0.95      0.93      7112\n",
      "\n",
      "    accuracy                           0.93     15589\n",
      "   macro avg       0.93      0.93      0.93     15589\n",
      "weighted avg       0.93      0.93      0.93     15589\n",
      "\n",
      "[[7747  730]\n",
      " [ 353 6759]]\n",
      "___________________________________________________________________________________________________________\n",
      "                                                VALIDATION                                                 \n",
      "-----------------------------------------------------------------------------------------------------------\n",
      "              precision    recall  f1-score   support\n",
      "\n",
      "           0       0.95      0.86      0.90      2831\n",
      "           1       0.85      0.94      0.89      2364\n",
      "\n",
      "    accuracy                           0.90      5195\n",
      "   macro avg       0.90      0.90      0.90      5195\n",
      "weighted avg       0.90      0.90      0.90      5195\n",
      "\n",
      "[[2445  386]\n",
      " [ 140 2224]]\n"
     ]
    }
   ],
   "source": [
    "metrics(y_train, labels_train, y_validate, labels_val)"
   ]
  },
  {
   "cell_type": "markdown",
   "metadata": {},
   "source": [
    "<p>Here we use the predict_proba() method of modelKNN to obtain the probability estimates for the X_val"
   ]
  },
  {
   "cell_type": "markdown",
   "metadata": {},
   "source": [
    "END\n"
   ]
  },
  {
   "cell_type": "markdown",
   "metadata": {},
   "source": [
    "<h3>Decision Trees<h3>"
   ]
  },
  {
   "cell_type": "code",
   "execution_count": 45,
   "metadata": {},
   "outputs": [
    {
     "data": {
      "text/plain": [
       "DecisionTreeClassifier()"
      ]
     },
     "execution_count": 45,
     "metadata": {},
     "output_type": "execute_result"
    }
   ],
   "source": [
    "modelDT = DecisionTreeClassifier()\n",
    "modelDT.fit(X_train, y_train)"
   ]
  },
  {
   "cell_type": "code",
   "execution_count": 46,
   "metadata": {},
   "outputs": [],
   "source": [
    "y_pred = modelDT.predict(X_validate)"
   ]
  },
  {
   "cell_type": "code",
   "execution_count": 47,
   "metadata": {},
   "outputs": [
    {
     "name": "stdout",
     "output_type": "stream",
     "text": [
      "The defined three has a depth of 27, 2039 nodes and a total of 1020 leaves.\n"
     ]
    }
   ],
   "source": [
    "print('The defined three has a depth of ' + str(modelDT.get_depth()) + ', ' + str(modelDT.tree_.node_count) + \n",
    "      ' nodes and a total of ' + str(modelDT.get_n_leaves()) + ' leaves.')"
   ]
  },
  {
   "cell_type": "code",
   "execution_count": 48,
   "metadata": {},
   "outputs": [
    {
     "data": {
      "text/plain": [
       "array([[1., 0.],\n",
       "       [1., 0.],\n",
       "       [1., 0.],\n",
       "       ...,\n",
       "       [1., 0.],\n",
       "       [1., 0.],\n",
       "       [1., 0.]])"
      ]
     },
     "execution_count": 48,
     "metadata": {},
     "output_type": "execute_result"
    }
   ],
   "source": [
    "modelDT.predict_proba(X_validate)"
   ]
  },
  {
   "cell_type": "code",
   "execution_count": 49,
   "metadata": {},
   "outputs": [
    {
     "data": {
      "text/plain": [
       "1.0"
      ]
     },
     "execution_count": 49,
     "metadata": {},
     "output_type": "execute_result"
    }
   ],
   "source": [
    "modelDT.score(X_train, y_train)"
   ]
  },
  {
   "cell_type": "code",
   "execution_count": 50,
   "metadata": {},
   "outputs": [
    {
     "data": {
      "text/plain": [
       "0.670837343599615"
      ]
     },
     "execution_count": 50,
     "metadata": {},
     "output_type": "execute_result"
    }
   ],
   "source": [
    "modelDT.score(X_val, y_validate)"
   ]
  },
  {
   "cell_type": "code",
   "execution_count": 51,
   "metadata": {},
   "outputs": [
    {
     "data": {
      "text/plain": [
       "array([0.02898087, 0.03769061, 0.02856089, 0.02071005, 0.02849485,\n",
       "       0.03623071, 0.16608369, 0.02639686, 0.0176277 , 0.02181276,\n",
       "       0.00894256, 0.38639164, 0.02435652, 0.06362178, 0.01307306,\n",
       "       0.02159731, 0.01833562, 0.02375079, 0.01618508, 0.01115665])"
      ]
     },
     "execution_count": 51,
     "metadata": {},
     "output_type": "execute_result"
    }
   ],
   "source": [
    "modelDT.feature_importances_"
   ]
  },
  {
   "cell_type": "code",
   "execution_count": 52,
   "metadata": {},
   "outputs": [],
   "source": [
    "def plot_feature_importances(model):\n",
    "    n_features = X_train.shape[1]\n",
    "    plt.figure(figsize=(20,10))\n",
    "    plt.barh(range(n_features), model.feature_importances_, align='center')\n",
    "    plt.yticks(np.arange(n_features), X_train.columns)\n",
    "    plt.xlabel(\"Feature importance\")\n",
    "    plt.ylabel(\"Feature\")\n",
    "    plt.show()"
   ]
  },
  {
   "cell_type": "code",
   "execution_count": 53,
   "metadata": {},
   "outputs": [
    {
     "data": {
      "image/png": "[encoded data removed]",
      "text/plain": [
       "<Figure size 1440x720 with 1 Axes>"
      ]
     },
     "metadata": {
      "needs_background": "light"
     },
     "output_type": "display_data"
    }
   ],
   "source": [
    "plot_feature_importances(modelDT)"
   ]
  },
  {
   "cell_type": "markdown",
   "metadata": {},
   "source": [
    "<h3>Logistic Regression</h3>"
   ]
  },
  {
   "cell_type": "code",
   "execution_count": 54,
   "metadata": {},
   "outputs": [
    {
     "data": {
      "text/plain": [
       "LogisticRegression(class_weight='balanced')"
      ]
     },
     "execution_count": 54,
     "metadata": {},
     "output_type": "execute_result"
    }
   ],
   "source": [
    "# Create the model\n",
    "log_reg = LogisticRegression(class_weight='balanced')\n",
    "# Fit the model\n",
    "log_reg.fit(X_train, y_train)"
   ]
  },
  {
   "cell_type": "code",
   "execution_count": 55,
   "metadata": {},
   "outputs": [],
   "source": [
    "labels_train = log_reg.predict(X_train)\n",
    "labels_val = log_reg.predict(X_validate)"
   ]
  },
  {
   "cell_type": "code",
   "execution_count": 56,
   "metadata": {},
   "outputs": [
    {
     "data": {
      "text/plain": [
       "array([[0.67647761, 0.32352239],\n",
       "       [0.97652934, 0.02347066],\n",
       "       [0.45175972, 0.54824028],\n",
       "       ...,\n",
       "       [0.93256106, 0.06743894],\n",
       "       [0.97080181, 0.02919819],\n",
       "       [0.81263329, 0.18736671]])"
      ]
     },
     "execution_count": 56,
     "metadata": {},
     "output_type": "execute_result"
    }
   ],
   "source": [
    "log_reg.predict_proba(X_validate)"
   ]
  },
  {
   "cell_type": "code",
   "execution_count": 57,
   "metadata": {},
   "outputs": [
    {
     "name": "stdout",
     "output_type": "stream",
     "text": [
      "Train: 0.8159857660986793\n",
      "Validation: 0.8179640718562875\n"
     ]
    }
   ],
   "source": [
    "print('Train:', f1_score(y_train, labels_train))\n",
    "print('Validation:', f1_score(y_validate, labels_val))"
   ]
  },
  {
   "cell_type": "code",
   "execution_count": 58,
   "metadata": {},
   "outputs": [
    {
     "name": "stdout",
     "output_type": "stream",
     "text": [
      "----------------------- TRAIN -----------------------\n",
      "              precision    recall  f1-score   support\n",
      "\n",
      "           0       0.86      0.82      0.84      8477\n",
      "           1       0.79      0.84      0.82      7112\n",
      "\n",
      "    accuracy                           0.83     15589\n",
      "   macro avg       0.83      0.83      0.83     15589\n",
      "weighted avg       0.83      0.83      0.83     15589\n",
      "\n",
      "--------------------- VALIDATION ---------------------\n",
      "              precision    recall  f1-score   support\n",
      "\n",
      "           0       0.88      0.79      0.83      2831\n",
      "           1       0.77      0.87      0.82      2364\n",
      "\n",
      "    accuracy                           0.82      5195\n",
      "   macro avg       0.83      0.83      0.82      5195\n",
      "weighted avg       0.83      0.82      0.82      5195\n",
      "\n"
     ]
    }
   ],
   "source": [
    "print('----------------------- TRAIN -----------------------')\n",
    "print(classification_report(y_train, labels_train))\n",
    "print('--------------------- VALIDATION ---------------------')\n",
    "print(classification_report(y_validate, labels_val))"
   ]
  },
  {
   "cell_type": "markdown",
   "metadata": {},
   "source": [
    "<h3>Neural Networks</h3>"
   ]
  },
  {
   "cell_type": "code",
   "execution_count": 59,
   "metadata": {},
   "outputs": [],
   "source": [
    "def avg_score(model):\n",
    "    score_train = []\n",
    "    score_val = []\n",
    "    timer = []\n",
    "    \n",
    "    for i in range(10):\n",
    "        begin = time.perf_counter() # start counting time\n",
    "        model.fit(X_train, y_train) # fit your model to your training data\n",
    "        end = time.perf_counter() # stop counting time\n",
    "        \n",
    "        value_train = model.score(X_train, y_train) # mean accuracy for train\n",
    "        value_val = model.score(X_val, y_validate) # mean accuracy for validation\n",
    "        score_train.append(value_train) # append the mean accuracy in train to your list score_train\n",
    "        score_val.append(value_val) # append the mean accuracy in validation to your list score_val\n",
    "        timer.append(end-begin) # append the time to your list timer\n",
    "    \n",
    "    avg_time = round(np.mean(timer),3) # check the mean value of training time for your 10 models \n",
    "    avg_train = round(np.mean(score_train),3) # check the mean accuracy in train for your 10 models\n",
    "    avg_val = round(np.mean(score_val),3) # check the mean accuracy in validation for your 10 models\n",
    "    std_time = round(np.std(timer),2) # check the standard deviation of training time for your 10 models\n",
    "    std_train = round(np.std(score_train),2) # check the standard deviation of the mean accuracy in train for your 10 models\n",
    "    std_val = round(np.std(score_val),2) # check the standard deviation of the mean accuracy in validation for your 10 models\n",
    "    \n",
    "    return str(avg_time) + '+/-' + str(std_time), str(avg_train) + '+/-' + str(std_train),\\\n",
    "str(avg_val) + '+/-' + str(std_val)"
   ]
  },
  {
   "cell_type": "code",
   "execution_count": 60,
   "metadata": {},
   "outputs": [],
   "source": [
    "def show_results(df, models):\n",
    "    \"\"\"\n",
    "    Receive an empty dataframe and the different models and call the function avg_score\n",
    "    \"\"\"\n",
    "    count = 0\n",
    "    # for each model passed as argument\n",
    "    for model in models:\n",
    "        # obtain the results provided by avg_score\n",
    "        time, avg_train, avg_val = avg_score(model)\n",
    "        # store the results in the right row\n",
    "        df.iloc[count] = time, avg_train, avg_val\n",
    "        count+=1\n",
    "    return df"
   ]
  },
  {
   "cell_type": "code",
   "execution_count": 61,
   "metadata": {},
   "outputs": [],
   "source": [
    "model = MLPClassifier()"
   ]
  },
  {
   "cell_type": "code",
   "execution_count": null,
   "metadata": {},
   "outputs": [],
   "source": [
    "df = pd.DataFrame(columns = ['Time','Train','Validation'], index = ['Raw'])\n",
    "show_results(df, [model])"
   ]
  },
  {
   "cell_type": "code",
   "execution_count": null,
   "metadata": {},
   "outputs": [],
   "source": [
    "model_simple = MLPClassifier(hidden_layer_sizes=(5))\n",
    "model_medium = MLPClassifier(hidden_layer_sizes=(10,10))\n",
    "model_complex = MLPClassifier(hidden_layer_sizes=(20, 20))\n",
    "\n",
    "df = pd.DataFrame(columns = ['Time','Train','Validation'], index = ['Simple','Medium','Complex'])\n",
    "show_results(df, [model_simple, model_medium, model_complex])"
   ]
  }
 ],
 "metadata": {
  "kernelspec": {
   "display_name": "Python 3 (ipykernel)",
   "language": "python",
   "name": "python3"
  },
  "language_info": {
   "codemirror_mode": {
    "name": "ipython",
    "version": 3
   },
   "file_extension": ".py",
   "mimetype": "text/x-python",
   "name": "python",
   "nbconvert_exporter": "python",
   "pygments_lexer": "ipython3",
   "version": "3.10.2"
  }
 },
 "nbformat": 4,
 "nbformat_minor": 4
}
