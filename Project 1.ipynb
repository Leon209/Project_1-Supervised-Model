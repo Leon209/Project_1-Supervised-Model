{
 "cells": [
  {
   "cell_type": "markdown",
   "metadata": {},
   "source": [
    "<h5>Imports be here<h5>"
   ]
  },
  {
   "cell_type": "code",
   "execution_count": 4,
   "metadata": {},
   "outputs": [],
   "source": [
    "import pandas as pd\n",
    "import matplotlib.pyplot as plt\n",
    "%matplotlib inline\n",
    "import seaborn as sns\n",
    "from pathlib import Path"
   ]
  },
  {
   "cell_type": "markdown",
   "metadata": {},
   "source": [
    "<p>Reading the document<p>"
   ]
  },
  {
   "cell_type": "code",
   "execution_count": 5,
   "metadata": {},
   "outputs": [],
   "source": [
    "#Open Excel files with different extensions\n",
    "filename = 'train.csv'\n",
    "file_path = Path(filename)\n",
    "file_extension = file_path.suffix.lower()[1:]\n",
    "\n",
    "if file_extension == 'xlsx':\n",
    "    data = pd.read_excel(file_path, engine='openpyxl')\n",
    "elif file_extension == 'xls':\n",
    "    data = pd.read_excel(file_path)\n",
    "elif file_extension == 'csv':\n",
    "    data = pd.read_csv(file_path)\n",
    "else:\n",
    "    raise Exception(\"File not supported\")\n"
   ]
  },
  {
   "cell_type": "code",
   "execution_count": 6,
   "metadata": {},
   "outputs": [
    {
     "data": {
      "text/html": [
       "<div>\n",
       "<style scoped>\n",
       "    .dataframe tbody tr th:only-of-type {\n",
       "        vertical-align: middle;\n",
       "    }\n",
       "\n",
       "    .dataframe tbody tr th {\n",
       "        vertical-align: top;\n",
       "    }\n",
       "\n",
       "    .dataframe thead th {\n",
       "        text-align: right;\n",
       "    }\n",
       "</style>\n",
       "<table border=\"1\" class=\"dataframe\">\n",
       "  <thead>\n",
       "    <tr style=\"text-align: right;\">\n",
       "      <th></th>\n",
       "      <th>Cust_ID;Churn;Name;Longevity;Year_Birth;TypeTravel;RoomType;RewardPoints;Comfort;ReceptionSchedule;FoodDrink;Location;Wifi;Amenities;Staff;OnlineBooking;PriceQuality;RoomSpace;CheckOut;Checkin;Cleanliness;BarService</th>\n",
       "    </tr>\n",
       "  </thead>\n",
       "  <tbody>\n",
       "    <tr>\n",
       "      <th>0</th>\n",
       "      <td>1;churn;Ms. Nicole Clarke;yes;1974;business;si...</td>\n",
       "    </tr>\n",
       "    <tr>\n",
       "      <th>1</th>\n",
       "      <td>2;nochurn;Mr. Jesse Scott;yes;1965;business;si...</td>\n",
       "    </tr>\n",
       "    <tr>\n",
       "      <th>2</th>\n",
       "      <td>3;churn;Mr. Christopher Carter;yes;1973;busine...</td>\n",
       "    </tr>\n",
       "    <tr>\n",
       "      <th>3</th>\n",
       "      <td>4;nochurn;Ms. Jennifer Morgan;yes;1993;leisure...</td>\n",
       "    </tr>\n",
       "    <tr>\n",
       "      <th>4</th>\n",
       "      <td>5;nochurn;Mr. Michael White;yes;1989;business;...</td>\n",
       "    </tr>\n",
       "  </tbody>\n",
       "</table>\n",
       "</div>"
      ],
      "text/plain": [
       "  Cust_ID;Churn;Name;Longevity;Year_Birth;TypeTravel;RoomType;RewardPoints;Comfort;ReceptionSchedule;FoodDrink;Location;Wifi;Amenities;Staff;OnlineBooking;PriceQuality;RoomSpace;CheckOut;Checkin;Cleanliness;BarService\n",
       "0  1;churn;Ms. Nicole Clarke;yes;1974;business;si...                                                                                                                                                                     \n",
       "1  2;nochurn;Mr. Jesse Scott;yes;1965;business;si...                                                                                                                                                                     \n",
       "2  3;churn;Mr. Christopher Carter;yes;1973;busine...                                                                                                                                                                     \n",
       "3  4;nochurn;Ms. Jennifer Morgan;yes;1993;leisure...                                                                                                                                                                     \n",
       "4  5;nochurn;Mr. Michael White;yes;1989;business;...                                                                                                                                                                     "
      ]
     },
     "execution_count": 6,
     "metadata": {},
     "output_type": "execute_result"
    }
   ],
   "source": [
    "data.head()"
   ]
  },
  {
   "cell_type": "code",
   "execution_count": 7,
   "metadata": {},
   "outputs": [
    {
     "name": "stdout",
     "output_type": "stream",
     "text": [
      "<class 'pandas.core.frame.DataFrame'>\n",
      "RangeIndex: 15589 entries, 0 to 15588\n",
      "Data columns (total 1 columns):\n",
      " #   Column                                                                                                                                                                                                                   Non-Null Count  Dtype \n",
      "---  ------                                                                                                                                                                                                                   --------------  ----- \n",
      " 0   Cust_ID;Churn;Name;Longevity;Year_Birth;TypeTravel;RoomType;RewardPoints;Comfort;ReceptionSchedule;FoodDrink;Location;Wifi;Amenities;Staff;OnlineBooking;PriceQuality;RoomSpace;CheckOut;Checkin;Cleanliness;BarService  15589 non-null  object\n",
      "dtypes: object(1)\n",
      "memory usage: 121.9+ KB\n"
     ]
    }
   ],
   "source": [
    "data.info()"
   ]
  },
  {
   "cell_type": "code",
   "execution_count": 8,
   "metadata": {},
   "outputs": [
    {
     "data": {
      "text/plain": [
       "(15589, 1)"
      ]
     },
     "execution_count": 8,
     "metadata": {},
     "output_type": "execute_result"
    }
   ],
   "source": [
    "data.shape"
   ]
  },
  {
   "cell_type": "code",
   "execution_count": 9,
   "metadata": {},
   "outputs": [],
   "source": [
    "data2 = data.copy()"
   ]
  },
  {
   "cell_type": "code",
   "execution_count": null,
   "metadata": {},
   "outputs": [],
   "source": []
  }
 ],
 "metadata": {
  "kernelspec": {
   "display_name": "Python 3 (ipykernel)",
   "language": "python",
   "name": "python3"
  },
  "language_info": {
   "codemirror_mode": {
    "name": "ipython",
    "version": 3
   },
   "file_extension": ".py",
   "mimetype": "text/x-python",
   "name": "python",
   "nbconvert_exporter": "python",
   "pygments_lexer": "ipython3",
   "version": "3.9.7"
  }
 },
 "nbformat": 4,
 "nbformat_minor": 4
}
